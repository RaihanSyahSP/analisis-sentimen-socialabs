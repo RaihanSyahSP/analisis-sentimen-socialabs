{
 "cells": [
  {
   "cell_type": "code",
   "execution_count": 1,
   "metadata": {},
   "outputs": [],
   "source": [
    "import tensorflow as tf\n",
    "import numpy as np\n",
    "import matplotlib.pyplot as plt\n",
    "import pandas as pd\n",
    "\n",
    "from tensorflow.keras.preprocessing.text import Tokenizer\n",
    "from tensorflow.keras.preprocessing.sequence import pad_sequences"
   ]
  },
  {
   "cell_type": "code",
   "execution_count": 2,
   "metadata": {},
   "outputs": [
    {
     "name": "stdout",
     "output_type": "stream",
     "text": [
      "Tensorflow version: 2.15.0\n"
     ]
    }
   ],
   "source": [
    "print(\"Tensorflow version:\", tf.__version__)"
   ]
  },
  {
   "cell_type": "markdown",
   "metadata": {},
   "source": [
    "## Prepare Dataset"
   ]
  },
  {
   "cell_type": "code",
   "execution_count": 3,
   "metadata": {},
   "outputs": [],
   "source": [
    "# train_dataset_path = './dataset/dataset-raw-asli/train_preprocess.tsv'\n",
    "# valid_dataset_path = './dataset/dataset-raw-asli/valid_preprocess.tsv'\n",
    "\n",
    "train_df_path = './dataset/indo-nlu-socialabs-penelitian-merged-new-clean.csv'\n"
   ]
  },
  {
   "cell_type": "code",
   "execution_count": 4,
   "metadata": {},
   "outputs": [],
   "source": [
    "# train_df = pd.read_csv(train_dataset_path, sep='\\t', header=None)\n",
    "# valid_df = pd.read_csv(valid_dataset_path, sep='\\t', header=None)\n",
    "\n",
    "# train_df.columns = ['text', 'label']\n",
    "# valid_df.columns = ['text', 'label']\n",
    "\n",
    "train_df = pd.read_csv(train_df_path, sep=',', header=None, usecols=[1,2], skiprows=1)\n",
    "\n",
    "# train_df = pd.read_csv(train_dataset_path, sep=',', header=None, usecols=[1,2], skiprows=1)\n",
    "# valid_df = pd.read_csv(valid_dataset_path, sep=',', header=None, usecols=[1,2], skiprows=1)\n",
    "\n",
    "train_df.columns = ['label', 'tweet_tokens_no_stemming']\n",
    "# valid_df.columns = ['label', 'tweet_tokens_no_stemming']"
   ]
  },
  {
   "cell_type": "code",
   "execution_count": 5,
   "metadata": {},
   "outputs": [
    {
     "data": {
      "text/html": [
       "<div>\n",
       "<style scoped>\n",
       "    .dataframe tbody tr th:only-of-type {\n",
       "        vertical-align: middle;\n",
       "    }\n",
       "\n",
       "    .dataframe tbody tr th {\n",
       "        vertical-align: top;\n",
       "    }\n",
       "\n",
       "    .dataframe thead th {\n",
       "        text-align: right;\n",
       "    }\n",
       "</style>\n",
       "<table border=\"1\" class=\"dataframe\">\n",
       "  <thead>\n",
       "    <tr style=\"text-align: right;\">\n",
       "      <th></th>\n",
       "      <th>label</th>\n",
       "      <th>tweet_tokens_no_stemming</th>\n",
       "    </tr>\n",
       "  </thead>\n",
       "  <tbody>\n",
       "    <tr>\n",
       "      <th>0</th>\n",
       "      <td>positive</td>\n",
       "      <td>['warung', 'milik', 'usaha', 'pabrik', 'puluh'...</td>\n",
       "    </tr>\n",
       "    <tr>\n",
       "      <th>1</th>\n",
       "      <td>neutral</td>\n",
       "      <td>['mohon', 'ulama', 'lurus', 'mbri', 'hujah', '...</td>\n",
       "    </tr>\n",
       "    <tr>\n",
       "      <th>2</th>\n",
       "      <td>positive</td>\n",
       "      <td>['lokasi', 'strategis', 'jalan', 'sumatera', '...</td>\n",
       "    </tr>\n",
       "    <tr>\n",
       "      <th>3</th>\n",
       "      <td>positive</td>\n",
       "      <td>['betapa', 'bahagia', 'sat', 'unboxing', 'pake...</td>\n",
       "    </tr>\n",
       "    <tr>\n",
       "      <th>4</th>\n",
       "      <td>negative</td>\n",
       "      <td>['duh', 'mahasiswa', 'jangan_sombong', 'kasih'...</td>\n",
       "    </tr>\n",
       "    <tr>\n",
       "      <th>5</th>\n",
       "      <td>positive</td>\n",
       "      <td>['makan', 'agam', 'harga', 'makan', 'fod', 'st...</td>\n",
       "    </tr>\n",
       "    <tr>\n",
       "      <th>6</th>\n",
       "      <td>negative</td>\n",
       "      <td>['pakai', 'kartu', 'kredit', 'baca', 'tidak_un...</td>\n",
       "    </tr>\n",
       "    <tr>\n",
       "      <th>7</th>\n",
       "      <td>positive</td>\n",
       "      <td>['unik', 'bagus', 'foto-foto', 'makan', 'enak'...</td>\n",
       "    </tr>\n",
       "    <tr>\n",
       "      <th>8</th>\n",
       "      <td>positive</td>\n",
       "      <td>['keluarga', 'nikmat', 'alam', 'kuliner', 'sen...</td>\n",
       "    </tr>\n",
       "    <tr>\n",
       "      <th>9</th>\n",
       "      <td>positive</td>\n",
       "      <td>['syukur']</td>\n",
       "    </tr>\n",
       "  </tbody>\n",
       "</table>\n",
       "</div>"
      ],
      "text/plain": [
       "      label                           tweet_tokens_no_stemming\n",
       "0  positive  ['warung', 'milik', 'usaha', 'pabrik', 'puluh'...\n",
       "1   neutral  ['mohon', 'ulama', 'lurus', 'mbri', 'hujah', '...\n",
       "2  positive  ['lokasi', 'strategis', 'jalan', 'sumatera', '...\n",
       "3  positive  ['betapa', 'bahagia', 'sat', 'unboxing', 'pake...\n",
       "4  negative  ['duh', 'mahasiswa', 'jangan_sombong', 'kasih'...\n",
       "5  positive  ['makan', 'agam', 'harga', 'makan', 'fod', 'st...\n",
       "6  negative  ['pakai', 'kartu', 'kredit', 'baca', 'tidak_un...\n",
       "7  positive  ['unik', 'bagus', 'foto-foto', 'makan', 'enak'...\n",
       "8  positive  ['keluarga', 'nikmat', 'alam', 'kuliner', 'sen...\n",
       "9  positive                                         ['syukur']"
      ]
     },
     "execution_count": 5,
     "metadata": {},
     "output_type": "execute_result"
    }
   ],
   "source": [
    "train_df.head(10)"
   ]
  },
  {
   "cell_type": "code",
   "execution_count": 6,
   "metadata": {},
   "outputs": [
    {
     "data": {
      "text/html": [
       "<div>\n",
       "<style scoped>\n",
       "    .dataframe tbody tr th:only-of-type {\n",
       "        vertical-align: middle;\n",
       "    }\n",
       "\n",
       "    .dataframe tbody tr th {\n",
       "        vertical-align: top;\n",
       "    }\n",
       "\n",
       "    .dataframe thead th {\n",
       "        text-align: right;\n",
       "    }\n",
       "</style>\n",
       "<table border=\"1\" class=\"dataframe\">\n",
       "  <thead>\n",
       "    <tr style=\"text-align: right;\">\n",
       "      <th></th>\n",
       "      <th>label</th>\n",
       "      <th>tweet_tokens_no_stemming</th>\n",
       "    </tr>\n",
       "  </thead>\n",
       "  <tbody>\n",
       "    <tr>\n",
       "      <th>0</th>\n",
       "      <td>positive</td>\n",
       "      <td>['warung', 'milik', 'usaha', 'pabrik', 'puluh'...</td>\n",
       "    </tr>\n",
       "    <tr>\n",
       "      <th>1</th>\n",
       "      <td>neutral</td>\n",
       "      <td>['mohon', 'ulama', 'lurus', 'mbri', 'hujah', '...</td>\n",
       "    </tr>\n",
       "    <tr>\n",
       "      <th>2</th>\n",
       "      <td>positive</td>\n",
       "      <td>['lokasi', 'strategis', 'jalan', 'sumatera', '...</td>\n",
       "    </tr>\n",
       "    <tr>\n",
       "      <th>3</th>\n",
       "      <td>positive</td>\n",
       "      <td>['betapa', 'bahagia', 'sat', 'unboxing', 'pake...</td>\n",
       "    </tr>\n",
       "    <tr>\n",
       "      <th>4</th>\n",
       "      <td>negative</td>\n",
       "      <td>['duh', 'mahasiswa', 'jangan_sombong', 'kasih'...</td>\n",
       "    </tr>\n",
       "    <tr>\n",
       "      <th>5</th>\n",
       "      <td>positive</td>\n",
       "      <td>['makan', 'agam', 'harga', 'makan', 'fod', 'st...</td>\n",
       "    </tr>\n",
       "    <tr>\n",
       "      <th>6</th>\n",
       "      <td>negative</td>\n",
       "      <td>['pakai', 'kartu', 'kredit', 'baca', 'tidak_un...</td>\n",
       "    </tr>\n",
       "    <tr>\n",
       "      <th>7</th>\n",
       "      <td>positive</td>\n",
       "      <td>['unik', 'bagus', 'foto-foto', 'makan', 'enak'...</td>\n",
       "    </tr>\n",
       "    <tr>\n",
       "      <th>8</th>\n",
       "      <td>positive</td>\n",
       "      <td>['keluarga', 'nikmat', 'alam', 'kuliner', 'sen...</td>\n",
       "    </tr>\n",
       "    <tr>\n",
       "      <th>9</th>\n",
       "      <td>positive</td>\n",
       "      <td>['syukur']</td>\n",
       "    </tr>\n",
       "  </tbody>\n",
       "</table>\n",
       "</div>"
      ],
      "text/plain": [
       "      label                           tweet_tokens_no_stemming\n",
       "0  positive  ['warung', 'milik', 'usaha', 'pabrik', 'puluh'...\n",
       "1   neutral  ['mohon', 'ulama', 'lurus', 'mbri', 'hujah', '...\n",
       "2  positive  ['lokasi', 'strategis', 'jalan', 'sumatera', '...\n",
       "3  positive  ['betapa', 'bahagia', 'sat', 'unboxing', 'pake...\n",
       "4  negative  ['duh', 'mahasiswa', 'jangan_sombong', 'kasih'...\n",
       "5  positive  ['makan', 'agam', 'harga', 'makan', 'fod', 'st...\n",
       "6  negative  ['pakai', 'kartu', 'kredit', 'baca', 'tidak_un...\n",
       "7  positive  ['unik', 'bagus', 'foto-foto', 'makan', 'enak'...\n",
       "8  positive  ['keluarga', 'nikmat', 'alam', 'kuliner', 'sen...\n",
       "9  positive                                         ['syukur']"
      ]
     },
     "execution_count": 6,
     "metadata": {},
     "output_type": "execute_result"
    }
   ],
   "source": [
    "train_df.head(10)"
   ]
  },
  {
   "cell_type": "code",
   "execution_count": 7,
   "metadata": {},
   "outputs": [],
   "source": [
    "def get_label_idx(label):\n",
    "    if label == 'positive':\n",
    "        return 2\n",
    "    if label == 'negative':\n",
    "        return 1\n",
    "    if label == 'neutral':\n",
    "        return 0\n",
    "train_df['label'] = train_df['label'].apply(get_label_idx)\n",
    "# valid_df['label'] = valid_df['label'].apply(get_label_idx)\n"
   ]
  },
  {
   "cell_type": "code",
   "execution_count": 8,
   "metadata": {},
   "outputs": [
    {
     "data": {
      "text/html": [
       "<div>\n",
       "<style scoped>\n",
       "    .dataframe tbody tr th:only-of-type {\n",
       "        vertical-align: middle;\n",
       "    }\n",
       "\n",
       "    .dataframe tbody tr th {\n",
       "        vertical-align: top;\n",
       "    }\n",
       "\n",
       "    .dataframe thead th {\n",
       "        text-align: right;\n",
       "    }\n",
       "</style>\n",
       "<table border=\"1\" class=\"dataframe\">\n",
       "  <thead>\n",
       "    <tr style=\"text-align: right;\">\n",
       "      <th></th>\n",
       "      <th>label</th>\n",
       "      <th>tweet_tokens_no_stemming</th>\n",
       "    </tr>\n",
       "  </thead>\n",
       "  <tbody>\n",
       "    <tr>\n",
       "      <th>0</th>\n",
       "      <td>2</td>\n",
       "      <td>['warung', 'milik', 'usaha', 'pabrik', 'puluh'...</td>\n",
       "    </tr>\n",
       "    <tr>\n",
       "      <th>1</th>\n",
       "      <td>0</td>\n",
       "      <td>['mohon', 'ulama', 'lurus', 'mbri', 'hujah', '...</td>\n",
       "    </tr>\n",
       "    <tr>\n",
       "      <th>2</th>\n",
       "      <td>2</td>\n",
       "      <td>['lokasi', 'strategis', 'jalan', 'sumatera', '...</td>\n",
       "    </tr>\n",
       "    <tr>\n",
       "      <th>3</th>\n",
       "      <td>2</td>\n",
       "      <td>['betapa', 'bahagia', 'sat', 'unboxing', 'pake...</td>\n",
       "    </tr>\n",
       "    <tr>\n",
       "      <th>4</th>\n",
       "      <td>1</td>\n",
       "      <td>['duh', 'mahasiswa', 'jangan_sombong', 'kasih'...</td>\n",
       "    </tr>\n",
       "    <tr>\n",
       "      <th>...</th>\n",
       "      <td>...</td>\n",
       "      <td>...</td>\n",
       "    </tr>\n",
       "    <tr>\n",
       "      <th>43451</th>\n",
       "      <td>2</td>\n",
       "      <td>['memoisturizer', 'cosrx', 'oil', 'fre', 'memo...</td>\n",
       "    </tr>\n",
       "    <tr>\n",
       "      <th>43452</th>\n",
       "      <td>2</td>\n",
       "      <td>['suka', 'memoisturizer', 'cosrx', 'harga', 'l...</td>\n",
       "    </tr>\n",
       "    <tr>\n",
       "      <th>43453</th>\n",
       "      <td>2</td>\n",
       "      <td>['lintang', 'kemari', 'pakai', 'hadalabo', 'me...</td>\n",
       "    </tr>\n",
       "    <tr>\n",
       "      <th>43454</th>\n",
       "      <td>2</td>\n",
       "      <td>['memoisturizer', 'baik', 'natrep', 'lacto', '...</td>\n",
       "    </tr>\n",
       "    <tr>\n",
       "      <th>43455</th>\n",
       "      <td>2</td>\n",
       "      <td>['progres', 'kulit', 'sete', 'pakai', 'memoist...</td>\n",
       "    </tr>\n",
       "  </tbody>\n",
       "</table>\n",
       "<p>43456 rows × 2 columns</p>\n",
       "</div>"
      ],
      "text/plain": [
       "       label                           tweet_tokens_no_stemming\n",
       "0          2  ['warung', 'milik', 'usaha', 'pabrik', 'puluh'...\n",
       "1          0  ['mohon', 'ulama', 'lurus', 'mbri', 'hujah', '...\n",
       "2          2  ['lokasi', 'strategis', 'jalan', 'sumatera', '...\n",
       "3          2  ['betapa', 'bahagia', 'sat', 'unboxing', 'pake...\n",
       "4          1  ['duh', 'mahasiswa', 'jangan_sombong', 'kasih'...\n",
       "...      ...                                                ...\n",
       "43451      2  ['memoisturizer', 'cosrx', 'oil', 'fre', 'memo...\n",
       "43452      2  ['suka', 'memoisturizer', 'cosrx', 'harga', 'l...\n",
       "43453      2  ['lintang', 'kemari', 'pakai', 'hadalabo', 'me...\n",
       "43454      2  ['memoisturizer', 'baik', 'natrep', 'lacto', '...\n",
       "43455      2  ['progres', 'kulit', 'sete', 'pakai', 'memoist...\n",
       "\n",
       "[43456 rows x 2 columns]"
      ]
     },
     "execution_count": 8,
     "metadata": {},
     "output_type": "execute_result"
    }
   ],
   "source": [
    "train_df"
   ]
  },
  {
   "cell_type": "code",
   "execution_count": 9,
   "metadata": {},
   "outputs": [
    {
     "name": "stdout",
     "output_type": "stream",
     "text": [
      "Jumlah review positif: 21777\n",
      "Jumlah review negatif: 19416\n"
     ]
    }
   ],
   "source": [
    "jumlah_positives = (train_df['label'] == 2).sum()\n",
    "print(f'Jumlah review positif: {jumlah_positives}')\n",
    "\n",
    "jumlah_negatives = (train_df['label'] == 1).sum()\n",
    "print(f'Jumlah review negatif: {jumlah_negatives}')"
   ]
  },
  {
   "cell_type": "code",
   "execution_count": 10,
   "metadata": {},
   "outputs": [
    {
     "data": {
      "text/plain": [
       "0    warung milik usaha pabrik puluh tahun-tahun ke...\n",
       "1    mohon ulama lurus mbri hujah partai apa-apa di...\n",
       "2    lokasi strategis jalan sumatera bandung nyaman...\n",
       "3    betapa bahagia sat unboxing paket barang bagus...\n",
       "4    duh mahasiswa jangan_sombong kasih kartu kunin...\n",
       "Name: preprocessed, dtype: object"
      ]
     },
     "execution_count": 10,
     "metadata": {},
     "output_type": "execute_result"
    }
   ],
   "source": [
    "# join list of token as single document string\n",
    "import ast\n",
    "\n",
    "def join_text_list(texts):\n",
    "    texts = ast.literal_eval(texts)\n",
    "    return ' '.join([text for text in texts])\n",
    "train_df[\"preprocessed\"] = train_df[\"tweet_tokens_no_stemming\"].apply(join_text_list)\n",
    "# valid_df[\"preprocessed\"] = valid_df[\"tweet_tokens_no_stemming\"].apply(join_text_list)\n",
    "\n",
    "train_df[\"preprocessed\"].head()"
   ]
  },
  {
   "cell_type": "code",
   "execution_count": 11,
   "metadata": {},
   "outputs": [],
   "source": [
    "# Filter DataFrame untuk label 1 dan 2\n",
    "df_train_filtered = train_df[train_df['label'].isin([1, 2])]\n",
    "# df_valid_filtered = valid_df[valid_df['label'].isin([1, 2])]\n",
    "\n",
    "# Perbarui label sehingga label 1 menjadi 0 dan label 2 menjadi 1\n",
    "df_train_filtered.loc[:, 'label'] = df_train_filtered['label'].map({1: 0, 2: 1})\n",
    "# df_valid_filtered.loc[:, 'label'] = df_valid_filtered['label'].map({1: 0, 2: 1})\n",
    "\n",
    "\n",
    "# Split dataset menjadi fitur (X) dan label (y)\n",
    "X_train = df_train_filtered['preprocessed']\n",
    "y_train = df_train_filtered['label']\n",
    "\n",
    "# X_valid = df_valid_filtered['preprocessed']\n",
    "# y_valid = df_valid_filtered['label']"
   ]
  },
  {
   "cell_type": "code",
   "execution_count": 12,
   "metadata": {},
   "outputs": [
    {
     "name": "stdout",
     "output_type": "stream",
     "text": [
      "Jumlah review positif: 21777\n",
      "Jumlah review negatif: 19416\n"
     ]
    }
   ],
   "source": [
    "## hitung jumlah positive dan negative\n",
    "jumlah_positives = (y_train == 1).sum()\n",
    "print(f'Jumlah review positif: {jumlah_positives}')\n",
    "\n",
    "jumlah_negatives = (y_train == 0).sum()\n",
    "print(f'Jumlah review negatif: {jumlah_negatives}')\n",
    "\n",
    "# jumlah_positives = (y_valid == 1).sum()\n",
    "# print(f'Jumlah review positif: {jumlah_positives}')\n",
    "\n",
    "# jumlah_negatives = (y_valid == 0).sum()\n",
    "# print(f'Jumlah review negatif: {jumlah_negatives}')"
   ]
  },
  {
   "cell_type": "code",
   "execution_count": 13,
   "metadata": {},
   "outputs": [],
   "source": [
    "##split dataset\n",
    "from sklearn.model_selection import train_test_split\n",
    "\n",
    "X_train, X_valid, y_train, y_valid = train_test_split(X_train, y_train, test_size=0.1, random_state=42)"
   ]
  },
  {
   "cell_type": "code",
   "execution_count": 14,
   "metadata": {},
   "outputs": [
    {
     "name": "stdout",
     "output_type": "stream",
     "text": [
      "Average length of sentences: 16.17435869770453\n"
     ]
    }
   ],
   "source": [
    "# average length X_valid sentences\n",
    "avg_len = np.mean(X_train.apply(lambda x: len(x.split())))\n",
    "print(f'Average length of sentences: {avg_len}')"
   ]
  },
  {
   "cell_type": "markdown",
   "metadata": {},
   "source": [
    "## Generate Padded Sequence"
   ]
  },
  {
   "cell_type": "code",
   "execution_count": 15,
   "metadata": {},
   "outputs": [],
   "source": [
    "# Parameters\n",
    "\n",
    "vocab_size = 60000 #ukuran kosakata yang akan digunakan\n",
    "max_length = 50 #panjang maksimal dari sebuah kalimat\n",
    "embedding_dim = 8 #dimensi vektor embedding yang akan digunakan\n",
    "trunc_type='post' #jika panjang kalimat melebihi max_length, potong bagian belakang kalimat\n",
    "oov_tok = \"<OOV>\" #OOV (Out Of Vocabulary) token, jika suatu kata tidak ditemukan dalam kosakata"
   ]
  },
  {
   "cell_type": "code",
   "execution_count": 16,
   "metadata": {},
   "outputs": [],
   "source": [
    "from tensorflow.keras.preprocessing.text import Tokenizer\n",
    "from tensorflow.keras.preprocessing.sequence import pad_sequences\n",
    "import pandas as pd\n",
    "import re\n",
    "\n",
    "# Preprocess texts to retain underscore and tokenize specific punctuations\n",
    "def preprocess_text(text):\n",
    "    to_tokenize = '.,:;!?'\n",
    "    return re.sub(r'([' + re.escape(to_tokenize) + '])', r' \\1 ', text)\n",
    "\n",
    "# Apply preprocessing\n",
    "X_train = [preprocess_text(text) for text in X_train]\n",
    "X_valid = [preprocess_text(text) for text in X_valid]\n",
    "\n",
    "# Tokenisasi\n",
    "tokenizer = Tokenizer(num_words=vocab_size, oov_token=oov_tok, filters='!\"#$%&()*+-/:;<=>@[\\\\]^`{|}~\\t\\n')\n",
    "\n",
    "# Gabungkan semua teks untuk membuat kamus indeks kata\n",
    "all_texts = list(X_train) + list(X_valid)\n",
    "\n",
    "# Membuat kamus indeks kata\n",
    "tokenizer.fit_on_texts(all_texts)\n",
    "word_index = tokenizer.word_index\n",
    "word_index\n",
    "\n",
    "\n",
    "# Konversi kalimat menjadi urutan kata\n",
    "train_sequences = tokenizer.texts_to_sequences(X_train)\n",
    "train_padded = pad_sequences(train_sequences, maxlen=max_length, truncating=trunc_type, padding=\"post\")\n",
    "\n",
    "valid_sequences = tokenizer.texts_to_sequences(X_valid)\n",
    "valid_padded = pad_sequences(valid_sequences, maxlen=max_length, truncating=trunc_type, padding=\"post\")\n",
    "\n",
    "\n"
   ]
  },
  {
   "cell_type": "code",
   "execution_count": 17,
   "metadata": {},
   "outputs": [],
   "source": [
    "# import pickle\n",
    "\n",
    "# Simpan tokenizer ke dalam file\n",
    "# with open('tokenizer-2classes-no-stemming.pickle', 'wb') as handle:\n",
    "#     pickle.dump(tokenizer, handle, protocol=pickle.HIGHEST_PROTOCOL)\n"
   ]
  },
  {
   "cell_type": "code",
   "execution_count": 18,
   "metadata": {},
   "outputs": [
    {
     "name": "stdout",
     "output_type": "stream",
     "text": [
      "[  23  137  258   78 1528   20   20  188 1404    0    0    0    0    0\n",
      "    0    0    0    0    0    0    0    0    0    0    0    0    0    0\n",
      "    0    0    0    0    0    0    0    0    0    0    0    0    0    0\n",
      "    0    0    0    0    0    0    0    0]\n"
     ]
    }
   ],
   "source": [
    "print(train_padded[0])"
   ]
  },
  {
   "cell_type": "markdown",
   "metadata": {},
   "source": [
    "## Word Embedding"
   ]
  },
  {
   "cell_type": "code",
   "execution_count": 19,
   "metadata": {},
   "outputs": [],
   "source": [
    "from gensim.models import Word2Vec\n",
    "\n",
    "# Gabungkan data pelatihan dan validasi\n",
    "sentences = [sentence.split() for sentence in X_train] + [sentence.split() for sentence in X_valid]\n",
    "\n",
    "# Latih model Word2Vec\n",
    "w2v_model = Word2Vec(sentences, vector_size=8, window=5, min_count=5, workers=4)"
   ]
  },
  {
   "cell_type": "code",
   "execution_count": 20,
   "metadata": {},
   "outputs": [],
   "source": [
    "# Create a weight matrix for the embedding layer\n",
    "embedding_matrix = np.zeros((vocab_size, 8))\n",
    "for word, i in tokenizer.word_index.items():\n",
    "    if word in w2v_model.wv:\n",
    "        embedding_matrix[i] = w2v_model.wv[word]\n",
    "        "
   ]
  },
  {
   "cell_type": "code",
   "execution_count": 21,
   "metadata": {},
   "outputs": [
    {
     "data": {
      "text/plain": [
       "array([[ 0.        ,  0.        ,  0.        , ...,  0.        ,\n",
       "         0.        ,  0.        ],\n",
       "       [ 0.        ,  0.        ,  0.        , ...,  0.        ,\n",
       "         0.        ,  0.        ],\n",
       "       [-3.56538892, -1.68313646,  5.44907093, ..., -1.36489272,\n",
       "         2.03871679, -2.88615251],\n",
       "       ...,\n",
       "       [ 0.        ,  0.        ,  0.        , ...,  0.        ,\n",
       "         0.        ,  0.        ],\n",
       "       [ 0.        ,  0.        ,  0.        , ...,  0.        ,\n",
       "         0.        ,  0.        ],\n",
       "       [ 0.        ,  0.        ,  0.        , ...,  0.        ,\n",
       "         0.        ,  0.        ]])"
      ]
     },
     "execution_count": 21,
     "metadata": {},
     "output_type": "execute_result"
    }
   ],
   "source": [
    "embedding_matrix"
   ]
  },
  {
   "cell_type": "code",
   "execution_count": 22,
   "metadata": {},
   "outputs": [
    {
     "name": "stdout",
     "output_type": "stream",
     "text": [
      "('hotel', array([-1.89802265,  0.3666521 ,  3.49236679,  3.32634377, -1.89095259,\n",
      "       -1.80907118,  3.13452387, -2.61756802]))\n"
     ]
    }
   ],
   "source": [
    "# Mencari kata berdasarkan vektor tertentu\n",
    "def find_word_by_vector(embedding_matrix, vector):\n",
    "    for word, index in word_index.items():\n",
    "        if np.array_equal(embedding_matrix[index], vector):\n",
    "            return word, embedding_matrix[index]\n",
    "    return None\n",
    "\n",
    "# Contoh: Mencari kata untuk vektor embedding_matrix[3]\n",
    "word = find_word_by_vector(embedding_matrix, embedding_matrix[345])\n",
    "print(word)"
   ]
  },
  {
   "cell_type": "markdown",
   "metadata": {},
   "source": [
    "## Build and Compile Model"
   ]
  },
  {
   "cell_type": "code",
   "execution_count": 32,
   "metadata": {},
   "outputs": [
    {
     "name": "stderr",
     "output_type": "stream",
     "text": [
      "c:\\Users\\lenovo\\AppData\\Local\\Programs\\Python\\Python39\\lib\\site-packages\\keras\\src\\layers\\core\\embedding.py:81: UserWarning: Do not pass an `input_shape`/`input_dim` argument to a layer. When using Sequential models, prefer using an `Input(shape)` object as the first layer in the model instead.\n",
      "  super().__init__(**kwargs)\n"
     ]
    },
    {
     "data": {
      "text/html": [
       "<pre style=\"white-space:pre;overflow-x:auto;line-height:normal;font-family:Menlo,'DejaVu Sans Mono',consolas,'Courier New',monospace\"><span style=\"font-weight: bold\">Model: \"sequential_1\"</span>\n",
       "</pre>\n"
      ],
      "text/plain": [
       "\u001b[1mModel: \"sequential_1\"\u001b[0m\n"
      ]
     },
     "metadata": {},
     "output_type": "display_data"
    },
    {
     "data": {
      "text/html": [
       "<pre style=\"white-space:pre;overflow-x:auto;line-height:normal;font-family:Menlo,'DejaVu Sans Mono',consolas,'Courier New',monospace\">┏━━━━━━━━━━━━━━━━━━━━━━━━━━━━━━━━━┳━━━━━━━━━━━━━━━━━━━━━━━━━━━┳━━━━━━━━━━━━┓\n",
       "┃<span style=\"font-weight: bold\"> Layer (type)                    </span>┃<span style=\"font-weight: bold\"> Output Shape              </span>┃<span style=\"font-weight: bold\">    Param # </span>┃\n",
       "┡━━━━━━━━━━━━━━━━━━━━━━━━━━━━━━━━━╇━━━━━━━━━━━━━━━━━━━━━━━━━━━╇━━━━━━━━━━━━┩\n",
       "│ embedding_1 (<span style=\"color: #0087ff; text-decoration-color: #0087ff\">Embedding</span>)         │ (<span style=\"color: #00d7ff; text-decoration-color: #00d7ff\">None</span>, <span style=\"color: #00af00; text-decoration-color: #00af00\">50</span>, <span style=\"color: #00af00; text-decoration-color: #00af00\">8</span>)             │    <span style=\"color: #00af00; text-decoration-color: #00af00\">480,000</span> │\n",
       "├─────────────────────────────────┼───────────────────────────┼────────────┤\n",
       "│ conv1d_1 (<span style=\"color: #0087ff; text-decoration-color: #0087ff\">Conv1D</span>)               │ (<span style=\"color: #00d7ff; text-decoration-color: #00d7ff\">None</span>, <span style=\"color: #00af00; text-decoration-color: #00af00\">50</span>, <span style=\"color: #00af00; text-decoration-color: #00af00\">128</span>)           │      <span style=\"color: #00af00; text-decoration-color: #00af00\">5,248</span> │\n",
       "├─────────────────────────────────┼───────────────────────────┼────────────┤\n",
       "│ max_pooling1d_1 (<span style=\"color: #0087ff; text-decoration-color: #0087ff\">MaxPooling1D</span>)  │ (<span style=\"color: #00d7ff; text-decoration-color: #00d7ff\">None</span>, <span style=\"color: #00af00; text-decoration-color: #00af00\">25</span>, <span style=\"color: #00af00; text-decoration-color: #00af00\">128</span>)           │          <span style=\"color: #00af00; text-decoration-color: #00af00\">0</span> │\n",
       "├─────────────────────────────────┼───────────────────────────┼────────────┤\n",
       "│ bidirectional_1 (<span style=\"color: #0087ff; text-decoration-color: #0087ff\">Bidirectional</span>) │ (<span style=\"color: #00d7ff; text-decoration-color: #00d7ff\">None</span>, <span style=\"color: #00af00; text-decoration-color: #00af00\">256</span>)               │    <span style=\"color: #00af00; text-decoration-color: #00af00\">263,168</span> │\n",
       "├─────────────────────────────────┼───────────────────────────┼────────────┤\n",
       "│ dense_2 (<span style=\"color: #0087ff; text-decoration-color: #0087ff\">Dense</span>)                 │ (<span style=\"color: #00d7ff; text-decoration-color: #00d7ff\">None</span>, <span style=\"color: #00af00; text-decoration-color: #00af00\">16</span>)                │      <span style=\"color: #00af00; text-decoration-color: #00af00\">4,112</span> │\n",
       "├─────────────────────────────────┼───────────────────────────┼────────────┤\n",
       "│ dropout_1 (<span style=\"color: #0087ff; text-decoration-color: #0087ff\">Dropout</span>)             │ (<span style=\"color: #00d7ff; text-decoration-color: #00d7ff\">None</span>, <span style=\"color: #00af00; text-decoration-color: #00af00\">16</span>)                │          <span style=\"color: #00af00; text-decoration-color: #00af00\">0</span> │\n",
       "├─────────────────────────────────┼───────────────────────────┼────────────┤\n",
       "│ dense_3 (<span style=\"color: #0087ff; text-decoration-color: #0087ff\">Dense</span>)                 │ (<span style=\"color: #00d7ff; text-decoration-color: #00d7ff\">None</span>, <span style=\"color: #00af00; text-decoration-color: #00af00\">1</span>)                 │         <span style=\"color: #00af00; text-decoration-color: #00af00\">17</span> │\n",
       "└─────────────────────────────────┴───────────────────────────┴────────────┘\n",
       "</pre>\n"
      ],
      "text/plain": [
       "┏━━━━━━━━━━━━━━━━━━━━━━━━━━━━━━━━━┳━━━━━━━━━━━━━━━━━━━━━━━━━━━┳━━━━━━━━━━━━┓\n",
       "┃\u001b[1m \u001b[0m\u001b[1mLayer (type)                   \u001b[0m\u001b[1m \u001b[0m┃\u001b[1m \u001b[0m\u001b[1mOutput Shape             \u001b[0m\u001b[1m \u001b[0m┃\u001b[1m \u001b[0m\u001b[1m   Param #\u001b[0m\u001b[1m \u001b[0m┃\n",
       "┡━━━━━━━━━━━━━━━━━━━━━━━━━━━━━━━━━╇━━━━━━━━━━━━━━━━━━━━━━━━━━━╇━━━━━━━━━━━━┩\n",
       "│ embedding_1 (\u001b[38;5;33mEmbedding\u001b[0m)         │ (\u001b[38;5;45mNone\u001b[0m, \u001b[38;5;34m50\u001b[0m, \u001b[38;5;34m8\u001b[0m)             │    \u001b[38;5;34m480,000\u001b[0m │\n",
       "├─────────────────────────────────┼───────────────────────────┼────────────┤\n",
       "│ conv1d_1 (\u001b[38;5;33mConv1D\u001b[0m)               │ (\u001b[38;5;45mNone\u001b[0m, \u001b[38;5;34m50\u001b[0m, \u001b[38;5;34m128\u001b[0m)           │      \u001b[38;5;34m5,248\u001b[0m │\n",
       "├─────────────────────────────────┼───────────────────────────┼────────────┤\n",
       "│ max_pooling1d_1 (\u001b[38;5;33mMaxPooling1D\u001b[0m)  │ (\u001b[38;5;45mNone\u001b[0m, \u001b[38;5;34m25\u001b[0m, \u001b[38;5;34m128\u001b[0m)           │          \u001b[38;5;34m0\u001b[0m │\n",
       "├─────────────────────────────────┼───────────────────────────┼────────────┤\n",
       "│ bidirectional_1 (\u001b[38;5;33mBidirectional\u001b[0m) │ (\u001b[38;5;45mNone\u001b[0m, \u001b[38;5;34m256\u001b[0m)               │    \u001b[38;5;34m263,168\u001b[0m │\n",
       "├─────────────────────────────────┼───────────────────────────┼────────────┤\n",
       "│ dense_2 (\u001b[38;5;33mDense\u001b[0m)                 │ (\u001b[38;5;45mNone\u001b[0m, \u001b[38;5;34m16\u001b[0m)                │      \u001b[38;5;34m4,112\u001b[0m │\n",
       "├─────────────────────────────────┼───────────────────────────┼────────────┤\n",
       "│ dropout_1 (\u001b[38;5;33mDropout\u001b[0m)             │ (\u001b[38;5;45mNone\u001b[0m, \u001b[38;5;34m16\u001b[0m)                │          \u001b[38;5;34m0\u001b[0m │\n",
       "├─────────────────────────────────┼───────────────────────────┼────────────┤\n",
       "│ dense_3 (\u001b[38;5;33mDense\u001b[0m)                 │ (\u001b[38;5;45mNone\u001b[0m, \u001b[38;5;34m1\u001b[0m)                 │         \u001b[38;5;34m17\u001b[0m │\n",
       "└─────────────────────────────────┴───────────────────────────┴────────────┘\n"
      ]
     },
     "metadata": {},
     "output_type": "display_data"
    },
    {
     "data": {
      "text/html": [
       "<pre style=\"white-space:pre;overflow-x:auto;line-height:normal;font-family:Menlo,'DejaVu Sans Mono',consolas,'Courier New',monospace\"><span style=\"font-weight: bold\"> Total params: </span><span style=\"color: #00af00; text-decoration-color: #00af00\">752,545</span> (2.87 MB)\n",
       "</pre>\n"
      ],
      "text/plain": [
       "\u001b[1m Total params: \u001b[0m\u001b[38;5;34m752,545\u001b[0m (2.87 MB)\n"
      ]
     },
     "metadata": {},
     "output_type": "display_data"
    },
    {
     "data": {
      "text/html": [
       "<pre style=\"white-space:pre;overflow-x:auto;line-height:normal;font-family:Menlo,'DejaVu Sans Mono',consolas,'Courier New',monospace\"><span style=\"font-weight: bold\"> Trainable params: </span><span style=\"color: #00af00; text-decoration-color: #00af00\">752,545</span> (2.87 MB)\n",
       "</pre>\n"
      ],
      "text/plain": [
       "\u001b[1m Trainable params: \u001b[0m\u001b[38;5;34m752,545\u001b[0m (2.87 MB)\n"
      ]
     },
     "metadata": {},
     "output_type": "display_data"
    },
    {
     "data": {
      "text/html": [
       "<pre style=\"white-space:pre;overflow-x:auto;line-height:normal;font-family:Menlo,'DejaVu Sans Mono',consolas,'Courier New',monospace\"><span style=\"font-weight: bold\"> Non-trainable params: </span><span style=\"color: #00af00; text-decoration-color: #00af00\">0</span> (0.00 B)\n",
       "</pre>\n"
      ],
      "text/plain": [
       "\u001b[1m Non-trainable params: \u001b[0m\u001b[38;5;34m0\u001b[0m (0.00 B)\n"
      ]
     },
     "metadata": {},
     "output_type": "display_data"
    }
   ],
   "source": [
    "# convert to bi-lstm model\n",
    "model = tf.keras.Sequential([\n",
    "    tf.keras.layers.Embedding(vocab_size, 8, embeddings_initializer=tf.keras.initializers.Constant(embedding_matrix), \n",
    "              input_shape=(max_length,), trainable=False),\n",
    "    tf.keras.layers.Conv1D(128, 5, activation='relu', padding='same'),\n",
    "    tf.keras.layers.MaxPooling1D(pool_size=2),\n",
    "    tf.keras.layers.Bidirectional(tf.keras.layers.LSTM(128)),  # Menambahkan LSTM layer\n",
    "    # tf.keras.layers.Flatten(),\n",
    "    tf.keras.layers.Dense(16, activation='relu'),\n",
    "    tf.keras.layers.Dropout(0.5),\n",
    "    tf.keras.layers.Dense(1, activation='sigmoid')\n",
    "])\n",
    "\n",
    "model.compile(loss='binary_crossentropy',optimizer='adam',metrics=['accuracy'])\n",
    "\n",
    "model.summary()"
   ]
  },
  {
   "cell_type": "code",
   "execution_count": 43,
   "metadata": {},
   "outputs": [
    {
     "name": "stdout",
     "output_type": "stream",
     "text": [
      "Layer Name: embedding_1\n",
      "Weights Shape (Tensor 0): (60000, 8)\n",
      "Weights (Tensor 0):\n",
      "[[ 0.         0.         0.        ...  0.         0.         0.       ]\n",
      " [ 0.         0.         0.        ...  0.         0.         0.       ]\n",
      " [-4.70537   -1.4904379  4.5354424 ... -3.3459175  3.0429876 -1.5427088]\n",
      " ...\n",
      " [ 0.         0.         0.        ...  0.         0.         0.       ]\n",
      " [ 0.         0.         0.        ...  0.         0.         0.       ]\n",
      " [ 0.         0.         0.        ...  0.         0.         0.       ]]\n",
      "Layer Name: conv1d_1\n",
      "Weights Shape (Tensor 0): (5, 8, 128)\n",
      "Weights (Tensor 0):\n",
      "[[[ 0.08292843 -0.08553228  0.06398341 ... -0.09353916  0.07014036\n",
      "    0.09358336]\n",
      "  [ 0.00579786  0.0523396   0.0055796  ... -0.04490695  0.06817706\n",
      "    0.02915289]\n",
      "  [-0.07884707  0.0692987  -0.01820277 ... -0.00684486 -0.08298743\n",
      "   -0.02562064]\n",
      "  ...\n",
      "  [-0.04288781  0.03635649  0.03351864 ...  0.04675382 -0.01067998\n",
      "   -0.0265165 ]\n",
      "  [ 0.06583183  0.06285606  0.06738335 ... -0.04946661 -0.0583033\n",
      "    0.0781727 ]\n",
      "  [-0.05463267 -0.00901937 -0.00737798 ... -0.01053129  0.02924296\n",
      "   -0.02559701]]\n",
      "\n",
      " [[-0.08483851 -0.04608663 -0.06951813 ...  0.09190492  0.06083435\n",
      "   -0.07189526]\n",
      "  [ 0.03783321  0.02625145  0.03343327 ...  0.08919176  0.056702\n",
      "   -0.01214657]\n",
      "  [ 0.02630509 -0.04223669 -0.0850486  ...  0.02067102  0.04634084\n",
      "   -0.04541179]\n",
      "  ...\n",
      "  [-0.07009248  0.0735644   0.03166306 ...  0.05566509  0.02792471\n",
      "   -0.02820338]\n",
      "  [ 0.01716993 -0.06475653  0.01132938 ... -0.07731554  0.06777111\n",
      "    0.01201048]\n",
      "  [-0.00621366 -0.04663758  0.04563864 ...  0.00367434  0.05962506\n",
      "    0.01261239]]\n",
      "\n",
      " [[ 0.04761922 -0.08075894 -0.03446963 ... -0.05622273 -0.01597997\n",
      "    0.03281382]\n",
      "  [ 0.03959303  0.0545698   0.06340066 ...  0.01451857  0.02007297\n",
      "    0.04769607]\n",
      "  [-0.00292938  0.05622181  0.09038554 ...  0.02645487 -0.06591758\n",
      "    0.01113018]\n",
      "  ...\n",
      "  [-0.00530494  0.01984485 -0.05657188 ... -0.05850809 -0.07543917\n",
      "    0.07382494]\n",
      "  [-0.01643442 -0.03252249  0.04921266 ...  0.04758957 -0.05750732\n",
      "    0.07490078]\n",
      "  [ 0.00039595 -0.09128123 -0.04381429 ...  0.03412183 -0.03928343\n",
      "    0.08306251]]\n",
      "\n",
      " [[ 0.03704996 -0.00285695  0.06768714 ...  0.01345228 -0.02236503\n",
      "    0.08958527]\n",
      "  [ 0.01950883 -0.06591144 -0.09000567 ...  0.0174595  -0.09379961\n",
      "    0.06839097]\n",
      "  [ 0.07616451 -0.03946795  0.04587136 ... -0.00225823  0.00286522\n",
      "   -0.04199916]\n",
      "  ...\n",
      "  [ 0.09155306 -0.03145926 -0.06965539 ...  0.07653236 -0.01671156\n",
      "    0.092356  ]\n",
      "  [ 0.08220878 -0.02258555  0.06569134 ...  0.04785095  0.03973232\n",
      "   -0.02334724]\n",
      "  [-0.02706705 -0.00122983 -0.01407592 ...  0.00536053 -0.02127192\n",
      "   -0.07999863]]\n",
      "\n",
      " [[-0.09160377 -0.00905104 -0.06644954 ... -0.05174321  0.02732102\n",
      "   -0.03460881]\n",
      "  [-0.05877605  0.05465521 -0.0590671  ... -0.01185771 -0.05255583\n",
      "   -0.06700651]\n",
      "  [-0.02637519 -0.00586532 -0.03674407 ...  0.05173588  0.03819762\n",
      "    0.08648932]\n",
      "  ...\n",
      "  [-0.06476739 -0.00362156 -0.01480096 ... -0.00671438  0.00595665\n",
      "    0.00258218]\n",
      "  [-0.0018109   0.05060197 -0.03493243 ...  0.03543064 -0.071307\n",
      "    0.00342865]\n",
      "  [-0.00677326 -0.01674939 -0.07068337 ...  0.03557278 -0.01745559\n",
      "    0.01303928]]]\n",
      "Weights Shape (Tensor 1): (128,)\n",
      "Weights (Tensor 1):\n",
      "[0. 0. 0. 0. 0. 0. 0. 0. 0. 0. 0. 0. 0. 0. 0. 0. 0. 0. 0. 0. 0. 0. 0. 0.\n",
      " 0. 0. 0. 0. 0. 0. 0. 0. 0. 0. 0. 0. 0. 0. 0. 0. 0. 0. 0. 0. 0. 0. 0. 0.\n",
      " 0. 0. 0. 0. 0. 0. 0. 0. 0. 0. 0. 0. 0. 0. 0. 0. 0. 0. 0. 0. 0. 0. 0. 0.\n",
      " 0. 0. 0. 0. 0. 0. 0. 0. 0. 0. 0. 0. 0. 0. 0. 0. 0. 0. 0. 0. 0. 0. 0. 0.\n",
      " 0. 0. 0. 0. 0. 0. 0. 0. 0. 0. 0. 0. 0. 0. 0. 0. 0. 0. 0. 0. 0. 0. 0. 0.\n",
      " 0. 0. 0. 0. 0. 0. 0. 0.]\n",
      "Layer Name: lstm_1\n",
      "Weights Shape (Tensor 0): (128, 512)\n",
      "Weights (Tensor 0):\n",
      "[[ 0.01525763  0.04290101  0.08567563 ...  0.05871999  0.0714106\n",
      "  -0.05507752]\n",
      " [ 0.04262514  0.07218927  0.06230806 ...  0.03445055 -0.01632789\n",
      "  -0.0162434 ]\n",
      " [-0.03699186 -0.00232653 -0.06293696 ... -0.00244398  0.02499853\n",
      "   0.08176218]\n",
      " ...\n",
      " [ 0.01918595  0.05288164  0.0273448  ...  0.02993706 -0.03938612\n",
      "  -0.00922558]\n",
      " [ 0.06348522  0.01123711 -0.01719864 ... -0.02833626  0.00587858\n",
      "   0.09356809]\n",
      " [ 0.02360437 -0.03419315 -0.06981736 ... -0.08097488 -0.07402351\n",
      "  -0.0675351 ]]\n",
      "Weights Shape (Tensor 1): (128, 512)\n",
      "Weights (Tensor 1):\n",
      "[[-0.01935482  0.03152248 -0.01232449 ... -0.02068548  0.03501182\n",
      "   0.04226674]\n",
      " [ 0.01776266  0.07590783  0.04330585 ...  0.00947592  0.03408211\n",
      "   0.07849447]\n",
      " [ 0.02538078  0.01701902 -0.02112591 ... -0.03295834  0.03823884\n",
      "  -0.01372013]\n",
      " ...\n",
      " [ 0.07927663  0.03850667 -0.08720586 ... -0.02067006  0.05112303\n",
      "   0.03296568]\n",
      " [-0.03995766  0.04346574  0.00380695 ...  0.00640496 -0.0636635\n",
      "  -0.00435882]\n",
      " [ 0.02450385  0.03047127  0.07500732 ...  0.04319765  0.08279686\n",
      "   0.03026749]]\n",
      "Weights Shape (Tensor 2): (512,)\n",
      "Weights (Tensor 2):\n",
      "[0. 0. 0. 0. 0. 0. 0. 0. 0. 0. 0. 0. 0. 0. 0. 0. 0. 0. 0. 0. 0. 0. 0. 0.\n",
      " 0. 0. 0. 0. 0. 0. 0. 0. 0. 0. 0. 0. 0. 0. 0. 0. 0. 0. 0. 0. 0. 0. 0. 0.\n",
      " 0. 0. 0. 0. 0. 0. 0. 0. 0. 0. 0. 0. 0. 0. 0. 0. 0. 0. 0. 0. 0. 0. 0. 0.\n",
      " 0. 0. 0. 0. 0. 0. 0. 0. 0. 0. 0. 0. 0. 0. 0. 0. 0. 0. 0. 0. 0. 0. 0. 0.\n",
      " 0. 0. 0. 0. 0. 0. 0. 0. 0. 0. 0. 0. 0. 0. 0. 0. 0. 0. 0. 0. 0. 0. 0. 0.\n",
      " 0. 0. 0. 0. 0. 0. 0. 0. 1. 1. 1. 1. 1. 1. 1. 1. 1. 1. 1. 1. 1. 1. 1. 1.\n",
      " 1. 1. 1. 1. 1. 1. 1. 1. 1. 1. 1. 1. 1. 1. 1. 1. 1. 1. 1. 1. 1. 1. 1. 1.\n",
      " 1. 1. 1. 1. 1. 1. 1. 1. 1. 1. 1. 1. 1. 1. 1. 1. 1. 1. 1. 1. 1. 1. 1. 1.\n",
      " 1. 1. 1. 1. 1. 1. 1. 1. 1. 1. 1. 1. 1. 1. 1. 1. 1. 1. 1. 1. 1. 1. 1. 1.\n",
      " 1. 1. 1. 1. 1. 1. 1. 1. 1. 1. 1. 1. 1. 1. 1. 1. 1. 1. 1. 1. 1. 1. 1. 1.\n",
      " 1. 1. 1. 1. 1. 1. 1. 1. 1. 1. 1. 1. 1. 1. 1. 1. 0. 0. 0. 0. 0. 0. 0. 0.\n",
      " 0. 0. 0. 0. 0. 0. 0. 0. 0. 0. 0. 0. 0. 0. 0. 0. 0. 0. 0. 0. 0. 0. 0. 0.\n",
      " 0. 0. 0. 0. 0. 0. 0. 0. 0. 0. 0. 0. 0. 0. 0. 0. 0. 0. 0. 0. 0. 0. 0. 0.\n",
      " 0. 0. 0. 0. 0. 0. 0. 0. 0. 0. 0. 0. 0. 0. 0. 0. 0. 0. 0. 0. 0. 0. 0. 0.\n",
      " 0. 0. 0. 0. 0. 0. 0. 0. 0. 0. 0. 0. 0. 0. 0. 0. 0. 0. 0. 0. 0. 0. 0. 0.\n",
      " 0. 0. 0. 0. 0. 0. 0. 0. 0. 0. 0. 0. 0. 0. 0. 0. 0. 0. 0. 0. 0. 0. 0. 0.\n",
      " 0. 0. 0. 0. 0. 0. 0. 0. 0. 0. 0. 0. 0. 0. 0. 0. 0. 0. 0. 0. 0. 0. 0. 0.\n",
      " 0. 0. 0. 0. 0. 0. 0. 0. 0. 0. 0. 0. 0. 0. 0. 0. 0. 0. 0. 0. 0. 0. 0. 0.\n",
      " 0. 0. 0. 0. 0. 0. 0. 0. 0. 0. 0. 0. 0. 0. 0. 0. 0. 0. 0. 0. 0. 0. 0. 0.\n",
      " 0. 0. 0. 0. 0. 0. 0. 0. 0. 0. 0. 0. 0. 0. 0. 0. 0. 0. 0. 0. 0. 0. 0. 0.\n",
      " 0. 0. 0. 0. 0. 0. 0. 0. 0. 0. 0. 0. 0. 0. 0. 0. 0. 0. 0. 0. 0. 0. 0. 0.\n",
      " 0. 0. 0. 0. 0. 0. 0. 0.]\n",
      "Layer Name: dense_2\n",
      "Weights Shape (Tensor 0): (3200, 16)\n",
      "Weights (Tensor 0):\n",
      "[[-0.03606205 -0.01659205 -0.00269091 ... -0.03173469  0.02008086\n",
      "   0.02658108]\n",
      " [-0.02570016 -0.02160378 -0.00686123 ...  0.02628101 -0.01852749\n",
      "  -0.00396674]\n",
      " [ 0.04311465  0.02225784  0.00258867 ...  0.00969005  0.02773329\n",
      "   0.00431331]\n",
      " ...\n",
      " [-0.03564717  0.03988354 -0.0250237  ... -0.01167653 -0.00677948\n",
      "  -0.03836443]\n",
      " [ 0.01337494  0.02301039 -0.02210367 ... -0.02295153 -0.00840902\n",
      "   0.00952066]\n",
      " [-0.03191499 -0.00809075 -0.03551768 ... -0.03367452 -0.02461462\n",
      "   0.03031041]]\n",
      "Weights Shape (Tensor 1): (16,)\n",
      "Weights (Tensor 1):\n",
      "[0. 0. 0. 0. 0. 0. 0. 0. 0. 0. 0. 0. 0. 0. 0. 0.]\n",
      "Layer Name: dense_3\n",
      "Weights Shape (Tensor 0): (16, 1)\n",
      "Weights (Tensor 0):\n",
      "[[ 0.31612825]\n",
      " [ 0.48267984]\n",
      " [ 0.41372526]\n",
      " [ 0.10600311]\n",
      " [ 0.01225567]\n",
      " [ 0.10680014]\n",
      " [ 0.41011488]\n",
      " [-0.56924444]\n",
      " [-0.5762516 ]\n",
      " [-0.0263961 ]\n",
      " [-0.15322027]\n",
      " [ 0.0351665 ]\n",
      " [-0.15838706]\n",
      " [-0.12687686]\n",
      " [ 0.10966969]\n",
      " [-0.34422585]]\n",
      "Weights Shape (Tensor 1): (1,)\n",
      "Weights (Tensor 1):\n",
      "[0.]\n"
     ]
    }
   ],
   "source": [
    "# Looping untuk mendapatkan bobot dari setiap layer\n",
    "for layer in model.layers:\n",
    "    # Mengecek apakah layer memiliki bobot\n",
    "    if layer.weights:\n",
    "        print(\"Layer Name:\", layer.name)\n",
    "        # Mendapatkan bobot dan bias dari layer\n",
    "        weights = layer.get_weights()\n",
    "        for i, w in enumerate(weights):\n",
    "            print(\"Weights Shape (Tensor {}):\".format(i), w.shape)\n",
    "            print(\"Weights (Tensor {}):\".format(i))\n",
    "            print(w)\n"
   ]
  },
  {
   "cell_type": "markdown",
   "metadata": {},
   "source": [
    "## Train Model"
   ]
  },
  {
   "cell_type": "code",
   "execution_count": 33,
   "metadata": {},
   "outputs": [
    {
     "name": "stdout",
     "output_type": "stream",
     "text": [
      "Epoch 1/20\n",
      "\u001b[1m290/290\u001b[0m \u001b[32m━━━━━━━━━━━━━━━━━━━━\u001b[0m\u001b[37m\u001b[0m \u001b[1m81s\u001b[0m 151ms/step - accuracy: 0.7105 - loss: 0.5687 - val_accuracy: 0.7871 - val_loss: 0.4608 - learning_rate: 1.0000e-04\n",
      "Epoch 2/20\n",
      "\u001b[1m290/290\u001b[0m \u001b[32m━━━━━━━━━━━━━━━━━━━━\u001b[0m\u001b[37m\u001b[0m \u001b[1m41s\u001b[0m 140ms/step - accuracy: 0.7963 - loss: 0.4721 - val_accuracy: 0.7925 - val_loss: 0.4484 - learning_rate: 1.1220e-04\n",
      "Epoch 3/20\n",
      "\u001b[1m290/290\u001b[0m \u001b[32m━━━━━━━━━━━━━━━━━━━━\u001b[0m\u001b[37m\u001b[0m \u001b[1m40s\u001b[0m 139ms/step - accuracy: 0.8040 - loss: 0.4550 - val_accuracy: 0.7930 - val_loss: 0.4501 - learning_rate: 1.2589e-04\n",
      "Epoch 4/20\n",
      "\u001b[1m290/290\u001b[0m \u001b[32m━━━━━━━━━━━━━━━━━━━━\u001b[0m\u001b[37m\u001b[0m \u001b[1m39s\u001b[0m 134ms/step - accuracy: 0.8042 - loss: 0.4494 - val_accuracy: 0.8068 - val_loss: 0.4272 - learning_rate: 1.4125e-04\n",
      "Epoch 5/20\n",
      "\u001b[1m290/290\u001b[0m \u001b[32m━━━━━━━━━━━━━━━━━━━━\u001b[0m\u001b[37m\u001b[0m \u001b[1m41s\u001b[0m 142ms/step - accuracy: 0.8143 - loss: 0.4305 - val_accuracy: 0.8041 - val_loss: 0.4247 - learning_rate: 1.5849e-04\n",
      "Epoch 6/20\n",
      "\u001b[1m290/290\u001b[0m \u001b[32m━━━━━━━━━━━━━━━━━━━━\u001b[0m\u001b[37m\u001b[0m \u001b[1m40s\u001b[0m 137ms/step - accuracy: 0.8186 - loss: 0.4239 - val_accuracy: 0.8163 - val_loss: 0.4172 - learning_rate: 1.7783e-04\n",
      "Epoch 7/20\n",
      "\u001b[1m290/290\u001b[0m \u001b[32m━━━━━━━━━━━━━━━━━━━━\u001b[0m\u001b[37m\u001b[0m \u001b[1m40s\u001b[0m 139ms/step - accuracy: 0.8269 - loss: 0.4105 - val_accuracy: 0.8119 - val_loss: 0.4245 - learning_rate: 1.9953e-04\n",
      "Epoch 8/20\n",
      "\u001b[1m290/290\u001b[0m \u001b[32m━━━━━━━━━━━━━━━━━━━━\u001b[0m\u001b[37m\u001b[0m \u001b[1m41s\u001b[0m 141ms/step - accuracy: 0.8331 - loss: 0.4018 - val_accuracy: 0.8041 - val_loss: 0.4150 - learning_rate: 2.2387e-04\n",
      "Epoch 9/20\n",
      "\u001b[1m290/290\u001b[0m \u001b[32m━━━━━━━━━━━━━━━━━━━━\u001b[0m\u001b[37m\u001b[0m \u001b[1m40s\u001b[0m 139ms/step - accuracy: 0.8392 - loss: 0.3909 - val_accuracy: 0.8228 - val_loss: 0.4013 - learning_rate: 2.5119e-04\n",
      "Epoch 10/20\n",
      "\u001b[1m290/290\u001b[0m \u001b[32m━━━━━━━━━━━━━━━━━━━━\u001b[0m\u001b[37m\u001b[0m \u001b[1m41s\u001b[0m 141ms/step - accuracy: 0.8491 - loss: 0.3752 - val_accuracy: 0.8274 - val_loss: 0.3902 - learning_rate: 2.8184e-04\n",
      "Epoch 11/20\n",
      "\u001b[1m290/290\u001b[0m \u001b[32m━━━━━━━━━━━━━━━━━━━━\u001b[0m\u001b[37m\u001b[0m \u001b[1m39s\u001b[0m 136ms/step - accuracy: 0.8552 - loss: 0.3653 - val_accuracy: 0.8294 - val_loss: 0.3864 - learning_rate: 3.1623e-04\n",
      "Epoch 12/20\n",
      "\u001b[1m290/290\u001b[0m \u001b[32m━━━━━━━━━━━━━━━━━━━━\u001b[0m\u001b[37m\u001b[0m \u001b[1m41s\u001b[0m 140ms/step - accuracy: 0.8603 - loss: 0.3474 - val_accuracy: 0.8369 - val_loss: 0.3805 - learning_rate: 3.5481e-04\n",
      "Epoch 13/20\n",
      "\u001b[1m290/290\u001b[0m \u001b[32m━━━━━━━━━━━━━━━━━━━━\u001b[0m\u001b[37m\u001b[0m \u001b[1m40s\u001b[0m 138ms/step - accuracy: 0.8724 - loss: 0.3251 - val_accuracy: 0.8374 - val_loss: 0.3852 - learning_rate: 3.9811e-04\n",
      "Epoch 14/20\n",
      "\u001b[1m290/290\u001b[0m \u001b[32m━━━━━━━━━━━━━━━━━━━━\u001b[0m\u001b[37m\u001b[0m \u001b[1m40s\u001b[0m 138ms/step - accuracy: 0.8845 - loss: 0.2978 - val_accuracy: 0.8439 - val_loss: 0.3981 - learning_rate: 4.4668e-04\n",
      "Epoch 15/20\n",
      "\u001b[1m290/290\u001b[0m \u001b[32m━━━━━━━━━━━━━━━━━━━━\u001b[0m\u001b[37m\u001b[0m \u001b[1m40s\u001b[0m 138ms/step - accuracy: 0.8981 - loss: 0.2706 - val_accuracy: 0.8420 - val_loss: 0.3776 - learning_rate: 5.0119e-04\n",
      "Epoch 16/20\n",
      "\u001b[1m290/290\u001b[0m \u001b[32m━━━━━━━━━━━━━━━━━━━━\u001b[0m\u001b[37m\u001b[0m \u001b[1m40s\u001b[0m 139ms/step - accuracy: 0.9072 - loss: 0.2474 - val_accuracy: 0.8333 - val_loss: 0.4392 - learning_rate: 5.6234e-04\n",
      "Epoch 17/20\n",
      "\u001b[1m290/290\u001b[0m \u001b[32m━━━━━━━━━━━━━━━━━━━━\u001b[0m\u001b[37m\u001b[0m \u001b[1m41s\u001b[0m 142ms/step - accuracy: 0.9172 - loss: 0.2239 - val_accuracy: 0.8536 - val_loss: 0.3823 - learning_rate: 6.3096e-04\n",
      "Epoch 18/20\n",
      "\u001b[1m290/290\u001b[0m \u001b[32m━━━━━━━━━━━━━━━━━━━━\u001b[0m\u001b[37m\u001b[0m \u001b[1m41s\u001b[0m 140ms/step - accuracy: 0.9315 - loss: 0.1891 - val_accuracy: 0.8566 - val_loss: 0.4738 - learning_rate: 7.0795e-04\n",
      "Epoch 19/20\n",
      "\u001b[1m290/290\u001b[0m \u001b[32m━━━━━━━━━━━━━━━━━━━━\u001b[0m\u001b[37m\u001b[0m \u001b[1m40s\u001b[0m 137ms/step - accuracy: 0.9399 - loss: 0.1635 - val_accuracy: 0.8519 - val_loss: 0.4858 - learning_rate: 7.9433e-04\n",
      "Epoch 20/20\n",
      "\u001b[1m290/290\u001b[0m \u001b[32m━━━━━━━━━━━━━━━━━━━━\u001b[0m\u001b[37m\u001b[0m \u001b[1m41s\u001b[0m 141ms/step - accuracy: 0.9498 - loss: 0.1383 - val_accuracy: 0.8294 - val_loss: 0.5201 - learning_rate: 8.9125e-04\n"
     ]
    }
   ],
   "source": [
    "num_epochs = 20\n",
    "lr_schedule = tf.keras.callbacks.LearningRateScheduler(lambda epoch: 1e-4 * 10 ** (epoch / 20))\n",
    "early_stopping = tf.keras.callbacks.EarlyStopping(monitor='val_loss', patience=5, restore_best_weights=True)\n",
    "\n",
    "\n",
    "history = model.fit(train_padded, y_train, batch_size=128, epochs=num_epochs, validation_data=(valid_padded, y_valid), callbacks=[lr_schedule, early_stopping])\n"
   ]
  },
  {
   "cell_type": "code",
   "execution_count": 34,
   "metadata": {},
   "outputs": [
    {
     "data": {
      "image/png": "[encoded data removed]",
      "text/plain": [
       "<Figure size 640x480 with 1 Axes>"
      ]
     },
     "metadata": {},
     "output_type": "display_data"
    }
   ],
   "source": [
    "# Plot the training history\n",
    "def plot_graphs(history, string):\n",
    "  plt.plot(history.history[string])\n",
    "  plt.plot(history.history['val_'+string])\n",
    "  plt.xlabel(\"Epochs\")\n",
    "  plt.ylabel(string)\n",
    "  plt.legend([string, 'val_'+string])\n",
    "  plt.show()\n",
    "\n",
    "plot_graphs(history, \"accuracy\")"
   ]
  },
  {
   "cell_type": "code",
   "execution_count": 35,
   "metadata": {},
   "outputs": [
    {
     "data": {
      "image/png": "[encoded data removed]",
      "text/plain": [
       "<Figure size 640x480 with 1 Axes>"
      ]
     },
     "metadata": {},
     "output_type": "display_data"
    }
   ],
   "source": [
    "# Plot the training history\n",
    "def plot_graphs(history, string):\n",
    "  plt.plot(history.history[string])\n",
    "  plt.plot(history.history['val_'+string])\n",
    "  plt.xlabel(\"Epochs\")\n",
    "  plt.ylabel(string)\n",
    "  plt.legend([string, 'val_'+string])\n",
    "  plt.show()\n",
    "\n",
    "plot_graphs(history, \"loss\")"
   ]
  },
  {
   "cell_type": "code",
   "execution_count": 36,
   "metadata": {},
   "outputs": [
    {
     "name": "stdout",
     "output_type": "stream",
     "text": [
      "\u001b[1m1/1\u001b[0m \u001b[32m━━━━━━━━━━━━━━━━━━━━\u001b[0m\u001b[37m\u001b[0m \u001b[1m2s\u001b[0m 2s/step\n",
      "[[0.7226356]]\n",
      "\u001b[1m1/1\u001b[0m \u001b[32m━━━━━━━━━━━━━━━━━━━━\u001b[0m\u001b[37m\u001b[0m \u001b[1m0s\u001b[0m 44ms/step\n",
      "[[0.30124342]]\n",
      "\u001b[1m1/1\u001b[0m \u001b[32m━━━━━━━━━━━━━━━━━━━━\u001b[0m\u001b[37m\u001b[0m \u001b[1m0s\u001b[0m 67ms/step\n",
      "[[0.42459935]]\n",
      "\u001b[1m1/1\u001b[0m \u001b[32m━━━━━━━━━━━━━━━━━━━━\u001b[0m\u001b[37m\u001b[0m \u001b[1m0s\u001b[0m 38ms/step\n",
      "[[0.26769865]]\n",
      "\u001b[1m1/1\u001b[0m \u001b[32m━━━━━━━━━━━━━━━━━━━━\u001b[0m\u001b[37m\u001b[0m \u001b[1m0s\u001b[0m 37ms/step\n",
      "[[0.5826657]]\n",
      "\u001b[1m1/1\u001b[0m \u001b[32m━━━━━━━━━━━━━━━━━━━━\u001b[0m\u001b[37m\u001b[0m \u001b[1m0s\u001b[0m 41ms/step\n",
      "[[0.7687718]]\n",
      "\u001b[1m1/1\u001b[0m \u001b[32m━━━━━━━━━━━━━━━━━━━━\u001b[0m\u001b[37m\u001b[0m \u001b[1m0s\u001b[0m 40ms/step\n",
      "[[0.34944364]]\n",
      "\u001b[1m1/1\u001b[0m \u001b[32m━━━━━━━━━━━━━━━━━━━━\u001b[0m\u001b[37m\u001b[0m \u001b[1m0s\u001b[0m 75ms/step\n",
      "[[0.31816325]]\n",
      "\u001b[1m1/1\u001b[0m \u001b[32m━━━━━━━━━━━━━━━━━━━━\u001b[0m\u001b[37m\u001b[0m \u001b[1m0s\u001b[0m 40ms/step\n",
      "[[0.5115062]]\n",
      "\u001b[1m1/1\u001b[0m \u001b[32m━━━━━━━━━━━━━━━━━━━━\u001b[0m\u001b[37m\u001b[0m \u001b[1m0s\u001b[0m 39ms/step\n",
      "[[0.38989806]]\n",
      "\u001b[1m1/1\u001b[0m \u001b[32m━━━━━━━━━━━━━━━━━━━━\u001b[0m\u001b[37m\u001b[0m \u001b[1m0s\u001b[0m 40ms/step\n",
      "[[0.13678552]]\n",
      "\u001b[1m1/1\u001b[0m \u001b[32m━━━━━━━━━━━━━━━━━━━━\u001b[0m\u001b[37m\u001b[0m \u001b[1m0s\u001b[0m 268ms/step\n",
      "[[0.15804546]]\n",
      "\u001b[1m1/1\u001b[0m \u001b[32m━━━━━━━━━━━━━━━━━━━━\u001b[0m\u001b[37m\u001b[0m \u001b[1m0s\u001b[0m 38ms/step\n",
      "[[0.22890352]]\n",
      "\u001b[1m1/1\u001b[0m \u001b[32m━━━━━━━━━━━━━━━━━━━━\u001b[0m\u001b[37m\u001b[0m \u001b[1m0s\u001b[0m 37ms/step\n",
      "[[0.17089099]]\n",
      "\u001b[1m1/1\u001b[0m \u001b[32m━━━━━━━━━━━━━━━━━━━━\u001b[0m\u001b[37m\u001b[0m \u001b[1m0s\u001b[0m 124ms/step\n",
      "[[0.5787233]]\n",
      "\u001b[1m1/1\u001b[0m \u001b[32m━━━━━━━━━━━━━━━━━━━━\u001b[0m\u001b[37m\u001b[0m \u001b[1m0s\u001b[0m 39ms/step\n",
      "[[0.6472205]]\n",
      "\u001b[1m1/1\u001b[0m \u001b[32m━━━━━━━━━━━━━━━━━━━━\u001b[0m\u001b[37m\u001b[0m \u001b[1m0s\u001b[0m 42ms/step\n",
      "[[0.05307208]]\n",
      "\u001b[1m1/1\u001b[0m \u001b[32m━━━━━━━━━━━━━━━━━━━━\u001b[0m\u001b[37m\u001b[0m \u001b[1m0s\u001b[0m 50ms/step\n",
      "[[0.0839482]]\n",
      "\u001b[1m1/1\u001b[0m \u001b[32m━━━━━━━━━━━━━━━━━━━━\u001b[0m\u001b[37m\u001b[0m \u001b[1m0s\u001b[0m 41ms/step\n",
      "[[0.7344005]]\n",
      "\u001b[1m1/1\u001b[0m \u001b[32m━━━━━━━━━━━━━━━━━━━━\u001b[0m\u001b[37m\u001b[0m \u001b[1m0s\u001b[0m 40ms/step\n",
      "[[0.4430051]]\n",
      "\u001b[1m1/1\u001b[0m \u001b[32m━━━━━━━━━━━━━━━━━━━━\u001b[0m\u001b[37m\u001b[0m \u001b[1m0s\u001b[0m 39ms/step\n",
      "[[0.09172545]]\n",
      "\u001b[1m1/1\u001b[0m \u001b[32m━━━━━━━━━━━━━━━━━━━━\u001b[0m\u001b[37m\u001b[0m \u001b[1m0s\u001b[0m 38ms/step\n",
      "[[0.79393935]]\n"
     ]
    },
    {
     "data": {
      "text/html": [
       "<div>\n",
       "<style scoped>\n",
       "    .dataframe tbody tr th:only-of-type {\n",
       "        vertical-align: middle;\n",
       "    }\n",
       "\n",
       "    .dataframe tbody tr th {\n",
       "        vertical-align: top;\n",
       "    }\n",
       "\n",
       "    .dataframe thead th {\n",
       "        text-align: right;\n",
       "    }\n",
       "</style>\n",
       "<table border=\"1\" class=\"dataframe\">\n",
       "  <thead>\n",
       "    <tr style=\"text-align: right;\">\n",
       "      <th></th>\n",
       "      <th>Teks</th>\n",
       "      <th>Label Sentimen</th>\n",
       "    </tr>\n",
       "  </thead>\n",
       "  <tbody>\n",
       "    <tr>\n",
       "      <th>0</th>\n",
       "      <td>Pada awalnya saya ragu dengan kemampuan perusa...</td>\n",
       "      <td>Positif</td>\n",
       "    </tr>\n",
       "    <tr>\n",
       "      <th>1</th>\n",
       "      <td>Film ini memulai dengan sangat membosankan dan...</td>\n",
       "      <td>Negatif</td>\n",
       "    </tr>\n",
       "    <tr>\n",
       "      <th>2</th>\n",
       "      <td>Meskipun layanan pelanggan mereka sangat lamba...</td>\n",
       "      <td>Negatif</td>\n",
       "    </tr>\n",
       "    <tr>\n",
       "      <th>3</th>\n",
       "      <td>Restoran ini memiliki makanan yang lezat, teta...</td>\n",
       "      <td>Negatif</td>\n",
       "    </tr>\n",
       "    <tr>\n",
       "      <th>4</th>\n",
       "      <td>Saya mengalami banyak masalah dengan perangkat...</td>\n",
       "      <td>Positif</td>\n",
       "    </tr>\n",
       "    <tr>\n",
       "      <th>5</th>\n",
       "      <td>Aplikasi ini sering mengalami crash pada versi...</td>\n",
       "      <td>Positif</td>\n",
       "    </tr>\n",
       "    <tr>\n",
       "      <th>6</th>\n",
       "      <td>Hotel ini memiliki pemandangan yang luar biasa...</td>\n",
       "      <td>Negatif</td>\n",
       "    </tr>\n",
       "    <tr>\n",
       "      <th>7</th>\n",
       "      <td>Buku ini dimulai dengan alur yang sangat lamba...</td>\n",
       "      <td>Negatif</td>\n",
       "    </tr>\n",
       "    <tr>\n",
       "      <th>8</th>\n",
       "      <td>Konser ini awalnya terasa membosankan, tetapi ...</td>\n",
       "      <td>Positif</td>\n",
       "    </tr>\n",
       "    <tr>\n",
       "      <th>9</th>\n",
       "      <td>Saya awalnya kecewa dengan kualitas pakaian in...</td>\n",
       "      <td>Negatif</td>\n",
       "    </tr>\n",
       "    <tr>\n",
       "      <th>10</th>\n",
       "      <td>Saya tidak masalah sama sekali gaji dipotong t...</td>\n",
       "      <td>Negatif</td>\n",
       "    </tr>\n",
       "    <tr>\n",
       "      <th>11</th>\n",
       "      <td>Kebijakan pemerintah tentang kenaikan harga BB...</td>\n",
       "      <td>Negatif</td>\n",
       "    </tr>\n",
       "    <tr>\n",
       "      <th>12</th>\n",
       "      <td>Reformasi pajak yang diusulkan akan sangat mem...</td>\n",
       "      <td>Negatif</td>\n",
       "    </tr>\n",
       "    <tr>\n",
       "      <th>13</th>\n",
       "      <td>Keputusan untuk memperpanjang masa jabatan pre...</td>\n",
       "      <td>Negatif</td>\n",
       "    </tr>\n",
       "    <tr>\n",
       "      <th>14</th>\n",
       "      <td>Program bantuan sosial yang baru diluncurkan s...</td>\n",
       "      <td>Positif</td>\n",
       "    </tr>\n",
       "    <tr>\n",
       "      <th>15</th>\n",
       "      <td>Pemilihan umum kali ini sangat penting untuk m...</td>\n",
       "      <td>Positif</td>\n",
       "    </tr>\n",
       "    <tr>\n",
       "      <th>16</th>\n",
       "      <td>Banyak yang kecewa dengan hasil debat politik ...</td>\n",
       "      <td>Negatif</td>\n",
       "    </tr>\n",
       "    <tr>\n",
       "      <th>17</th>\n",
       "      <td>Tindakan korupsi yang dilakukan oleh pejabat t...</td>\n",
       "      <td>Negatif</td>\n",
       "    </tr>\n",
       "    <tr>\n",
       "      <th>18</th>\n",
       "      <td>Perubahan undang-undang ini sangat penting unt...</td>\n",
       "      <td>Positif</td>\n",
       "    </tr>\n",
       "    <tr>\n",
       "      <th>19</th>\n",
       "      <td>Diskusi tentang kebijakan luar negeri semakin ...</td>\n",
       "      <td>Negatif</td>\n",
       "    </tr>\n",
       "    <tr>\n",
       "      <th>20</th>\n",
       "      <td>Partai oposisi mengkritik keras kebijakan ekon...</td>\n",
       "      <td>Negatif</td>\n",
       "    </tr>\n",
       "    <tr>\n",
       "      <th>21</th>\n",
       "      <td>Rencana pembangunan infrastruktur baru di wila...</td>\n",
       "      <td>Positif</td>\n",
       "    </tr>\n",
       "  </tbody>\n",
       "</table>\n",
       "</div>"
      ],
      "text/plain": [
       "                                                 Teks Label Sentimen\n",
       "0   Pada awalnya saya ragu dengan kemampuan perusa...        Positif\n",
       "1   Film ini memulai dengan sangat membosankan dan...        Negatif\n",
       "2   Meskipun layanan pelanggan mereka sangat lamba...        Negatif\n",
       "3   Restoran ini memiliki makanan yang lezat, teta...        Negatif\n",
       "4   Saya mengalami banyak masalah dengan perangkat...        Positif\n",
       "5   Aplikasi ini sering mengalami crash pada versi...        Positif\n",
       "6   Hotel ini memiliki pemandangan yang luar biasa...        Negatif\n",
       "7   Buku ini dimulai dengan alur yang sangat lamba...        Negatif\n",
       "8   Konser ini awalnya terasa membosankan, tetapi ...        Positif\n",
       "9   Saya awalnya kecewa dengan kualitas pakaian in...        Negatif\n",
       "10  Saya tidak masalah sama sekali gaji dipotong t...        Negatif\n",
       "11  Kebijakan pemerintah tentang kenaikan harga BB...        Negatif\n",
       "12  Reformasi pajak yang diusulkan akan sangat mem...        Negatif\n",
       "13  Keputusan untuk memperpanjang masa jabatan pre...        Negatif\n",
       "14  Program bantuan sosial yang baru diluncurkan s...        Positif\n",
       "15  Pemilihan umum kali ini sangat penting untuk m...        Positif\n",
       "16  Banyak yang kecewa dengan hasil debat politik ...        Negatif\n",
       "17  Tindakan korupsi yang dilakukan oleh pejabat t...        Negatif\n",
       "18  Perubahan undang-undang ini sangat penting unt...        Positif\n",
       "19  Diskusi tentang kebijakan luar negeri semakin ...        Negatif\n",
       "20  Partai oposisi mengkritik keras kebijakan ekon...        Negatif\n",
       "21  Rencana pembangunan infrastruktur baru di wila...        Positif"
      ]
     },
     "execution_count": 36,
     "metadata": {},
     "output_type": "execute_result"
    }
   ],
   "source": [
    "# Asumsi model dan tokenizer sudah didefinisikan\n",
    "def predict_sentiment(model, tokenizer, text):\n",
    "    # Tokenisasi teks\n",
    "    sample_seq = tokenizer.texts_to_sequences([text])\n",
    "    sample_padded = pad_sequences(sample_seq, maxlen=max_length, truncating=trunc_type, padding=\"post\")\n",
    "    \n",
    "    # Prediksi sentimen menggunakan model\n",
    "    prediction = model.predict(sample_padded)\n",
    "    print(prediction)\n",
    "    # Mengembalikan label sentimen berdasarkan output model\n",
    "    if prediction >= 0.5:\n",
    "        return \"Positif\"\n",
    "    else:\n",
    "        return \"Negatif\"\n",
    "\n",
    "# Kalimat contoh untuk pengujian\n",
    "test_sentences = [\n",
    "    \"Pada awalnya saya ragu dengan kemampuan perusahaan ini, namun setelah melihat kinerja mereka selama beberapa bulan terakhir, saya sangat puas dengan hasil yang mereka capai.\",\n",
    "    \"Film ini memulai dengan sangat membosankan dan lambat, tetapi akhir ceritanya sangat mengharukan dan membuat saya terkesan.\",\n",
    "    \"Meskipun layanan pelanggan mereka sangat lambat dan kurang responsif, kualitas produk yang mereka tawarkan sangatlah bagus.\",\n",
    "    \"Restoran ini memiliki makanan yang lezat, tetapi pelayanannya sangat buruk dan membuat pengalaman makan saya tidak menyenangkan.\",\n",
    "    \"Saya mengalami banyak masalah dengan perangkat ini di awal, namun setelah pembaruan terbaru, kinerjanya menjadi jauh lebih baik.\",\n",
    "    \"Aplikasi ini sering mengalami crash pada versi awal, tetapi sekarang setelah beberapa pembaruan, aplikasinya sangat stabil dan berguna.\",\n",
    "    \"Hotel ini memiliki pemandangan yang luar biasa dan staf yang ramah, meskipun kamarnya cukup kotor pada saat saya tiba.\",\n",
    "    \"Buku ini dimulai dengan alur yang sangat lambat, namun karakter dan ceritanya berkembang dengan sangat baik menjelang akhir.\",\n",
    "    \"Konser ini awalnya terasa membosankan, tetapi penampilan penutupnya sangat spektakuler dan membuat semuanya terbayar.\",\n",
    "    \"Saya awalnya kecewa dengan kualitas pakaian ini, tetapi setelah beberapa kali dicuci, kualitas bahannya ternyata sangat tahan lama.\",\n",
    "    \"Saya tidak masalah sama sekali gaji dipotong tiap bulan untuk BPJS Kesehatan. Semisal jarang pakai pun, anggap saja sedekah dan membantu sesama.  Tapi untuk TAPERA ini, jelas saya tidak ikhlas. Subsidi silang buat yang tidak mampu? Ah tidak juga rasanya.  Kebijakan aneh.\",\n",
    "    \"Kebijakan pemerintah tentang kenaikan harga BBM sangat memberatkan masyarakat kecil.\",\n",
    "    \"Reformasi pajak yang diusulkan akan sangat membantu meningkatkan perekonomian negara.\",\n",
    "    \"Keputusan untuk memperpanjang masa jabatan presiden sangat kontroversial dan memicu banyak protes.\",\n",
    "    \"Program bantuan sosial yang baru diluncurkan sangat membantu masyarakat miskin.\",\n",
    "    \"Pemilihan umum kali ini sangat penting untuk masa depan negara kita.\",\n",
    "    \"Banyak yang kecewa dengan hasil debat politik semalam, banyak janji yang tidak realistis.\",\n",
    "    \"Tindakan korupsi yang dilakukan oleh pejabat tinggi harus ditindak tegas.\",\n",
    "    \"Perubahan undang-undang ini sangat penting untuk melindungi hak-hak pekerja.\",\n",
    "    \"Diskusi tentang kebijakan luar negeri semakin memanas, banyak pihak yang berbeda pendapat.\",\n",
    "    \"Partai oposisi mengkritik keras kebijakan ekonomi pemerintah yang dianggap tidak efektif.\",\n",
    "    \"Rencana pembangunan infrastruktur baru di wilayah timur sangat disambut baik oleh masyarakat.\"\n",
    "]\n",
    "   \n",
    "# Memprediksi sentimen untuk setiap kalimat dan menyimpan hasil ke DataFrame\n",
    "results = []\n",
    "\n",
    "for sentence in test_sentences:\n",
    "    predicted_label = predict_sentiment(model, tokenizer, sentence)\n",
    "    results.append({\"Teks\": sentence, \"Label Sentimen\": predicted_label})\n",
    "\n",
    "# Membuat DataFrame\n",
    "df = pd.DataFrame(results)\n",
    "\n",
    "# Menyimpan DataFrame ke file CSV\n",
    "# df.to_csv('prediksi_sentimen-cnn-bilstm.csv', index=False)\n",
    "\n",
    "df"
   ]
  },
  {
   "cell_type": "code",
   "execution_count": 37,
   "metadata": {},
   "outputs": [
    {
     "name": "stdout",
     "output_type": "stream",
     "text": [
      "\u001b[1m1/1\u001b[0m \u001b[32m━━━━━━━━━━━━━━━━━━━━\u001b[0m\u001b[37m\u001b[0m \u001b[1m0s\u001b[0m 42ms/step\n",
      "[[0.08033923]]\n",
      "Label Sentimen: Negatif\n"
     ]
    }
   ],
   "source": [
    "def predict_sentiment(model, tokenizer, text):\n",
    "    # Tokenisasi teks\n",
    "    sample_seq = tokenizer.texts_to_sequences([text])\n",
    "    sample_padded = pad_sequences(sample_seq, maxlen=max_length, truncating=trunc_type, padding=\"post\")\n",
    "    \n",
    "    # Prediksi sentimen menggunakan model\n",
    "    prediction = model.predict(sample_padded)\n",
    "    print(prediction)\n",
    "    # Mengembalikan label sentimen berdasarkan output model\n",
    "    if prediction >= 0.5:\n",
    "        return \"Positif\"\n",
    "    else:\n",
    "        return \"Negatif\"\n",
    "\n",
    "# Menggunakan fungsi untuk memprediksi sentimen dari contoh kalimat\n",
    "sample_text = \"pakai memoisturizer ini jelek\"\n",
    "predicted_label = predict_sentiment(model, tokenizer, sample_text)\n",
    "print(\"Label Sentimen:\", predicted_label)\n",
    "   \n"
   ]
  },
  {
   "cell_type": "code",
   "execution_count": 38,
   "metadata": {},
   "outputs": [
    {
     "name": "stdout",
     "output_type": "stream",
     "text": [
      "\u001b[1m129/129\u001b[0m \u001b[32m━━━━━━━━━━━━━━━━━━━━\u001b[0m\u001b[37m\u001b[0m \u001b[1m3s\u001b[0m 19ms/step\n",
      "              precision    recall  f1-score   support\n",
      "\n",
      "           0       0.80      0.88      0.84      1914\n",
      "           1       0.88      0.81      0.85      2206\n",
      "\n",
      "    accuracy                           0.84      4120\n",
      "   macro avg       0.84      0.84      0.84      4120\n",
      "weighted avg       0.85      0.84      0.84      4120\n",
      "\n"
     ]
    }
   ],
   "source": [
    "from sklearn.metrics import classification_report\n",
    "\n",
    "# Melakukan prediksi pada data uji\n",
    "y_pred = model.predict(valid_padded)\n",
    "y_pred_classes = (y_pred >= 0.5).astype(int)\n",
    "\n",
    "# Mencetak classification report\n",
    "print(classification_report(y_valid, y_pred_classes))"
   ]
  },
  {
   "cell_type": "code",
   "execution_count": 39,
   "metadata": {},
   "outputs": [
    {
     "data": {
      "image/png": "[encoded data removed]",
      "text/plain": [
       "<Figure size 640x480 with 1 Axes>"
      ]
     },
     "metadata": {},
     "output_type": "display_data"
    }
   ],
   "source": [
    "# create a confusion matrix\n",
    "from sklearn.metrics import confusion_matrix\n",
    "import seaborn as sns\n",
    "\n",
    "# Membuat confusion matrix\n",
    "cm = confusion_matrix(y_valid, y_pred_classes)\n",
    "\n",
    "# Membuat heatmap dari confusion matrix\n",
    "sns.heatmap(cm, annot=True, fmt=\"d\", cmap=\"Blues\", cbar=False, annot_kws={\"size\": 16})\n",
    "plt.xlabel(\"Predicted Label\")\n",
    "plt.ylabel(\"True Label\")\n",
    "plt.title(\"Confusion Matrix\")\n",
    "plt.show()\n"
   ]
  },
  {
   "cell_type": "code",
   "execution_count": 175,
   "metadata": {},
   "outputs": [
    {
     "name": "stdout",
     "output_type": "stream",
     "text": [
      "[[1417  222]\n",
      " [ 190 1527]]\n"
     ]
    }
   ],
   "source": [
    "print(cm)"
   ]
  },
  {
   "cell_type": "code",
   "execution_count": 176,
   "metadata": {},
   "outputs": [],
   "source": [
    "# from sklearn.model_selection import KFold\n",
    "# import numpy as np\n",
    "# import tensorflow as tf\n",
    "# from tensorflow.keras.preprocessing.text import Tokenizer\n",
    "# from tensorflow.keras.preprocessing.sequence import pad_sequences\n",
    "\n",
    "# # Hyperparameters\n",
    "# vocab_size = 23000\n",
    "# oov_tok = \"<OOV>\"\n",
    "# max_length = 100\n",
    "# trunc_type = 'post'\n",
    "# embedding_dim = 8\n",
    "# num_folds = 5\n",
    "\n",
    "# # Prepare the tokenizer and word index\n",
    "# all_texts = list(X_train) + list(X_valid)\n",
    "# tokenizer = Tokenizer(num_words=vocab_size, oov_token=oov_tok)\n",
    "# tokenizer.fit_on_texts(all_texts)\n",
    "# word_index = tokenizer.word_index\n",
    "\n",
    "# # Convert the sentences into sequences\n",
    "# train_sequences = tokenizer.texts_to_sequences(X_train)\n",
    "# train_padded = pad_sequences(train_sequences, maxlen=max_length, truncating=trunc_type)\n",
    "\n",
    "# valid_sequences = tokenizer.texts_to_sequences(X_valid)\n",
    "# valid_padded = pad_sequences(valid_sequences, maxlen=max_length, truncating=trunc_type)\n",
    "\n",
    "# # Combine training and validation data for K-Fold\n",
    "# X = np.concatenate((train_padded, valid_padded), axis=0)\n",
    "# y = np.concatenate((y_train, y_valid), axis=0)\n",
    "\n",
    "# # K-Fold Cross Validation\n",
    "# kf = KFold(n_splits=num_folds, shuffle=True, random_state=42)\n",
    "\n",
    "# fold_no = 1\n",
    "# for train_index, valid_index in kf.split(X):\n",
    "#     print(f'Training fold {fold_no} ...')\n",
    "\n",
    "#     # Split data\n",
    "#     X_train_fold, X_valid_fold = X[train_index], X[valid_index]\n",
    "#     y_train_fold, y_valid_fold = y[train_index], y[valid_index]\n",
    "\n",
    "#     # Build the model\n",
    "#     model = tf.keras.Sequential([\n",
    "#         tf.keras.layers.Embedding(vocab_size, embedding_dim, input_shape=(max_length,)),\n",
    "#         tf.keras.layers.Conv1D(128, 5, activation='relu', padding='same'),\n",
    "#         tf.keras.layers.MaxPooling1D(pool_size=2),\n",
    "#         tf.keras.layers.LSTM(100),\n",
    "#         tf.keras.layers.Dense(16, activation='relu'),\n",
    "#         tf.keras.layers.Dropout(0.5),\n",
    "#         tf.keras.layers.Dense(1, activation='sigmoid')\n",
    "#     ])\n",
    "\n",
    "#     model.compile(loss='binary_crossentropy', optimizer='adam', metrics=['accuracy'])\n",
    "\n",
    "#     # Train the model\n",
    "#     history = model.fit(X_train_fold, y_train_fold, epochs=4, validation_data=(X_valid_fold, y_valid_fold))\n",
    "\n",
    "#     print(f'Fold {fold_no} completed')\n",
    "\n",
    "#     fold_no += 1\n",
    "\n",
    "# # Evaluate the final model on all data (optional)\n",
    "# final_loss, final_accuracy = model.evaluate(X, y)\n",
    "# print(f'Final loss: {final_loss}, Final accuracy: {final_accuracy}')\n"
   ]
  },
  {
   "cell_type": "code",
   "execution_count": 31,
   "metadata": {},
   "outputs": [
    {
     "name": "stderr",
     "output_type": "stream",
     "text": [
      "WARNING:absl:You are saving your model as an HDF5 file via `model.save()` or `keras.saving.save_model(model)`. This file format is considered legacy. We recommend using instead the native Keras format, e.g. `model.save('my_model.keras')` or `keras.saving.save_model(model, 'my_model.keras')`. \n"
     ]
    },
    {
     "ename": "ValueError",
     "evalue": "Unable to synchronously create dataset (name already exists)",
     "output_type": "error",
     "traceback": [
      "\u001b[1;31m---------------------------------------------------------------------------\u001b[0m",
      "\u001b[1;31mValueError\u001b[0m                                Traceback (most recent call last)",
      "Cell \u001b[1;32mIn[31], line 2\u001b[0m\n\u001b[0;32m      1\u001b[0m \u001b[38;5;66;03m#save model\u001b[39;00m\n\u001b[1;32m----> 2\u001b[0m \u001b[43mmodel\u001b[49m\u001b[38;5;241;43m.\u001b[39;49m\u001b[43msave\u001b[49m\u001b[43m(\u001b[49m\u001b[38;5;124;43m'\u001b[39;49m\u001b[38;5;124;43m./model/model-cnn-bilstm.h5\u001b[39;49m\u001b[38;5;124;43m'\u001b[39;49m\u001b[43m)\u001b[49m\n",
      "File \u001b[1;32mc:\\Users\\lenovo\\AppData\\Local\\Programs\\Python\\Python39\\lib\\site-packages\\keras\\src\\utils\\traceback_utils.py:123\u001b[0m, in \u001b[0;36mfilter_traceback.<locals>.error_handler\u001b[1;34m(*args, **kwargs)\u001b[0m\n\u001b[0;32m    120\u001b[0m     filtered_tb \u001b[38;5;241m=\u001b[39m _process_traceback_frames(e\u001b[38;5;241m.\u001b[39m__traceback__)\n\u001b[0;32m    121\u001b[0m     \u001b[38;5;66;03m# To get the full stack trace, call:\u001b[39;00m\n\u001b[0;32m    122\u001b[0m     \u001b[38;5;66;03m# `keras.config.disable_traceback_filtering()`\u001b[39;00m\n\u001b[1;32m--> 123\u001b[0m     \u001b[38;5;28;01mraise\u001b[39;00m e\u001b[38;5;241m.\u001b[39mwith_traceback(filtered_tb) \u001b[38;5;28;01mfrom\u001b[39;00m \u001b[38;5;28;01mNone\u001b[39;00m\n\u001b[0;32m    124\u001b[0m \u001b[38;5;28;01mfinally\u001b[39;00m:\n\u001b[0;32m    125\u001b[0m     \u001b[38;5;28;01mdel\u001b[39;00m filtered_tb\n",
      "File \u001b[1;32mc:\\Users\\lenovo\\AppData\\Local\\Programs\\Python\\Python39\\lib\\site-packages\\h5py\\_hl\\group.py:183\u001b[0m, in \u001b[0;36mGroup.create_dataset\u001b[1;34m(self, name, shape, dtype, data, **kwds)\u001b[0m\n\u001b[0;32m    180\u001b[0m         parent_path, name \u001b[38;5;241m=\u001b[39m name\u001b[38;5;241m.\u001b[39mrsplit(\u001b[38;5;124mb\u001b[39m\u001b[38;5;124m'\u001b[39m\u001b[38;5;124m/\u001b[39m\u001b[38;5;124m'\u001b[39m, \u001b[38;5;241m1\u001b[39m)\n\u001b[0;32m    181\u001b[0m         group \u001b[38;5;241m=\u001b[39m \u001b[38;5;28mself\u001b[39m\u001b[38;5;241m.\u001b[39mrequire_group(parent_path)\n\u001b[1;32m--> 183\u001b[0m dsid \u001b[38;5;241m=\u001b[39m dataset\u001b[38;5;241m.\u001b[39mmake_new_dset(group, shape, dtype, data, name, \u001b[38;5;241m*\u001b[39m\u001b[38;5;241m*\u001b[39mkwds)\n\u001b[0;32m    184\u001b[0m dset \u001b[38;5;241m=\u001b[39m dataset\u001b[38;5;241m.\u001b[39mDataset(dsid)\n\u001b[0;32m    185\u001b[0m \u001b[38;5;28;01mreturn\u001b[39;00m dset\n",
      "File \u001b[1;32mc:\\Users\\lenovo\\AppData\\Local\\Programs\\Python\\Python39\\lib\\site-packages\\h5py\\_hl\\dataset.py:163\u001b[0m, in \u001b[0;36mmake_new_dset\u001b[1;34m(parent, shape, dtype, data, name, chunks, compression, shuffle, fletcher32, maxshape, compression_opts, fillvalue, scaleoffset, track_times, external, track_order, dcpl, dapl, efile_prefix, virtual_prefix, allow_unknown_filter, rdcc_nslots, rdcc_nbytes, rdcc_w0)\u001b[0m\n\u001b[0;32m    160\u001b[0m \u001b[38;5;28;01melse\u001b[39;00m:\n\u001b[0;32m    161\u001b[0m     sid \u001b[38;5;241m=\u001b[39m h5s\u001b[38;5;241m.\u001b[39mcreate_simple(shape, maxshape)\n\u001b[1;32m--> 163\u001b[0m dset_id \u001b[38;5;241m=\u001b[39m \u001b[43mh5d\u001b[49m\u001b[38;5;241;43m.\u001b[39;49m\u001b[43mcreate\u001b[49m\u001b[43m(\u001b[49m\u001b[43mparent\u001b[49m\u001b[38;5;241;43m.\u001b[39;49m\u001b[43mid\u001b[49m\u001b[43m,\u001b[49m\u001b[43m \u001b[49m\u001b[43mname\u001b[49m\u001b[43m,\u001b[49m\u001b[43m \u001b[49m\u001b[43mtid\u001b[49m\u001b[43m,\u001b[49m\u001b[43m \u001b[49m\u001b[43msid\u001b[49m\u001b[43m,\u001b[49m\u001b[43m \u001b[49m\u001b[43mdcpl\u001b[49m\u001b[38;5;241;43m=\u001b[39;49m\u001b[43mdcpl\u001b[49m\u001b[43m,\u001b[49m\u001b[43m \u001b[49m\u001b[43mdapl\u001b[49m\u001b[38;5;241;43m=\u001b[39;49m\u001b[43mdapl\u001b[49m\u001b[43m)\u001b[49m\n\u001b[0;32m    165\u001b[0m \u001b[38;5;28;01mif\u001b[39;00m (data \u001b[38;5;129;01mis\u001b[39;00m \u001b[38;5;129;01mnot\u001b[39;00m \u001b[38;5;28;01mNone\u001b[39;00m) \u001b[38;5;129;01mand\u001b[39;00m (\u001b[38;5;129;01mnot\u001b[39;00m \u001b[38;5;28misinstance\u001b[39m(data, Empty)):\n\u001b[0;32m    166\u001b[0m     dset_id\u001b[38;5;241m.\u001b[39mwrite(h5s\u001b[38;5;241m.\u001b[39mALL, h5s\u001b[38;5;241m.\u001b[39mALL, data)\n",
      "File \u001b[1;32mh5py\\_objects.pyx:54\u001b[0m, in \u001b[0;36mh5py._objects.with_phil.wrapper\u001b[1;34m()\u001b[0m\n",
      "File \u001b[1;32mh5py\\_objects.pyx:55\u001b[0m, in \u001b[0;36mh5py._objects.with_phil.wrapper\u001b[1;34m()\u001b[0m\n",
      "File \u001b[1;32mh5py\\h5d.pyx:137\u001b[0m, in \u001b[0;36mh5py.h5d.create\u001b[1;34m()\u001b[0m\n",
      "\u001b[1;31mValueError\u001b[0m: Unable to synchronously create dataset (name already exists)"
     ]
    }
   ],
   "source": [
    "#save model\n",
    "# model.save('./model/model-cnn-bilstm.h5')"
   ]
  },
  {
   "cell_type": "code",
   "execution_count": null,
   "metadata": {},
   "outputs": [],
   "source": []
  }
 ],
 "metadata": {
  "kernelspec": {
   "display_name": "Python 3",
   "language": "python",
   "name": "python3"
  },
  "language_info": {
   "codemirror_mode": {
    "name": "ipython",
    "version": 3
   },
   "file_extension": ".py",
   "mimetype": "text/x-python",
   "name": "python",
   "nbconvert_exporter": "python",
   "pygments_lexer": "ipython3",
   "version": "3.9.2"
  }
 },
 "nbformat": 4,
 "nbformat_minor": 2
}
