{
 "cells": [
  {
   "cell_type": "code",
   "execution_count": 1,
   "metadata": {},
   "outputs": [],
   "source": [
    "import numpy as np\n",
    "import matplotlib.pyplot as plt\n",
    "import pandas as pd\n"
   ]
  },
  {
   "cell_type": "code",
   "execution_count": 2,
   "metadata": {},
   "outputs": [
    {
     "name": "stdout",
     "output_type": "stream",
     "text": [
      "Weight matrix shape: (1, 16)\n",
      "Weight matrix values:\n",
      " [[-0.59 -0.63 -0.13  0.41 -0.88  0.42 -0.79 -0.3   0.66 -0.26  0.96  0.87\n",
      "   0.28  0.46 -0.02 -0.22]]\n"
     ]
    }
   ],
   "source": [
    "# Jumlah neuron pada lapisan input\n",
    "input_neurons = 1\n",
    "\n",
    "# # Jumlah neuron pada lapisan tersembunyi\n",
    "hidden_neurons = 16\n",
    "\n",
    "# # Inisialisasi bobot secara acak dengan distribusi uniform dari -1 hingga 1\n",
    "weight_matrix_hidden = np.random.uniform(low=-1, high=1, size=(input_neurons, hidden_neurons))\n",
    "\n",
    "# # Membulatkan nilai bobot menjadi bilangan bulat\n",
    "rounded_weight_matrix_hidden = np.round(weight_matrix_hidden, 2)\n",
    "\n",
    "print(\"Weight matrix shape:\", rounded_weight_matrix_hidden.shape)\n",
    "print(\"Weight matrix values:\\n\", rounded_weight_matrix_hidden)\n",
    "\n"
   ]
  },
  {
   "cell_type": "code",
   "execution_count": 3,
   "metadata": {},
   "outputs": [
    {
     "name": "stdout",
     "output_type": "stream",
     "text": [
      "[-0.099297 -0.106029 -0.021879  0.069003 -0.148104  0.070686 -0.132957\n",
      " -0.05049   0.111078 -0.043758  0.161568  0.146421  0.047124  0.077418\n",
      " -0.003366 -0.037026]\n",
      "Output vector:\n",
      "[0.       0.       0.       0.069003 0.       0.070686 0.       0.\n",
      " 0.111078 0.       0.161568 0.146421 0.047124 0.077418 0.       0.      ]\n"
     ]
    }
   ],
   "source": [
    "import numpy as np\n",
    "\n",
    "# Fungsi aktivasi ReLU\n",
    "def relu(x):\n",
    "    return np.maximum(0, x)\n",
    "\n",
    "# Input dari hasil konvolusi\n",
    "# timnas indonesia main mantap keren banget tahan bagus serang bagus\n",
    "input_vector = np.array([0.1683])\n",
    "\n",
    "\n",
    "# Hitung feedforward\n",
    "print(np.dot(input_vector, rounded_weight_matrix_hidden))\n",
    "output_vector_hidden = relu(np.dot(input_vector, rounded_weight_matrix_hidden))\n",
    "\n",
    "print(\"Output vector:\")\n",
    "print(output_vector_hidden)\n"
   ]
  },
  {
   "cell_type": "code",
   "execution_count": 6,
   "metadata": {},
   "outputs": [
    {
     "name": "stdout",
     "output_type": "stream",
     "text": [
      "Weight matrix shape: (16, 3)\n",
      "Weight matrix values:\n",
      " [[ 0.76 -0.53  0.26]\n",
      " [-0.    0.86 -0.27]\n",
      " [-0.32 -0.11  0.21]\n",
      " [ 0.01 -0.16  0.58]\n",
      " [ 0.36 -0.78 -0.79]\n",
      " [-0.43 -0.6  -0.3 ]\n",
      " [-0.7   0.66  0.68]\n",
      " [ 0.12  0.67 -0.08]\n",
      " [ 0.85  0.99  0.55]\n",
      " [-0.63  0.86  0.07]\n",
      " [-0.21  0.17 -0.09]\n",
      " [ 0.95  0.93 -0.27]\n",
      " [ 0.72 -0.3   1.  ]\n",
      " [ 0.    0.11  0.09]\n",
      " [-0.74 -0.09  0.04]\n",
      " [ 0.23  0.13  0.36]]\n"
     ]
    }
   ],
   "source": [
    "# Jumlah neuron pada lapisan input\n",
    "hidden_neurons = 16\n",
    "\n",
    "# Jumlah neuron pada lapisan tersembunyi\n",
    "output_layer_neurons = 3\n",
    "\n",
    "# Inisialisasi bobot secara acak dengan distribusi uniform dari -1 hingga 1\n",
    "weight_matrix = np.random.uniform(low=-1, high=1, size=(hidden_neurons, output_layer_neurons))\n",
    "\n",
    "# Membulatkan nilai bobot menjadi bilangan bulat\n",
    "rounded_weight_matrix_output = np.round(weight_matrix, 2)\n",
    "\n",
    "print(\"Weight matrix shape:\", rounded_weight_matrix_output.shape)\n",
    "print(\"Weight matrix values:\\n\", rounded_weight_matrix_output)"
   ]
  },
  {
   "cell_type": "code",
   "execution_count": 7,
   "metadata": {},
   "outputs": [
    {
     "name": "stdout",
     "output_type": "stream",
     "text": [
      "\n",
      "Output dot vector\n",
      "[-0.24313791  0.25420849  0.37355009]\n",
      "\n",
      "Updated weight matrix:\n",
      "[[-0.98327151  0.55373063  0.85962628]\n",
      " [-0.13533225 -0.55907465  0.79711341]\n",
      " [-0.57972138 -0.89935898 -0.43267666]\n",
      " [-0.69278409  0.54588971  0.81375545]\n",
      " [ 0.49784574 -0.68688994  0.9190191 ]\n",
      " [ 0.77901555 -0.82800763 -0.8221733 ]\n",
      " [-0.32559461  0.19572018  0.11156684]\n",
      " [ 0.72498565  0.53520911  0.65001949]\n",
      " [-0.53748278  0.77784836  0.80553744]\n",
      " [ 0.73767698  0.10450657  0.14834182]\n",
      " [-0.90225649  0.51111708  0.6140748 ]\n",
      " [-0.4630794   0.93860538  0.92218875]\n",
      " [ 0.19432008 -0.03558168 -0.17381765]\n",
      " [ 0.17730345 -0.38321549  0.77482664]\n",
      " [-0.66312186 -0.94972653 -0.98742188]\n",
      " [ 0.85900352  0.82972158  0.24077662]]\n",
      "\n",
      "Output vector sigmoid:\n",
      "[0.22236387 0.36564448 0.41199165]\n"
     ]
    },
    {
     "ename": "",
     "evalue": "",
     "output_type": "error",
     "traceback": [
      "\u001b[1;31mThe Kernel crashed while executing code in the current cell or a previous cell. \n",
      "\u001b[1;31mPlease review the code in the cell(s) to identify a possible cause of the failure. \n",
      "\u001b[1;31mClick <a href='https://aka.ms/vscodeJupyterKernelCrash'>here</a> for more info. \n",
      "\u001b[1;31mView Jupyter <a href='command:jupyter.viewOutput'>log</a> for further details."
     ]
    }
   ],
   "source": [
    "import numpy as np\n",
    "\n",
    "\n",
    "# def sigmoid(x):\n",
    "#     return 1 / (1 + np.exp(-x))\n",
    "\n",
    "def softmax(x):\n",
    "    return np.exp(x) / np.sum(np.exp(x), axis=0)\n",
    "\n",
    "# Mengupdate bobot secara acak hingga output vektor softmax pada indeks ke-2 lebih besar dari yang lainnya\n",
    "while True:\n",
    "    # Mendapatkan output vector dengan bobot yang terbaru\n",
    "    output_dot = np.dot(output_vector_hidden, rounded_weight_matrix_output)\n",
    "    output_final = softmax(output_dot)\n",
    "    \n",
    "    # Jika output vektor pada indeks ke-2 lebih besar daripada yang lainnya, hentikan loop\n",
    "    if output_final[2] > output_final[0] and output_final[2] > output_final[1]:\n",
    "        break\n",
    "    \n",
    "    # Jika tidak, update bobot secara acak\n",
    "    rounded_weight_matrix_output = np.random.uniform(low=-1.0, high=1.0, size=rounded_weight_matrix_output.shape)\n",
    "\n",
    "print(\"\\nOutput dot vector\")\n",
    "print(output_dot)\n",
    "print(\"\\nUpdated weight matrix:\")\n",
    "print(rounded_weight_matrix_output)\n",
    "print(\"\\nOutput vector sigmoid:\")\n",
    "print(output_final)\n"
   ]
  }
 ],
 "metadata": {
  "kernelspec": {
   "display_name": "Python 3",
   "language": "python",
   "name": "python3"
  },
  "language_info": {
   "codemirror_mode": {
    "name": "ipython",
    "version": 3
   },
   "file_extension": ".py",
   "mimetype": "text/x-python",
   "name": "python",
   "nbconvert_exporter": "python",
   "pygments_lexer": "ipython3",
   "version": "3.9.2"
  }
 },
 "nbformat": 4,
 "nbformat_minor": 2
}
