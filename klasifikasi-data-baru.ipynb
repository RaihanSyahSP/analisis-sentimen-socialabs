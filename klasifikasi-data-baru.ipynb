{
 "cells": [
  {
   "cell_type": "code",
   "execution_count": 98,
   "metadata": {},
   "outputs": [],
   "source": [
    "from tensorflow.keras.models import load_model\n",
    "from tensorflow.keras.preprocessing.text import Tokenizer\n",
    "from tensorflow.keras.preprocessing.sequence import pad_sequences\n",
    "import numpy as np\n",
    "import pandas as pd\n"
   ]
  },
  {
   "cell_type": "code",
   "execution_count": 123,
   "metadata": {},
   "outputs": [
    {
     "name": "stderr",
     "output_type": "stream",
     "text": [
      "WARNING:absl:Compiled the loaded model, but the compiled metrics have yet to be built. `model.compile_metrics` will be empty until you train or evaluate the model.\n"
     ]
    }
   ],
   "source": [
    "model = load_model('./model/model-cnn-word2vec-3-classes-stemming.h5')"
   ]
  },
  {
   "cell_type": "code",
   "execution_count": 124,
   "metadata": {},
   "outputs": [],
   "source": [
    "df = pd.read_csv('./dataset/dataset-testing/timnas_with_stemming.csv')"
   ]
  },
  {
   "cell_type": "code",
   "execution_count": 125,
   "metadata": {},
   "outputs": [
    {
     "data": {
      "text/html": [
       "<div>\n",
       "<style scoped>\n",
       "    .dataframe tbody tr th:only-of-type {\n",
       "        vertical-align: middle;\n",
       "    }\n",
       "\n",
       "    .dataframe tbody tr th {\n",
       "        vertical-align: top;\n",
       "    }\n",
       "\n",
       "    .dataframe thead th {\n",
       "        text-align: right;\n",
       "    }\n",
       "</style>\n",
       "<table border=\"1\" class=\"dataframe\">\n",
       "  <thead>\n",
       "    <tr style=\"text-align: right;\">\n",
       "      <th></th>\n",
       "      <th>full_text</th>\n",
       "      <th>processed</th>\n",
       "    </tr>\n",
       "  </thead>\n",
       "  <tbody>\n",
       "    <tr>\n",
       "      <th>0</th>\n",
       "      <td>@safergieway @PSSI True bang. bener² ga ngerti sih cara mainnya pssi, pelatih kelas dunia mah bisa kapan ajaa. kalo kompetisi ga jalan yaa percuma wkwk timnas cowok aja yg punya kompetisi setengah mati pengen prestasi</td>\n",
       "      <td>['true', 'bang', 'erti', 'main', 'pssi', 'latih', 'kelas', 'dunia', 'mah', 'kompetisi', 'jalan', 'wkwk', 'timnas', 'cowok', 'kompetisi', 'mati', 'pengin', 'prestasi']</td>\n",
       "    </tr>\n",
       "    <tr>\n",
       "      <th>1</th>\n",
       "      <td>Padahal buat jam terbang dan latihan kan kalo ada liga dan klub ya timnas aja mainnya per berapa tahun dl 😅</td>\n",
       "      <td>['jam', 'terbang', 'latih', 'liga', 'klub', 'timnas', 'main']</td>\n",
       "    </tr>\n",
       "    <tr>\n",
       "      <th>2</th>\n",
       "      <td>@garagarabola_ Lebih penting timnas bagus mainnya daripada segala Jersey aja dikerenin🤭</td>\n",
       "      <td>['timnas', 'bagus', 'main', 'jersey', 'renin']</td>\n",
       "    </tr>\n",
       "    <tr>\n",
       "      <th>3</th>\n",
       "      <td>@Tyows pdhal Pemain Timnas inggris nih gw rasa gada 1 pun Midfielder yg gaya mainnya kyak Mainoo,kenapa masih ga sat set buat manggil dia wkwk</td>\n",
       "      <td>['main', 'timnas', 'inggris', 'gue', 'enggak ada', 'midfielder', 'gaya', 'main', 'kayak', 'mainookenapa', 'sat', 'set', 'manggil', 'wkwk']</td>\n",
       "    </tr>\n",
       "    <tr>\n",
       "      <th>4</th>\n",
       "      <td>@utdfocusid @bliblidotcom Semuanya out kecuali hojlund, diganti sm pemain2 timnas kcuali Struick wkwk mainnya masih bagusan timnas kmrn cok</td>\n",
       "      <td>['out', 'kecuali', 'hojlund', 'ganti', 'main', 'timnas', 'kcuali', 'struick', 'wkwk', 'main', 'bagus', 'timnas', 'kemarin', 'cok']</td>\n",
       "    </tr>\n",
       "    <tr>\n",
       "      <th>...</th>\n",
       "      <td>...</td>\n",
       "      <td>...</td>\n",
       "    </tr>\n",
       "    <tr>\n",
       "      <th>1498</th>\n",
       "      <td>timnas malam ini mainnya gokil abizzzz 🇲🇨👊 #TimnasDay</td>\n",
       "      <td>['timnas', 'malam', 'main', 'gila', 'habis']</td>\n",
       "    </tr>\n",
       "    <tr>\n",
       "      <th>1499</th>\n",
       "      <td>@Indostransfer Apresiasi utk ketahanan fisik timnas yg ternyata kurang lebih sanggup bermain dengan itensitas yg sama seperti babak pertama Hari ini mainnya kolektif, menangnya pun jg kolektif Silahkan rayakan sesaat 3 poinnya, kemudian lgsg fokus pada laga terakhir vs Japan Semoga ada kejutan!</td>\n",
       "      <td>['apresiasi', 'tahan', 'fisik', 'timnas', 'nyata', 'sanggup', 'main', 'itensitas', 'babak', 'main', 'kolektif', 'menang', 'kolektif', 'sila', 'raya', 'poin', 'langsung', 'fokus', 'laga', 'vs', 'japan', 'moga', 'kejut']</td>\n",
       "    </tr>\n",
       "    <tr>\n",
       "      <th>1500</th>\n",
       "      <td>90 menit full deg-degan... Babak pertama mainnya bagus, babak kedua malah berantakan. Yang penting menang, Ahay!!! Mantap Timnas, credit untuk semua pemain 👏👏👏🔥♥️  #TimnasDay</td>\n",
       "      <td>['menit', 'full', 'degdegan', 'babak', 'main', 'bagus', 'babak', 'beranta', 'menang', 'ahay', 'mantap', 'timnas', 'credit', 'main']</td>\n",
       "    </tr>\n",
       "    <tr>\n",
       "      <th>1501</th>\n",
       "      <td>Sandy Walsh mainnya apik, solid.  Beli jersey timnas kasih nameset blio menarik jg nih hehe cc @shabrina_tasya 🙏🏼</td>\n",
       "      <td>['sandy', 'walsh', 'main', 'apik', 'solid', 'beli', 'jersey', 'timnas', 'kasih', 'nameset', 'blio', 'tarik', 'cc', 'tasya']</td>\n",
       "    </tr>\n",
       "    <tr>\n",
       "      <th>1502</th>\n",
       "      <td>ruar biasa timnas, walau babak kedua mainnya menurun tapi bisa meredam serangan nguyen fc</td>\n",
       "      <td>['ruar', 'timnas', 'babak', 'main', 'turun', 'redam', 'serang', 'nguyen', 'fc']</td>\n",
       "    </tr>\n",
       "  </tbody>\n",
       "</table>\n",
       "<p>1503 rows × 2 columns</p>\n",
       "</div>"
      ],
      "text/plain": [
       "                                                                                                                                                                                                                                                                                                    full_text  \\\n",
       "0                                                                                   @safergieway @PSSI True bang. bener² ga ngerti sih cara mainnya pssi, pelatih kelas dunia mah bisa kapan ajaa. kalo kompetisi ga jalan yaa percuma wkwk timnas cowok aja yg punya kompetisi setengah mati pengen prestasi   \n",
       "1                                                                                                                                                                                                 Padahal buat jam terbang dan latihan kan kalo ada liga dan klub ya timnas aja mainnya per berapa tahun dl 😅   \n",
       "2                                                                                                                                                                                                                     @garagarabola_ Lebih penting timnas bagus mainnya daripada segala Jersey aja dikerenin🤭   \n",
       "3                                                                                                                                                              @Tyows pdhal Pemain Timnas inggris nih gw rasa gada 1 pun Midfielder yg gaya mainnya kyak Mainoo,kenapa masih ga sat set buat manggil dia wkwk   \n",
       "4                                                                                                                                                                 @utdfocusid @bliblidotcom Semuanya out kecuali hojlund, diganti sm pemain2 timnas kcuali Struick wkwk mainnya masih bagusan timnas kmrn cok   \n",
       "...                                                                                                                                                                                                                                                                                                       ...   \n",
       "1498                                                                                                                                                                                                                                                    timnas malam ini mainnya gokil abizzzz 🇲🇨👊 #TimnasDay   \n",
       "1499  @Indostransfer Apresiasi utk ketahanan fisik timnas yg ternyata kurang lebih sanggup bermain dengan itensitas yg sama seperti babak pertama Hari ini mainnya kolektif, menangnya pun jg kolektif Silahkan rayakan sesaat 3 poinnya, kemudian lgsg fokus pada laga terakhir vs Japan Semoga ada kejutan!   \n",
       "1500                                                                                                                           90 menit full deg-degan... Babak pertama mainnya bagus, babak kedua malah berantakan. Yang penting menang, Ahay!!! Mantap Timnas, credit untuk semua pemain 👏👏👏🔥♥️  #TimnasDay   \n",
       "1501                                                                                                                                                                                        Sandy Walsh mainnya apik, solid.  Beli jersey timnas kasih nameset blio menarik jg nih hehe cc @shabrina_tasya 🙏🏼   \n",
       "1502                                                                                                                                                                                                                ruar biasa timnas, walau babak kedua mainnya menurun tapi bisa meredam serangan nguyen fc   \n",
       "\n",
       "                                                                                                                                                                                                                       processed  \n",
       "0                                                         ['true', 'bang', 'erti', 'main', 'pssi', 'latih', 'kelas', 'dunia', 'mah', 'kompetisi', 'jalan', 'wkwk', 'timnas', 'cowok', 'kompetisi', 'mati', 'pengin', 'prestasi']  \n",
       "1                                                                                                                                                                  ['jam', 'terbang', 'latih', 'liga', 'klub', 'timnas', 'main']  \n",
       "2                                                                                                                                                                                 ['timnas', 'bagus', 'main', 'jersey', 'renin']  \n",
       "3                                                                                     ['main', 'timnas', 'inggris', 'gue', 'enggak ada', 'midfielder', 'gaya', 'main', 'kayak', 'mainookenapa', 'sat', 'set', 'manggil', 'wkwk']  \n",
       "4                                                                                             ['out', 'kecuali', 'hojlund', 'ganti', 'main', 'timnas', 'kcuali', 'struick', 'wkwk', 'main', 'bagus', 'timnas', 'kemarin', 'cok']  \n",
       "...                                                                                                                                                                                                                          ...  \n",
       "1498                                                                                                                                                                                ['timnas', 'malam', 'main', 'gila', 'habis']  \n",
       "1499  ['apresiasi', 'tahan', 'fisik', 'timnas', 'nyata', 'sanggup', 'main', 'itensitas', 'babak', 'main', 'kolektif', 'menang', 'kolektif', 'sila', 'raya', 'poin', 'langsung', 'fokus', 'laga', 'vs', 'japan', 'moga', 'kejut']  \n",
       "1500                                                                                         ['menit', 'full', 'degdegan', 'babak', 'main', 'bagus', 'babak', 'beranta', 'menang', 'ahay', 'mantap', 'timnas', 'credit', 'main']  \n",
       "1501                                                                                                 ['sandy', 'walsh', 'main', 'apik', 'solid', 'beli', 'jersey', 'timnas', 'kasih', 'nameset', 'blio', 'tarik', 'cc', 'tasya']  \n",
       "1502                                                                                                                                             ['ruar', 'timnas', 'babak', 'main', 'turun', 'redam', 'serang', 'nguyen', 'fc']  \n",
       "\n",
       "[1503 rows x 2 columns]"
      ]
     },
     "execution_count": 125,
     "metadata": {},
     "output_type": "execute_result"
    }
   ],
   "source": [
    "df"
   ]
  },
  {
   "cell_type": "code",
   "execution_count": 126,
   "metadata": {},
   "outputs": [
    {
     "data": {
      "text/plain": [
       "0                                            true bang erti main pssi latih kelas dunia mah kompetisi jalan wkwk timnas cowok kompetisi mati pengin prestasi\n",
       "1                                                                                                                    jam terbang latih liga klub timnas main\n",
       "2                                                                                                                             timnas bagus main jersey renin\n",
       "3                                                            main timnas inggris gue enggak ada midfielder gaya main kayak mainookenapa sat set manggil wkwk\n",
       "4                                                                    out kecuali hojlund ganti main timnas kcuali struick wkwk main bagus timnas kemarin cok\n",
       "                                                                                ...                                                                         \n",
       "1498                                                                                                                            timnas malam main gila habis\n",
       "1499    apresiasi tahan fisik timnas nyata sanggup main itensitas babak main kolektif menang kolektif sila raya poin langsung fokus laga vs japan moga kejut\n",
       "1500                                                                menit full degdegan babak main bagus babak beranta menang ahay mantap timnas credit main\n",
       "1501                                                                        sandy walsh main apik solid beli jersey timnas kasih nameset blio tarik cc tasya\n",
       "1502                                                                                                     ruar timnas babak main turun redam serang nguyen fc\n",
       "Name: processed, Length: 1503, dtype: object"
      ]
     },
     "execution_count": 126,
     "metadata": {},
     "output_type": "execute_result"
    }
   ],
   "source": [
    "# join list of token as single document string\n",
    "import ast\n",
    "\n",
    "def join_text_list(texts):\n",
    "    texts = ast.literal_eval(texts)\n",
    "    return ' '.join([text for text in texts])\n",
    "df[\"processed\"] = df[\"processed\"].apply(join_text_list)\n",
    "\n",
    "df[\"processed\"]"
   ]
  },
  {
   "cell_type": "code",
   "execution_count": 130,
   "metadata": {},
   "outputs": [],
   "source": [
    "# get tokenizer pickle\n",
    "import pickle\n",
    "\n",
    "with open('./tokenizer-3classes.pickle', 'rb') as handle:\n",
    "    tokenizer = pickle.load(handle)\n"
   ]
  },
  {
   "cell_type": "code",
   "execution_count": 131,
   "metadata": {},
   "outputs": [],
   "source": [
    "# # Parameters\n",
    "# \n",
    "vocab_size = 20000\n",
    "max_length = 100\n",
    "embedding_dim = 8\n",
    "trunc_type='post'\n",
    "oov_tok = \"<OOV>\""
   ]
  },
  {
   "cell_type": "code",
   "execution_count": 132,
   "metadata": {},
   "outputs": [],
   "source": [
    "sequences = tokenizer.texts_to_sequences(df['processed'])\n",
    "padded_sequences = pad_sequences(sequences, maxlen=max_length, truncating=trunc_type)"
   ]
  },
  {
   "cell_type": "code",
   "execution_count": 133,
   "metadata": {},
   "outputs": [
    {
     "data": {
      "text/plain": [
       "(1503, 100)"
      ]
     },
     "execution_count": 133,
     "metadata": {},
     "output_type": "execute_result"
    }
   ],
   "source": [
    "padded_sequences.shape"
   ]
  },
  {
   "cell_type": "code",
   "execution_count": 134,
   "metadata": {},
   "outputs": [
    {
     "data": {
      "text/plain": [
       "array([   0,    0,    0,    0,    0,    0,    0,    0,    0,    0,    0,\n",
       "          0,    0,    0,    0,    0,    0,    0,    0,    0,    0,    0,\n",
       "          0,    0,    0,    0,    0,    0,    0,    0,    0,    0,    0,\n",
       "          0,    0,    0,    0,    0,    0,    0,    0,    0,    0,    0,\n",
       "          0,    0,    0,    0,    0,    0,    0,    0,    0,    0,    0,\n",
       "          0,    0,    0,    0,    0,    0,    0,    0,    0,    0,    0,\n",
       "          0,    0,    0,    0,    0,    0,    0,    0,    0,    0,    0,\n",
       "          0,    0,    0,    0,    0,    0,    0,    0,    0,    0,    0,\n",
       "          0,    0,    0,    0,    0,   59, 1370, 1936, 3387, 9787, 5978,\n",
       "        102])"
      ]
     },
     "execution_count": 134,
     "metadata": {},
     "output_type": "execute_result"
    }
   ],
   "source": [
    "padded_sequences[1]"
   ]
  },
  {
   "cell_type": "code",
   "execution_count": 135,
   "metadata": {},
   "outputs": [
    {
     "name": "stdout",
     "output_type": "stream",
     "text": [
      "\u001b[1m47/47\u001b[0m \u001b[32m━━━━━━━━━━━━━━━━━━━━\u001b[0m\u001b[37m\u001b[0m \u001b[1m0s\u001b[0m 6ms/step\n"
     ]
    }
   ],
   "source": [
    "predictions = model.predict(padded_sequences)"
   ]
  },
  {
   "cell_type": "code",
   "execution_count": 136,
   "metadata": {},
   "outputs": [],
   "source": [
    "# Menginterpretasikan hasil prediksi\n",
    "# Misalnya, mengasumsikan kelas 0 sebagai \"Netral\", kelas 1 sebagai \"Negatif\", dan kelas 2 sebagai \"Positif\"\n",
    "predicted_labels = []\n",
    "predicted_probabilities = []  # Menyimpan probabilitas prediksi untuk semua kelas\n",
    "\n",
    "for pred in predictions:\n",
    "    # Menentukan kelas berdasarkan nilai probabilitas tertinggi\n",
    "    label_index = np.argmax(pred)\n",
    "    if label_index == 0:\n",
    "        predicted_labels.append(\"Netral\")\n",
    "    elif label_index == 1:\n",
    "        predicted_labels.append(\"Negatif\")\n",
    "    else:\n",
    "        predicted_labels.append(\"Positif\")\n",
    "    \n",
    "    # Menyimpan probabilitas prediksi untuk semua kelas\n",
    "    predicted_probabilities.append(pred)  # Menyimpan array probabilitas dari softmax\n",
    "\n",
    "# Menambahkan hasil prediksi dan probabilitas prediksi ke dalam data asli\n",
    "df['predicted_label'] = predicted_labels\n",
    "df['predicted_probability_netral'] = [prob[0] for prob in predicted_probabilities]\n",
    "df['predicted_probability_negatif'] = [prob[1] for prob in predicted_probabilities]\n",
    "df['predicted_probability_positif'] = [prob[2] for prob in predicted_probabilities]\n",
    "\n",
    "# Menyimpan data dengan hasil prediksi dan probabilitas prediksi ke dalam file CSV baru\n",
    "df.to_csv('klasifikasi_baru_model_with_softmax_stemming.csv', index=False)\n",
    "\n"
   ]
  },
  {
   "cell_type": "code",
   "execution_count": 137,
   "metadata": {},
   "outputs": [
    {
     "data": {
      "text/html": [
       "<div>\n",
       "<style scoped>\n",
       "    .dataframe tbody tr th:only-of-type {\n",
       "        vertical-align: middle;\n",
       "    }\n",
       "\n",
       "    .dataframe tbody tr th {\n",
       "        vertical-align: top;\n",
       "    }\n",
       "\n",
       "    .dataframe thead th {\n",
       "        text-align: right;\n",
       "    }\n",
       "</style>\n",
       "<table border=\"1\" class=\"dataframe\">\n",
       "  <thead>\n",
       "    <tr style=\"text-align: right;\">\n",
       "      <th></th>\n",
       "      <th>full_text</th>\n",
       "      <th>processed</th>\n",
       "      <th>predicted_label</th>\n",
       "      <th>predicted_probability_netral</th>\n",
       "      <th>predicted_probability_negatif</th>\n",
       "      <th>predicted_probability_positif</th>\n",
       "    </tr>\n",
       "  </thead>\n",
       "  <tbody>\n",
       "    <tr>\n",
       "      <th>0</th>\n",
       "      <td>@safergieway @PSSI True bang. bener² ga ngerti sih cara mainnya pssi, pelatih kelas dunia mah bisa kapan ajaa. kalo kompetisi ga jalan yaa percuma wkwk timnas cowok aja yg punya kompetisi setengah mati pengen prestasi</td>\n",
       "      <td>true bang erti main pssi latih kelas dunia mah kompetisi jalan wkwk timnas cowok kompetisi mati pengin prestasi</td>\n",
       "      <td>Negatif</td>\n",
       "      <td>0.021737</td>\n",
       "      <td>0.921104</td>\n",
       "      <td>0.057159</td>\n",
       "    </tr>\n",
       "    <tr>\n",
       "      <th>1</th>\n",
       "      <td>Padahal buat jam terbang dan latihan kan kalo ada liga dan klub ya timnas aja mainnya per berapa tahun dl 😅</td>\n",
       "      <td>jam terbang latih liga klub timnas main</td>\n",
       "      <td>Netral</td>\n",
       "      <td>0.850099</td>\n",
       "      <td>0.098420</td>\n",
       "      <td>0.051481</td>\n",
       "    </tr>\n",
       "    <tr>\n",
       "      <th>2</th>\n",
       "      <td>@garagarabola_ Lebih penting timnas bagus mainnya daripada segala Jersey aja dikerenin🤭</td>\n",
       "      <td>timnas bagus main jersey renin</td>\n",
       "      <td>Positif</td>\n",
       "      <td>0.008567</td>\n",
       "      <td>0.070916</td>\n",
       "      <td>0.920518</td>\n",
       "    </tr>\n",
       "    <tr>\n",
       "      <th>3</th>\n",
       "      <td>@Tyows pdhal Pemain Timnas inggris nih gw rasa gada 1 pun Midfielder yg gaya mainnya kyak Mainoo,kenapa masih ga sat set buat manggil dia wkwk</td>\n",
       "      <td>main timnas inggris gue enggak ada midfielder gaya main kayak mainookenapa sat set manggil wkwk</td>\n",
       "      <td>Netral</td>\n",
       "      <td>0.425661</td>\n",
       "      <td>0.255654</td>\n",
       "      <td>0.318685</td>\n",
       "    </tr>\n",
       "    <tr>\n",
       "      <th>4</th>\n",
       "      <td>@utdfocusid @bliblidotcom Semuanya out kecuali hojlund, diganti sm pemain2 timnas kcuali Struick wkwk mainnya masih bagusan timnas kmrn cok</td>\n",
       "      <td>out kecuali hojlund ganti main timnas kcuali struick wkwk main bagus timnas kemarin cok</td>\n",
       "      <td>Positif</td>\n",
       "      <td>0.067844</td>\n",
       "      <td>0.183579</td>\n",
       "      <td>0.748577</td>\n",
       "    </tr>\n",
       "    <tr>\n",
       "      <th>...</th>\n",
       "      <td>...</td>\n",
       "      <td>...</td>\n",
       "      <td>...</td>\n",
       "      <td>...</td>\n",
       "      <td>...</td>\n",
       "      <td>...</td>\n",
       "    </tr>\n",
       "    <tr>\n",
       "      <th>1498</th>\n",
       "      <td>timnas malam ini mainnya gokil abizzzz 🇲🇨👊 #TimnasDay</td>\n",
       "      <td>timnas malam main gila habis</td>\n",
       "      <td>Negatif</td>\n",
       "      <td>0.223758</td>\n",
       "      <td>0.600383</td>\n",
       "      <td>0.175859</td>\n",
       "    </tr>\n",
       "    <tr>\n",
       "      <th>1499</th>\n",
       "      <td>@Indostransfer Apresiasi utk ketahanan fisik timnas yg ternyata kurang lebih sanggup bermain dengan itensitas yg sama seperti babak pertama Hari ini mainnya kolektif, menangnya pun jg kolektif Silahkan rayakan sesaat 3 poinnya, kemudian lgsg fokus pada laga terakhir vs Japan Semoga ada kejutan!</td>\n",
       "      <td>apresiasi tahan fisik timnas nyata sanggup main itensitas babak main kolektif menang kolektif sila raya poin langsung fokus laga vs japan moga kejut</td>\n",
       "      <td>Positif</td>\n",
       "      <td>0.312842</td>\n",
       "      <td>0.338562</td>\n",
       "      <td>0.348596</td>\n",
       "    </tr>\n",
       "    <tr>\n",
       "      <th>1500</th>\n",
       "      <td>90 menit full deg-degan... Babak pertama mainnya bagus, babak kedua malah berantakan. Yang penting menang, Ahay!!! Mantap Timnas, credit untuk semua pemain 👏👏👏🔥♥️  #TimnasDay</td>\n",
       "      <td>menit full degdegan babak main bagus babak beranta menang ahay mantap timnas credit main</td>\n",
       "      <td>Positif</td>\n",
       "      <td>0.022880</td>\n",
       "      <td>0.110981</td>\n",
       "      <td>0.866139</td>\n",
       "    </tr>\n",
       "    <tr>\n",
       "      <th>1501</th>\n",
       "      <td>Sandy Walsh mainnya apik, solid.  Beli jersey timnas kasih nameset blio menarik jg nih hehe cc @shabrina_tasya 🙏🏼</td>\n",
       "      <td>sandy walsh main apik solid beli jersey timnas kasih nameset blio tarik cc tasya</td>\n",
       "      <td>Netral</td>\n",
       "      <td>0.431586</td>\n",
       "      <td>0.257511</td>\n",
       "      <td>0.310903</td>\n",
       "    </tr>\n",
       "    <tr>\n",
       "      <th>1502</th>\n",
       "      <td>ruar biasa timnas, walau babak kedua mainnya menurun tapi bisa meredam serangan nguyen fc</td>\n",
       "      <td>ruar timnas babak main turun redam serang nguyen fc</td>\n",
       "      <td>Negatif</td>\n",
       "      <td>0.235257</td>\n",
       "      <td>0.471672</td>\n",
       "      <td>0.293071</td>\n",
       "    </tr>\n",
       "  </tbody>\n",
       "</table>\n",
       "<p>1503 rows × 6 columns</p>\n",
       "</div>"
      ],
      "text/plain": [
       "                                                                                                                                                                                                                                                                                                    full_text  \\\n",
       "0                                                                                   @safergieway @PSSI True bang. bener² ga ngerti sih cara mainnya pssi, pelatih kelas dunia mah bisa kapan ajaa. kalo kompetisi ga jalan yaa percuma wkwk timnas cowok aja yg punya kompetisi setengah mati pengen prestasi   \n",
       "1                                                                                                                                                                                                 Padahal buat jam terbang dan latihan kan kalo ada liga dan klub ya timnas aja mainnya per berapa tahun dl 😅   \n",
       "2                                                                                                                                                                                                                     @garagarabola_ Lebih penting timnas bagus mainnya daripada segala Jersey aja dikerenin🤭   \n",
       "3                                                                                                                                                              @Tyows pdhal Pemain Timnas inggris nih gw rasa gada 1 pun Midfielder yg gaya mainnya kyak Mainoo,kenapa masih ga sat set buat manggil dia wkwk   \n",
       "4                                                                                                                                                                 @utdfocusid @bliblidotcom Semuanya out kecuali hojlund, diganti sm pemain2 timnas kcuali Struick wkwk mainnya masih bagusan timnas kmrn cok   \n",
       "...                                                                                                                                                                                                                                                                                                       ...   \n",
       "1498                                                                                                                                                                                                                                                    timnas malam ini mainnya gokil abizzzz 🇲🇨👊 #TimnasDay   \n",
       "1499  @Indostransfer Apresiasi utk ketahanan fisik timnas yg ternyata kurang lebih sanggup bermain dengan itensitas yg sama seperti babak pertama Hari ini mainnya kolektif, menangnya pun jg kolektif Silahkan rayakan sesaat 3 poinnya, kemudian lgsg fokus pada laga terakhir vs Japan Semoga ada kejutan!   \n",
       "1500                                                                                                                           90 menit full deg-degan... Babak pertama mainnya bagus, babak kedua malah berantakan. Yang penting menang, Ahay!!! Mantap Timnas, credit untuk semua pemain 👏👏👏🔥♥️  #TimnasDay   \n",
       "1501                                                                                                                                                                                        Sandy Walsh mainnya apik, solid.  Beli jersey timnas kasih nameset blio menarik jg nih hehe cc @shabrina_tasya 🙏🏼   \n",
       "1502                                                                                                                                                                                                                ruar biasa timnas, walau babak kedua mainnya menurun tapi bisa meredam serangan nguyen fc   \n",
       "\n",
       "                                                                                                                                                 processed  \\\n",
       "0                                          true bang erti main pssi latih kelas dunia mah kompetisi jalan wkwk timnas cowok kompetisi mati pengin prestasi   \n",
       "1                                                                                                                  jam terbang latih liga klub timnas main   \n",
       "2                                                                                                                           timnas bagus main jersey renin   \n",
       "3                                                          main timnas inggris gue enggak ada midfielder gaya main kayak mainookenapa sat set manggil wkwk   \n",
       "4                                                                  out kecuali hojlund ganti main timnas kcuali struick wkwk main bagus timnas kemarin cok   \n",
       "...                                                                                                                                                    ...   \n",
       "1498                                                                                                                          timnas malam main gila habis   \n",
       "1499  apresiasi tahan fisik timnas nyata sanggup main itensitas babak main kolektif menang kolektif sila raya poin langsung fokus laga vs japan moga kejut   \n",
       "1500                                                              menit full degdegan babak main bagus babak beranta menang ahay mantap timnas credit main   \n",
       "1501                                                                      sandy walsh main apik solid beli jersey timnas kasih nameset blio tarik cc tasya   \n",
       "1502                                                                                                   ruar timnas babak main turun redam serang nguyen fc   \n",
       "\n",
       "     predicted_label  predicted_probability_netral  \\\n",
       "0            Negatif                      0.021737   \n",
       "1             Netral                      0.850099   \n",
       "2            Positif                      0.008567   \n",
       "3             Netral                      0.425661   \n",
       "4            Positif                      0.067844   \n",
       "...              ...                           ...   \n",
       "1498         Negatif                      0.223758   \n",
       "1499         Positif                      0.312842   \n",
       "1500         Positif                      0.022880   \n",
       "1501          Netral                      0.431586   \n",
       "1502         Negatif                      0.235257   \n",
       "\n",
       "      predicted_probability_negatif  predicted_probability_positif  \n",
       "0                          0.921104                       0.057159  \n",
       "1                          0.098420                       0.051481  \n",
       "2                          0.070916                       0.920518  \n",
       "3                          0.255654                       0.318685  \n",
       "4                          0.183579                       0.748577  \n",
       "...                             ...                            ...  \n",
       "1498                       0.600383                       0.175859  \n",
       "1499                       0.338562                       0.348596  \n",
       "1500                       0.110981                       0.866139  \n",
       "1501                       0.257511                       0.310903  \n",
       "1502                       0.471672                       0.293071  \n",
       "\n",
       "[1503 rows x 6 columns]"
      ]
     },
     "execution_count": 137,
     "metadata": {},
     "output_type": "execute_result"
    }
   ],
   "source": [
    "df"
   ]
  },
  {
   "cell_type": "code",
   "execution_count": 138,
   "metadata": {},
   "outputs": [
    {
     "data": {
      "text/plain": [
       "predicted_label\n",
       "Positif    907\n",
       "Negatif    524\n",
       "Netral      72\n",
       "Name: count, dtype: int64"
      ]
     },
     "execution_count": 138,
     "metadata": {},
     "output_type": "execute_result"
    }
   ],
   "source": [
    "#get total number per class\n",
    "df['predicted_label'].value_counts()"
   ]
  },
  {
   "cell_type": "code",
   "execution_count": 139,
   "metadata": {},
   "outputs": [],
   "source": [
    "pd.set_option('display.max_colwidth', None)"
   ]
  },
  {
   "cell_type": "code",
   "execution_count": 140,
   "metadata": {},
   "outputs": [],
   "source": [
    "df[df['predicted_label'] == 'Positif'].to_csv('klasifikasi_baru_model_with_stemmed_positif.csv', index=False)"
   ]
  },
  {
   "cell_type": "code",
   "execution_count": 141,
   "metadata": {},
   "outputs": [],
   "source": [
    "df[df['predicted_label'] == 'Negatif'].to_csv('klasifikasi_baru_model_with_stemmed_negatif.csv', index=False)"
   ]
  },
  {
   "cell_type": "code",
   "execution_count": 142,
   "metadata": {},
   "outputs": [],
   "source": [
    "df[df['predicted_label'] == 'Netral'].to_csv('klasifikasi_baru_model_with_stemmed_netral.csv', index=False)"
   ]
  },
  {
   "cell_type": "code",
   "execution_count": 115,
   "metadata": {},
   "outputs": [],
   "source": [
    "# df.to_csv('./hasil_prediksi_no_stemming.csv', index=False)"
   ]
  },
  {
   "cell_type": "code",
   "execution_count": 116,
   "metadata": {},
   "outputs": [
    {
     "ename": "FileNotFoundError",
     "evalue": "[Errno 2] No such file or directory: './klasifikasi_baru_model_with_stemmed.csv'",
     "output_type": "error",
     "traceback": [
      "\u001b[1;31m---------------------------------------------------------------------------\u001b[0m",
      "\u001b[1;31mFileNotFoundError\u001b[0m                         Traceback (most recent call last)",
      "Cell \u001b[1;32mIn[116], line 1\u001b[0m\n\u001b[1;32m----> 1\u001b[0m df_result_processing \u001b[38;5;241m=\u001b[39m \u001b[43mpd\u001b[49m\u001b[38;5;241;43m.\u001b[39;49m\u001b[43mread_csv\u001b[49m\u001b[43m(\u001b[49m\u001b[38;5;124;43m'\u001b[39;49m\u001b[38;5;124;43m./klasifikasi_baru_model_with_stemmed.csv\u001b[39;49m\u001b[38;5;124;43m'\u001b[39;49m\u001b[43m,\u001b[49m\u001b[43m \u001b[49m\u001b[43msep\u001b[49m\u001b[38;5;241;43m=\u001b[39;49m\u001b[38;5;124;43m\"\u001b[39;49m\u001b[38;5;124;43m,\u001b[39;49m\u001b[38;5;124;43m\"\u001b[39;49m\u001b[43m,\u001b[49m\u001b[43m \u001b[49m\u001b[43mheader\u001b[49m\u001b[38;5;241;43m=\u001b[39;49m\u001b[38;5;28;43;01mNone\u001b[39;49;00m\u001b[43m,\u001b[49m\u001b[43m \u001b[49m\u001b[43mskiprows\u001b[49m\u001b[38;5;241;43m=\u001b[39;49m\u001b[38;5;241;43m1\u001b[39;49m\u001b[43m)\u001b[49m\n\u001b[0;32m      2\u001b[0m df_result_no_processing \u001b[38;5;241m=\u001b[39m pd\u001b[38;5;241m.\u001b[39mread_csv(\u001b[38;5;124m'\u001b[39m\u001b[38;5;124m./klasifikasi_baru_model_no_stemmed.csv\u001b[39m\u001b[38;5;124m'\u001b[39m, sep\u001b[38;5;241m=\u001b[39m\u001b[38;5;124m\"\u001b[39m\u001b[38;5;124m,\u001b[39m\u001b[38;5;124m\"\u001b[39m, header\u001b[38;5;241m=\u001b[39m\u001b[38;5;28;01mNone\u001b[39;00m, skiprows\u001b[38;5;241m=\u001b[39m\u001b[38;5;241m1\u001b[39m)\n\u001b[0;32m      4\u001b[0m \u001b[38;5;66;03m# df_result_processing.columns = [\"full_text\", \"processed\", \"predicted_labels\"]\u001b[39;00m\n\u001b[0;32m      5\u001b[0m \u001b[38;5;66;03m# df_result_no_processing.columns = [\"full_text\", \"processed\" \"predicted_labels\"]\u001b[39;00m\n",
      "File \u001b[1;32mc:\\Users\\lenovo\\AppData\\Local\\Programs\\Python\\Python39\\lib\\site-packages\\pandas\\io\\parsers\\readers.py:1024\u001b[0m, in \u001b[0;36mread_csv\u001b[1;34m(filepath_or_buffer, sep, delimiter, header, names, index_col, usecols, dtype, engine, converters, true_values, false_values, skipinitialspace, skiprows, skipfooter, nrows, na_values, keep_default_na, na_filter, verbose, skip_blank_lines, parse_dates, infer_datetime_format, keep_date_col, date_parser, date_format, dayfirst, cache_dates, iterator, chunksize, compression, thousands, decimal, lineterminator, quotechar, quoting, doublequote, escapechar, comment, encoding, encoding_errors, dialect, on_bad_lines, delim_whitespace, low_memory, memory_map, float_precision, storage_options, dtype_backend)\u001b[0m\n\u001b[0;32m   1011\u001b[0m kwds_defaults \u001b[38;5;241m=\u001b[39m _refine_defaults_read(\n\u001b[0;32m   1012\u001b[0m     dialect,\n\u001b[0;32m   1013\u001b[0m     delimiter,\n\u001b[1;32m   (...)\u001b[0m\n\u001b[0;32m   1020\u001b[0m     dtype_backend\u001b[38;5;241m=\u001b[39mdtype_backend,\n\u001b[0;32m   1021\u001b[0m )\n\u001b[0;32m   1022\u001b[0m kwds\u001b[38;5;241m.\u001b[39mupdate(kwds_defaults)\n\u001b[1;32m-> 1024\u001b[0m \u001b[38;5;28;01mreturn\u001b[39;00m \u001b[43m_read\u001b[49m\u001b[43m(\u001b[49m\u001b[43mfilepath_or_buffer\u001b[49m\u001b[43m,\u001b[49m\u001b[43m \u001b[49m\u001b[43mkwds\u001b[49m\u001b[43m)\u001b[49m\n",
      "File \u001b[1;32mc:\\Users\\lenovo\\AppData\\Local\\Programs\\Python\\Python39\\lib\\site-packages\\pandas\\io\\parsers\\readers.py:618\u001b[0m, in \u001b[0;36m_read\u001b[1;34m(filepath_or_buffer, kwds)\u001b[0m\n\u001b[0;32m    615\u001b[0m _validate_names(kwds\u001b[38;5;241m.\u001b[39mget(\u001b[38;5;124m\"\u001b[39m\u001b[38;5;124mnames\u001b[39m\u001b[38;5;124m\"\u001b[39m, \u001b[38;5;28;01mNone\u001b[39;00m))\n\u001b[0;32m    617\u001b[0m \u001b[38;5;66;03m# Create the parser.\u001b[39;00m\n\u001b[1;32m--> 618\u001b[0m parser \u001b[38;5;241m=\u001b[39m TextFileReader(filepath_or_buffer, \u001b[38;5;241m*\u001b[39m\u001b[38;5;241m*\u001b[39mkwds)\n\u001b[0;32m    620\u001b[0m \u001b[38;5;28;01mif\u001b[39;00m chunksize \u001b[38;5;129;01mor\u001b[39;00m iterator:\n\u001b[0;32m    621\u001b[0m     \u001b[38;5;28;01mreturn\u001b[39;00m parser\n",
      "File \u001b[1;32mc:\\Users\\lenovo\\AppData\\Local\\Programs\\Python\\Python39\\lib\\site-packages\\pandas\\io\\parsers\\readers.py:1618\u001b[0m, in \u001b[0;36mTextFileReader.__init__\u001b[1;34m(self, f, engine, **kwds)\u001b[0m\n\u001b[0;32m   1615\u001b[0m     \u001b[38;5;28mself\u001b[39m\u001b[38;5;241m.\u001b[39moptions[\u001b[38;5;124m\"\u001b[39m\u001b[38;5;124mhas_index_names\u001b[39m\u001b[38;5;124m\"\u001b[39m] \u001b[38;5;241m=\u001b[39m kwds[\u001b[38;5;124m\"\u001b[39m\u001b[38;5;124mhas_index_names\u001b[39m\u001b[38;5;124m\"\u001b[39m]\n\u001b[0;32m   1617\u001b[0m \u001b[38;5;28mself\u001b[39m\u001b[38;5;241m.\u001b[39mhandles: IOHandles \u001b[38;5;241m|\u001b[39m \u001b[38;5;28;01mNone\u001b[39;00m \u001b[38;5;241m=\u001b[39m \u001b[38;5;28;01mNone\u001b[39;00m\n\u001b[1;32m-> 1618\u001b[0m \u001b[38;5;28mself\u001b[39m\u001b[38;5;241m.\u001b[39m_engine \u001b[38;5;241m=\u001b[39m \u001b[38;5;28;43mself\u001b[39;49m\u001b[38;5;241;43m.\u001b[39;49m\u001b[43m_make_engine\u001b[49m\u001b[43m(\u001b[49m\u001b[43mf\u001b[49m\u001b[43m,\u001b[49m\u001b[43m \u001b[49m\u001b[38;5;28;43mself\u001b[39;49m\u001b[38;5;241;43m.\u001b[39;49m\u001b[43mengine\u001b[49m\u001b[43m)\u001b[49m\n",
      "File \u001b[1;32mc:\\Users\\lenovo\\AppData\\Local\\Programs\\Python\\Python39\\lib\\site-packages\\pandas\\io\\parsers\\readers.py:1878\u001b[0m, in \u001b[0;36mTextFileReader._make_engine\u001b[1;34m(self, f, engine)\u001b[0m\n\u001b[0;32m   1876\u001b[0m     \u001b[38;5;28;01mif\u001b[39;00m \u001b[38;5;124m\"\u001b[39m\u001b[38;5;124mb\u001b[39m\u001b[38;5;124m\"\u001b[39m \u001b[38;5;129;01mnot\u001b[39;00m \u001b[38;5;129;01min\u001b[39;00m mode:\n\u001b[0;32m   1877\u001b[0m         mode \u001b[38;5;241m+\u001b[39m\u001b[38;5;241m=\u001b[39m \u001b[38;5;124m\"\u001b[39m\u001b[38;5;124mb\u001b[39m\u001b[38;5;124m\"\u001b[39m\n\u001b[1;32m-> 1878\u001b[0m \u001b[38;5;28mself\u001b[39m\u001b[38;5;241m.\u001b[39mhandles \u001b[38;5;241m=\u001b[39m \u001b[43mget_handle\u001b[49m\u001b[43m(\u001b[49m\n\u001b[0;32m   1879\u001b[0m \u001b[43m    \u001b[49m\u001b[43mf\u001b[49m\u001b[43m,\u001b[49m\n\u001b[0;32m   1880\u001b[0m \u001b[43m    \u001b[49m\u001b[43mmode\u001b[49m\u001b[43m,\u001b[49m\n\u001b[0;32m   1881\u001b[0m \u001b[43m    \u001b[49m\u001b[43mencoding\u001b[49m\u001b[38;5;241;43m=\u001b[39;49m\u001b[38;5;28;43mself\u001b[39;49m\u001b[38;5;241;43m.\u001b[39;49m\u001b[43moptions\u001b[49m\u001b[38;5;241;43m.\u001b[39;49m\u001b[43mget\u001b[49m\u001b[43m(\u001b[49m\u001b[38;5;124;43m\"\u001b[39;49m\u001b[38;5;124;43mencoding\u001b[39;49m\u001b[38;5;124;43m\"\u001b[39;49m\u001b[43m,\u001b[49m\u001b[43m \u001b[49m\u001b[38;5;28;43;01mNone\u001b[39;49;00m\u001b[43m)\u001b[49m\u001b[43m,\u001b[49m\n\u001b[0;32m   1882\u001b[0m \u001b[43m    \u001b[49m\u001b[43mcompression\u001b[49m\u001b[38;5;241;43m=\u001b[39;49m\u001b[38;5;28;43mself\u001b[39;49m\u001b[38;5;241;43m.\u001b[39;49m\u001b[43moptions\u001b[49m\u001b[38;5;241;43m.\u001b[39;49m\u001b[43mget\u001b[49m\u001b[43m(\u001b[49m\u001b[38;5;124;43m\"\u001b[39;49m\u001b[38;5;124;43mcompression\u001b[39;49m\u001b[38;5;124;43m\"\u001b[39;49m\u001b[43m,\u001b[49m\u001b[43m \u001b[49m\u001b[38;5;28;43;01mNone\u001b[39;49;00m\u001b[43m)\u001b[49m\u001b[43m,\u001b[49m\n\u001b[0;32m   1883\u001b[0m \u001b[43m    \u001b[49m\u001b[43mmemory_map\u001b[49m\u001b[38;5;241;43m=\u001b[39;49m\u001b[38;5;28;43mself\u001b[39;49m\u001b[38;5;241;43m.\u001b[39;49m\u001b[43moptions\u001b[49m\u001b[38;5;241;43m.\u001b[39;49m\u001b[43mget\u001b[49m\u001b[43m(\u001b[49m\u001b[38;5;124;43m\"\u001b[39;49m\u001b[38;5;124;43mmemory_map\u001b[39;49m\u001b[38;5;124;43m\"\u001b[39;49m\u001b[43m,\u001b[49m\u001b[43m \u001b[49m\u001b[38;5;28;43;01mFalse\u001b[39;49;00m\u001b[43m)\u001b[49m\u001b[43m,\u001b[49m\n\u001b[0;32m   1884\u001b[0m \u001b[43m    \u001b[49m\u001b[43mis_text\u001b[49m\u001b[38;5;241;43m=\u001b[39;49m\u001b[43mis_text\u001b[49m\u001b[43m,\u001b[49m\n\u001b[0;32m   1885\u001b[0m \u001b[43m    \u001b[49m\u001b[43merrors\u001b[49m\u001b[38;5;241;43m=\u001b[39;49m\u001b[38;5;28;43mself\u001b[39;49m\u001b[38;5;241;43m.\u001b[39;49m\u001b[43moptions\u001b[49m\u001b[38;5;241;43m.\u001b[39;49m\u001b[43mget\u001b[49m\u001b[43m(\u001b[49m\u001b[38;5;124;43m\"\u001b[39;49m\u001b[38;5;124;43mencoding_errors\u001b[39;49m\u001b[38;5;124;43m\"\u001b[39;49m\u001b[43m,\u001b[49m\u001b[43m \u001b[49m\u001b[38;5;124;43m\"\u001b[39;49m\u001b[38;5;124;43mstrict\u001b[39;49m\u001b[38;5;124;43m\"\u001b[39;49m\u001b[43m)\u001b[49m\u001b[43m,\u001b[49m\n\u001b[0;32m   1886\u001b[0m \u001b[43m    \u001b[49m\u001b[43mstorage_options\u001b[49m\u001b[38;5;241;43m=\u001b[39;49m\u001b[38;5;28;43mself\u001b[39;49m\u001b[38;5;241;43m.\u001b[39;49m\u001b[43moptions\u001b[49m\u001b[38;5;241;43m.\u001b[39;49m\u001b[43mget\u001b[49m\u001b[43m(\u001b[49m\u001b[38;5;124;43m\"\u001b[39;49m\u001b[38;5;124;43mstorage_options\u001b[39;49m\u001b[38;5;124;43m\"\u001b[39;49m\u001b[43m,\u001b[49m\u001b[43m \u001b[49m\u001b[38;5;28;43;01mNone\u001b[39;49;00m\u001b[43m)\u001b[49m\u001b[43m,\u001b[49m\n\u001b[0;32m   1887\u001b[0m \u001b[43m\u001b[49m\u001b[43m)\u001b[49m\n\u001b[0;32m   1888\u001b[0m \u001b[38;5;28;01massert\u001b[39;00m \u001b[38;5;28mself\u001b[39m\u001b[38;5;241m.\u001b[39mhandles \u001b[38;5;129;01mis\u001b[39;00m \u001b[38;5;129;01mnot\u001b[39;00m \u001b[38;5;28;01mNone\u001b[39;00m\n\u001b[0;32m   1889\u001b[0m f \u001b[38;5;241m=\u001b[39m \u001b[38;5;28mself\u001b[39m\u001b[38;5;241m.\u001b[39mhandles\u001b[38;5;241m.\u001b[39mhandle\n",
      "File \u001b[1;32mc:\\Users\\lenovo\\AppData\\Local\\Programs\\Python\\Python39\\lib\\site-packages\\pandas\\io\\common.py:873\u001b[0m, in \u001b[0;36mget_handle\u001b[1;34m(path_or_buf, mode, encoding, compression, memory_map, is_text, errors, storage_options)\u001b[0m\n\u001b[0;32m    868\u001b[0m \u001b[38;5;28;01melif\u001b[39;00m \u001b[38;5;28misinstance\u001b[39m(handle, \u001b[38;5;28mstr\u001b[39m):\n\u001b[0;32m    869\u001b[0m     \u001b[38;5;66;03m# Check whether the filename is to be opened in binary mode.\u001b[39;00m\n\u001b[0;32m    870\u001b[0m     \u001b[38;5;66;03m# Binary mode does not support 'encoding' and 'newline'.\u001b[39;00m\n\u001b[0;32m    871\u001b[0m     \u001b[38;5;28;01mif\u001b[39;00m ioargs\u001b[38;5;241m.\u001b[39mencoding \u001b[38;5;129;01mand\u001b[39;00m \u001b[38;5;124m\"\u001b[39m\u001b[38;5;124mb\u001b[39m\u001b[38;5;124m\"\u001b[39m \u001b[38;5;129;01mnot\u001b[39;00m \u001b[38;5;129;01min\u001b[39;00m ioargs\u001b[38;5;241m.\u001b[39mmode:\n\u001b[0;32m    872\u001b[0m         \u001b[38;5;66;03m# Encoding\u001b[39;00m\n\u001b[1;32m--> 873\u001b[0m         handle \u001b[38;5;241m=\u001b[39m \u001b[38;5;28;43mopen\u001b[39;49m\u001b[43m(\u001b[49m\n\u001b[0;32m    874\u001b[0m \u001b[43m            \u001b[49m\u001b[43mhandle\u001b[49m\u001b[43m,\u001b[49m\n\u001b[0;32m    875\u001b[0m \u001b[43m            \u001b[49m\u001b[43mioargs\u001b[49m\u001b[38;5;241;43m.\u001b[39;49m\u001b[43mmode\u001b[49m\u001b[43m,\u001b[49m\n\u001b[0;32m    876\u001b[0m \u001b[43m            \u001b[49m\u001b[43mencoding\u001b[49m\u001b[38;5;241;43m=\u001b[39;49m\u001b[43mioargs\u001b[49m\u001b[38;5;241;43m.\u001b[39;49m\u001b[43mencoding\u001b[49m\u001b[43m,\u001b[49m\n\u001b[0;32m    877\u001b[0m \u001b[43m            \u001b[49m\u001b[43merrors\u001b[49m\u001b[38;5;241;43m=\u001b[39;49m\u001b[43merrors\u001b[49m\u001b[43m,\u001b[49m\n\u001b[0;32m    878\u001b[0m \u001b[43m            \u001b[49m\u001b[43mnewline\u001b[49m\u001b[38;5;241;43m=\u001b[39;49m\u001b[38;5;124;43m\"\u001b[39;49m\u001b[38;5;124;43m\"\u001b[39;49m\u001b[43m,\u001b[49m\n\u001b[0;32m    879\u001b[0m \u001b[43m        \u001b[49m\u001b[43m)\u001b[49m\n\u001b[0;32m    880\u001b[0m     \u001b[38;5;28;01melse\u001b[39;00m:\n\u001b[0;32m    881\u001b[0m         \u001b[38;5;66;03m# Binary mode\u001b[39;00m\n\u001b[0;32m    882\u001b[0m         handle \u001b[38;5;241m=\u001b[39m \u001b[38;5;28mopen\u001b[39m(handle, ioargs\u001b[38;5;241m.\u001b[39mmode)\n",
      "\u001b[1;31mFileNotFoundError\u001b[0m: [Errno 2] No such file or directory: './klasifikasi_baru_model_with_stemmed.csv'"
     ]
    }
   ],
   "source": [
    "df_result_processing = pd.read_csv('./klasifikasi_baru_model_with_stemmed.csv', sep=\",\", header=None, skiprows=1)\n",
    "df_result_no_processing = pd.read_csv('./klasifikasi_baru_model_no_stemmed.csv', sep=\",\", header=None, skiprows=1)\n",
    "\n",
    "# df_result_processing.columns = [\"full_text\", \"processed\", \"predicted_labels\"]\n",
    "# df_result_no_processing.columns = [\"full_text\", \"processed\" \"predicted_labels\"]"
   ]
  },
  {
   "cell_type": "code",
   "execution_count": null,
   "metadata": {},
   "outputs": [
    {
     "data": {
      "text/html": [
       "<div>\n",
       "<style scoped>\n",
       "    .dataframe tbody tr th:only-of-type {\n",
       "        vertical-align: middle;\n",
       "    }\n",
       "\n",
       "    .dataframe tbody tr th {\n",
       "        vertical-align: top;\n",
       "    }\n",
       "\n",
       "    .dataframe thead th {\n",
       "        text-align: right;\n",
       "    }\n",
       "</style>\n",
       "<table border=\"1\" class=\"dataframe\">\n",
       "  <thead>\n",
       "    <tr style=\"text-align: right;\">\n",
       "      <th></th>\n",
       "      <th>0</th>\n",
       "      <th>1</th>\n",
       "      <th>2</th>\n",
       "      <th>3</th>\n",
       "    </tr>\n",
       "  </thead>\n",
       "  <tbody>\n",
       "    <tr>\n",
       "      <th>0</th>\n",
       "      <td>@safergieway @PSSI True bang. bener² ga ngerti sih cara mainnya pssi, pelatih kelas dunia mah bisa kapan ajaa. kalo kompetisi ga jalan yaa percuma wkwk timnas cowok aja yg punya kompetisi setengah mati pengen prestasi</td>\n",
       "      <td>true bang erti main pssi latih kelas dunia mah kompetisi jalan wkwk timnas cowok kompetisi mati pengin prestasi</td>\n",
       "      <td>Positif</td>\n",
       "      <td>0.544604</td>\n",
       "    </tr>\n",
       "    <tr>\n",
       "      <th>1</th>\n",
       "      <td>Padahal buat jam terbang dan latihan kan kalo ada liga dan klub ya timnas aja mainnya per berapa tahun dl 😅</td>\n",
       "      <td>jam terbang latih liga klub timnas main</td>\n",
       "      <td>Positif</td>\n",
       "      <td>0.682539</td>\n",
       "    </tr>\n",
       "    <tr>\n",
       "      <th>2</th>\n",
       "      <td>@garagarabola_ Lebih penting timnas bagus mainnya daripada segala Jersey aja dikerenin🤭</td>\n",
       "      <td>timnas bagus main jersey renin</td>\n",
       "      <td>Negatif</td>\n",
       "      <td>0.184601</td>\n",
       "    </tr>\n",
       "    <tr>\n",
       "      <th>3</th>\n",
       "      <td>@Tyows pdhal Pemain Timnas inggris nih gw rasa gada 1 pun Midfielder yg gaya mainnya kyak Mainoo,kenapa masih ga sat set buat manggil dia wkwk</td>\n",
       "      <td>main timnas inggris gue enggak ada midfielder gaya main kayak mainookenapa sat set manggil wkwk</td>\n",
       "      <td>Positif</td>\n",
       "      <td>0.935572</td>\n",
       "    </tr>\n",
       "    <tr>\n",
       "      <th>4</th>\n",
       "      <td>@utdfocusid @bliblidotcom Semuanya out kecuali hojlund, diganti sm pemain2 timnas kcuali Struick wkwk mainnya masih bagusan timnas kmrn cok</td>\n",
       "      <td>out kecuali hojlund ganti main timnas kcuali struick wkwk main bagus timnas kemarin cok</td>\n",
       "      <td>Negatif</td>\n",
       "      <td>0.356904</td>\n",
       "    </tr>\n",
       "  </tbody>\n",
       "</table>\n",
       "</div>"
      ],
      "text/plain": [
       "                                                                                                                                                                                                                           0  \\\n",
       "0  @safergieway @PSSI True bang. bener² ga ngerti sih cara mainnya pssi, pelatih kelas dunia mah bisa kapan ajaa. kalo kompetisi ga jalan yaa percuma wkwk timnas cowok aja yg punya kompetisi setengah mati pengen prestasi   \n",
       "1                                                                                                                Padahal buat jam terbang dan latihan kan kalo ada liga dan klub ya timnas aja mainnya per berapa tahun dl 😅   \n",
       "2                                                                                                                                    @garagarabola_ Lebih penting timnas bagus mainnya daripada segala Jersey aja dikerenin🤭   \n",
       "3                                                                             @Tyows pdhal Pemain Timnas inggris nih gw rasa gada 1 pun Midfielder yg gaya mainnya kyak Mainoo,kenapa masih ga sat set buat manggil dia wkwk   \n",
       "4                                                                                @utdfocusid @bliblidotcom Semuanya out kecuali hojlund, diganti sm pemain2 timnas kcuali Struick wkwk mainnya masih bagusan timnas kmrn cok   \n",
       "\n",
       "                                                                                                                 1  \\\n",
       "0  true bang erti main pssi latih kelas dunia mah kompetisi jalan wkwk timnas cowok kompetisi mati pengin prestasi   \n",
       "1                                                                          jam terbang latih liga klub timnas main   \n",
       "2                                                                                   timnas bagus main jersey renin   \n",
       "3                  main timnas inggris gue enggak ada midfielder gaya main kayak mainookenapa sat set manggil wkwk   \n",
       "4                          out kecuali hojlund ganti main timnas kcuali struick wkwk main bagus timnas kemarin cok   \n",
       "\n",
       "         2         3  \n",
       "0  Positif  0.544604  \n",
       "1  Positif  0.682539  \n",
       "2  Negatif  0.184601  \n",
       "3  Positif  0.935572  \n",
       "4  Negatif  0.356904  "
      ]
     },
     "execution_count": 50,
     "metadata": {},
     "output_type": "execute_result"
    }
   ],
   "source": [
    "df_result_processing.head()"
   ]
  },
  {
   "cell_type": "code",
   "execution_count": null,
   "metadata": {},
   "outputs": [
    {
     "data": {
      "text/html": [
       "<div>\n",
       "<style scoped>\n",
       "    .dataframe tbody tr th:only-of-type {\n",
       "        vertical-align: middle;\n",
       "    }\n",
       "\n",
       "    .dataframe tbody tr th {\n",
       "        vertical-align: top;\n",
       "    }\n",
       "\n",
       "    .dataframe thead th {\n",
       "        text-align: right;\n",
       "    }\n",
       "</style>\n",
       "<table border=\"1\" class=\"dataframe\">\n",
       "  <thead>\n",
       "    <tr style=\"text-align: right;\">\n",
       "      <th></th>\n",
       "      <th>0</th>\n",
       "      <th>1</th>\n",
       "      <th>2</th>\n",
       "    </tr>\n",
       "  </thead>\n",
       "  <tbody>\n",
       "    <tr>\n",
       "      <th>0</th>\n",
       "      <td>@safergieway @PSSI True bang. bener² ga ngerti sih cara mainnya pssi, pelatih kelas dunia mah bisa kapan ajaa. kalo kompetisi ga jalan yaa percuma wkwk timnas cowok aja yg punya kompetisi setengah mati pengen prestasi</td>\n",
       "      <td>true bang mengerti mainnya pssi pelatih kelas dunia mah kompetisi jalan wkwk timnas cowok kompetisi mati pengin prestasi</td>\n",
       "      <td>Positif</td>\n",
       "    </tr>\n",
       "    <tr>\n",
       "      <th>1</th>\n",
       "      <td>Padahal buat jam terbang dan latihan kan kalo ada liga dan klub ya timnas aja mainnya per berapa tahun dl 😅</td>\n",
       "      <td>jam terbang latihan liga klub timnas mainnya tahun-tahun</td>\n",
       "      <td>Positif</td>\n",
       "    </tr>\n",
       "    <tr>\n",
       "      <th>2</th>\n",
       "      <td>@garagarabola_ Lebih penting timnas bagus mainnya daripada segala Jersey aja dikerenin🤭</td>\n",
       "      <td>timnas bagus mainnya jersey dikerenin</td>\n",
       "      <td>Positif</td>\n",
       "    </tr>\n",
       "    <tr>\n",
       "      <th>3</th>\n",
       "      <td>@Tyows pdhal Pemain Timnas inggris nih gw rasa gada 1 pun Midfielder yg gaya mainnya kyak Mainoo,kenapa masih ga sat set buat manggil dia wkwk</td>\n",
       "      <td>pemain timnas inggris gue enggak ada midfielder gaya mainnya kayak mainookenapa sat set manggil wkwk</td>\n",
       "      <td>Positif</td>\n",
       "    </tr>\n",
       "    <tr>\n",
       "      <th>4</th>\n",
       "      <td>@utdfocusid @bliblidotcom Semuanya out kecuali hojlund, diganti sm pemain2 timnas kcuali Struick wkwk mainnya masih bagusan timnas kmrn cok</td>\n",
       "      <td>out kecuali hojlund diganti pemain timnas kcuali struick wkwk mainnya bagusan timnas kemarin cok</td>\n",
       "      <td>Positif</td>\n",
       "    </tr>\n",
       "  </tbody>\n",
       "</table>\n",
       "</div>"
      ],
      "text/plain": [
       "                                                                                                                                                                                                                           0  \\\n",
       "0  @safergieway @PSSI True bang. bener² ga ngerti sih cara mainnya pssi, pelatih kelas dunia mah bisa kapan ajaa. kalo kompetisi ga jalan yaa percuma wkwk timnas cowok aja yg punya kompetisi setengah mati pengen prestasi   \n",
       "1                                                                                                                Padahal buat jam terbang dan latihan kan kalo ada liga dan klub ya timnas aja mainnya per berapa tahun dl 😅   \n",
       "2                                                                                                                                    @garagarabola_ Lebih penting timnas bagus mainnya daripada segala Jersey aja dikerenin🤭   \n",
       "3                                                                             @Tyows pdhal Pemain Timnas inggris nih gw rasa gada 1 pun Midfielder yg gaya mainnya kyak Mainoo,kenapa masih ga sat set buat manggil dia wkwk   \n",
       "4                                                                                @utdfocusid @bliblidotcom Semuanya out kecuali hojlund, diganti sm pemain2 timnas kcuali Struick wkwk mainnya masih bagusan timnas kmrn cok   \n",
       "\n",
       "                                                                                                                          1  \\\n",
       "0  true bang mengerti mainnya pssi pelatih kelas dunia mah kompetisi jalan wkwk timnas cowok kompetisi mati pengin prestasi   \n",
       "1                                                                  jam terbang latihan liga klub timnas mainnya tahun-tahun   \n",
       "2                                                                                     timnas bagus mainnya jersey dikerenin   \n",
       "3                      pemain timnas inggris gue enggak ada midfielder gaya mainnya kayak mainookenapa sat set manggil wkwk   \n",
       "4                          out kecuali hojlund diganti pemain timnas kcuali struick wkwk mainnya bagusan timnas kemarin cok   \n",
       "\n",
       "         2  \n",
       "0  Positif  \n",
       "1  Positif  \n",
       "2  Positif  \n",
       "3  Positif  \n",
       "4  Positif  "
      ]
     },
     "execution_count": 51,
     "metadata": {},
     "output_type": "execute_result"
    }
   ],
   "source": [
    "df_result_no_processing.head()"
   ]
  },
  {
   "cell_type": "code",
   "execution_count": null,
   "metadata": {},
   "outputs": [
    {
     "name": "stdout",
     "output_type": "stream",
     "text": [
      "Jumlah review positif: 1106\n",
      "Jumlah review negatif: 397\n"
     ]
    }
   ],
   "source": [
    "jumlah_positive_processing = (df_result_processing[2] == \"Positif\").sum()\n",
    "print(f'Jumlah review positif: {jumlah_positive_processing}')\n",
    "\n",
    "jumlah_negatif_processing = (df_result_processing[2] == \"Negatif\").sum()\n",
    "print(f'Jumlah review negatif: {jumlah_negatif_processing}')"
   ]
  },
  {
   "cell_type": "code",
   "execution_count": null,
   "metadata": {},
   "outputs": [
    {
     "name": "stdout",
     "output_type": "stream",
     "text": [
      "Jumlah review positif: 1106\n",
      "Jumlah review negatif: 397\n"
     ]
    }
   ],
   "source": [
    "jumlah_positive_no_processing = (df_result_no_processing[2] == \"Positif\").sum()\n",
    "print(f'Jumlah review positif: {jumlah_positive_no_processing}')\n",
    "\n",
    "jumlah_negatif_no_processing = (df_result_no_processing[2] == \"Negatif\").sum()\n",
    "print(f'Jumlah review negatif: {jumlah_negatif_no_processing}')"
   ]
  }
 ],
 "metadata": {
  "kernelspec": {
   "display_name": "Python 3",
   "language": "python",
   "name": "python3"
  },
  "language_info": {
   "codemirror_mode": {
    "name": "ipython",
    "version": 3
   },
   "file_extension": ".py",
   "mimetype": "text/x-python",
   "name": "python",
   "nbconvert_exporter": "python",
   "pygments_lexer": "ipython3",
   "version": "3.9.2"
  }
 },
 "nbformat": 4,
 "nbformat_minor": 2
}
