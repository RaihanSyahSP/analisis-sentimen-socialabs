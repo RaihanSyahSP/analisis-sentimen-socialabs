{
 "cells": [
  {
   "cell_type": "code",
   "execution_count": 1,
   "metadata": {},
   "outputs": [],
   "source": [
    "import numpy as np\n",
    "import matplotlib.pyplot as plt\n",
    "import pandas as pd\n"
   ]
  },
  {
   "cell_type": "code",
   "execution_count": 9,
   "metadata": {},
   "outputs": [
    {
     "name": "stdout",
     "output_type": "stream",
     "text": [
      "Output after Flatten: [1.29728853 0.         6.39739896 ... 0.         0.         0.        ]\n"
     ]
    }
   ],
   "source": [
    "import numpy as np\n",
    "import tensorflow as tf\n",
    "\n",
    "# Assume some random input data with shape (50, 8)\n",
    "input_data = np.random.randn(50, 8)\n",
    "\n",
    "# Convolution parameters\n",
    "kernel_size = 5\n",
    "num_filters = 128\n",
    "\n",
    "# Initialize the Conv1D kernel and bias\n",
    "conv_kernel = np.random.randn(kernel_size, 8, num_filters)  # (kernel_size, input_dim, num_filters)\n",
    "conv_bias = np.random.randn(num_filters)  # (num_filters)\n",
    "\n",
    "# Padding (same), padding with zeros on both sides of the sequence dimension\n",
    "padded_input = np.pad(input_data, ((kernel_size // 2, kernel_size // 2), (0, 0)), mode='constant')\n",
    "\n",
    "# Perform convolution manually\n",
    "output_conv = np.zeros((50, num_filters))\n",
    "for i in range(50):\n",
    "    for j in range(num_filters):\n",
    "        output_conv[i, j] = np.sum(padded_input[i:i + kernel_size, :] * conv_kernel[:, :, j]) + conv_bias[j]\n",
    "\n",
    "# Apply ReLU activation\n",
    "output_conv = np.maximum(0, output_conv)\n",
    "\n",
    "# MaxPooling1D parameters\n",
    "pool_size = 2\n",
    "\n",
    "# MaxPooling1D\n",
    "output_pool = np.zeros((50 // pool_size, num_filters))\n",
    "for i in range(50 // pool_size):\n",
    "    output_pool[i, :] = np.max(output_conv[i * pool_size:(i + 1) * pool_size, :], axis=0)\n",
    "\n",
    "# Dropout parameters\n",
    "dropout_rate = 0.5\n",
    "\n",
    "# Dropout\n",
    "mask = np.random.rand(50 // pool_size, num_filters) > dropout_rate\n",
    "output_dropout = output_pool * mask\n",
    "\n",
    "# Flatten\n",
    "output_flatten = output_dropout.flatten()\n",
    "\n",
    "print(\"Output after Flatten:\", output_flatten)\n"
   ]
  },
  {
   "cell_type": "code",
   "execution_count": null,
   "metadata": {},
   "outputs": [],
   "source": []
  },
  {
   "cell_type": "code",
   "execution_count": 6,
   "metadata": {},
   "outputs": [
    {
     "name": "stdout",
     "output_type": "stream",
     "text": [
      "Weight matrix shape: (25, 16)\n",
      "Weight matrix values:\n",
      " [[-0.06  0.5  -0.25  0.08 -0.97 -0.34 -0.94 -0.21  0.37 -0.92 -0.21  0.02\n",
      "  -0.22  0.31  0.74 -0.33]\n",
      " [-0.74  0.95  0.59  0.69  0.18  0.25  0.12  0.39  0.53  0.91  0.14  0.92\n",
      "   0.13 -0.92 -0.92 -0.89]\n",
      " [-0.03 -0.25 -0.63 -0.3   0.59 -0.72 -0.25  0.61  0.37  0.13 -0.28  0.16\n",
      "   0.14 -0.38  0.67  0.31]\n",
      " [-0.36  0.6  -0.26  0.32  0.69  0.04 -0.45  0.44 -0.39 -0.54 -0.31  0.88\n",
      "  -0.72 -0.79  0.15  0.82]\n",
      " [ 0.96 -0.61  0.7  -0.92  0.11 -0.64 -0.45 -0.36 -0.88  0.93  0.84 -0.69\n",
      "  -0.92  0.95 -0.34  0.29]\n",
      " [-0.25  0.26 -0.28 -0.83 -0.56  0.55 -0.36 -0.55  0.09 -0.19  0.92  0.75\n",
      "  -0.94 -0.8   0.72  0.22]\n",
      " [ 0.13 -0.87  0.16 -0.77 -0.7  -0.01  0.98 -0.4  -0.39  0.11 -0.2  -0.21\n",
      "   0.8  -0.92 -0.08 -0.79]\n",
      " [-0.57 -0.45 -0.17 -0.37 -0.5   0.77 -0.01  0.4  -0.6   0.45  0.64 -0.66\n",
      "   0.21 -0.04  0.37 -0.73]\n",
      " [-0.95 -0.78  0.13  0.47  0.58  0.6  -0.7   0.97  0.66  0.23  0.41 -0.16\n",
      "   0.93  0.52 -0.57 -0.27]\n",
      " [ 0.36  0.36 -0.34  0.46  0.88 -1.    0.9  -0.6   0.78  0.25  0.44 -0.25\n",
      "  -0.57  0.46 -0.82 -0.18]\n",
      " [-0.86  0.79 -0.22  0.71 -0.43  0.66  0.96 -0.6   0.3  -0.02 -0.29  0.38\n",
      "   0.19  0.35  0.46  0.43]\n",
      " [-0.75 -0.73 -0.44  0.87  0.52 -0.94  0.03  0.49  0.65  0.84 -0.4   0.3\n",
      "   0.33  0.35 -0.49 -0.64]\n",
      " [-0.78 -0.35  0.46  0.84 -0.26  0.24 -0.02  0.59  0.02  0.63 -0.   -0.68\n",
      "   0.38  0.36  0.02  0.58]\n",
      " [ 0.68  0.21 -0.43  0.14  0.18 -0.97 -0.39 -0.33 -0.39 -0.89  0.27  0.58\n",
      "   0.77  0.49  0.57  0.67]\n",
      " [-0.77 -0.09 -0.63 -0.05  0.7   0.21  0.41  0.16  0.08  0.37  0.55  0.75\n",
      "  -0.14  0.31 -0.76 -0.07]\n",
      " [ 0.57  0.72 -0.01 -0.75 -0.45  0.85 -0.07  0.34  0.22 -0.58 -0.65 -0.63\n",
      "  -0.45 -0.86  0.74 -0.83]\n",
      " [-0.42 -0.63  0.26  0.04  0.92 -0.96 -0.94  0.66 -1.   -0.7  -0.01 -0.59\n",
      "  -0.69 -0.02  0.13  0.36]\n",
      " [ 0.58  0.88 -0.03 -0.41 -0.81 -0.1   0.09 -0.77  0.6  -0.92  0.46 -0.71\n",
      "   0.93  0.8   0.65 -0.3 ]\n",
      " [ 0.11  0.08 -0.63  0.17 -0.68  0.    0.8  -0.81  0.83 -0.06  0.67  0.47\n",
      "   0.85  0.85  0.79  0.11]\n",
      " [-0.49 -0.56 -0.47  0.41 -0.85  0.79 -0.1   0.04 -0.18 -0.92  0.47 -0.39\n",
      "  -0.3   0.08  0.81 -0.96]\n",
      " [-0.75 -0.86  0.73 -0.5  -0.15 -0.13  0.65  0.16  0.36  0.15  0.46  0.34\n",
      "  -0.84 -0.1   0.31 -0.78]\n",
      " [ 0.12  0.43 -0.91 -0.02 -0.68 -0.3   0.48  0.2   0.95 -0.89 -0.17  0.21\n",
      "  -0.86  0.13 -0.67  0.94]\n",
      " [-0.16  0.36 -0.04  0.24  0.7  -0.65 -0.01  0.24 -0.51  0.36  0.96 -0.46\n",
      "   0.45  0.37  0.51  0.16]\n",
      " [-0.11  0.52 -0.17 -0.11 -0.87 -0.76  0.88 -0.71  0.5  -0.15 -0.95 -0.75\n",
      "   0.43  0.17 -0.1   0.16]\n",
      " [ 0.13  0.75  0.74  0.04  0.   -0.38 -0.42 -0.68 -0.76 -0.5  -0.65 -0.92\n",
      "   0.37 -0.13 -0.56  0.2 ]]\n"
     ]
    }
   ],
   "source": [
    "# Jumlah neuron pada lapisan input\n",
    "input_neurons = 25\n",
    "\n",
    "# # Jumlah neuron pada lapisan tersembunyi\n",
    "hidden_neurons = 16\n",
    "\n",
    "# # Inisialisasi bobot secara acak dengan distribusi uniform dari -1 hingga 1\n",
    "weight_matrix_hidden = np.random.uniform(low=-1, high=1, size=(input_neurons, hidden_neurons))\n",
    "\n",
    "# # Membulatkan nilai bobot menjadi bilangan bulat\n",
    "rounded_weight_matrix_hidden = np.round(weight_matrix_hidden, 2)\n",
    "\n",
    "print(\"Weight matrix shape:\", rounded_weight_matrix_hidden.shape)\n",
    "print(\"Weight matrix values:\\n\", rounded_weight_matrix_hidden)\n",
    "\n",
    "\n",
    "\n"
   ]
  },
  {
   "cell_type": "code",
   "execution_count": 7,
   "metadata": {},
   "outputs": [],
   "source": [
    "# safe to csv\n",
    "df = pd.DataFrame(rounded_weight_matrix_hidden)\n",
    "df.to_csv('weight_matrix_hidden.csv', index=False)"
   ]
  },
  {
   "cell_type": "code",
   "execution_count": 8,
   "metadata": {},
   "outputs": [
    {
     "name": "stdout",
     "output_type": "stream",
     "text": [
      "[ 0.088959  0.059629  0.021865 -0.084626 -0.116678 -0.152092 -0.277528\n",
      " -0.051653 -0.073884 -0.094091  0.046397 -0.02012  -0.219726  0.124287\n",
      "  0.112704  0.039423]\n",
      "Output vector:\n",
      "[0.088959 0.059629 0.021865 0.       0.       0.       0.       0.\n",
      " 0.       0.       0.046397 0.       0.       0.124287 0.112704 0.039423]\n"
     ]
    }
   ],
   "source": [
    "import numpy as np\n",
    "\n",
    "# Fungsi aktivasi ReLU\n",
    "def relu(x):\n",
    "    return np.maximum(0, x)\n",
    "\n",
    "# Input dari hasil konvolusi\n",
    "# timnas indonesia main mantap keren banget tahan bagus serang bagus\n",
    "input_vector = np.array([\n",
    "    0.1932,\n",
    "    0,\n",
    "    0.0055,\n",
    "    0.0765,\n",
    "    0.1336,0,0,0,0,0,0,0,0,0,0,0,0,0,0,0,0,0,0,0,0\n",
    "])\n",
    "\n",
    "\n",
    "# Hitung feedforward\n",
    "print(np.dot(input_vector, rounded_weight_matrix_hidden))\n",
    "output_vector_hidden = relu(np.dot(input_vector, rounded_weight_matrix_hidden))\n",
    "\n",
    "print(\"Output vector:\")\n",
    "print(output_vector_hidden)\n"
   ]
  },
  {
   "cell_type": "code",
   "execution_count": 13,
   "metadata": {},
   "outputs": [
    {
     "name": "stdout",
     "output_type": "stream",
     "text": [
      "Weight matrix shape: (16, 1)\n",
      "Weight matrix values:\n",
      " [[-0.08]\n",
      " [ 0.27]\n",
      " [-0.38]\n",
      " [-0.48]\n",
      " [-0.97]\n",
      " [ 0.84]\n",
      " [ 0.02]\n",
      " [ 0.95]\n",
      " [ 0.52]\n",
      " [ 0.1 ]\n",
      " [ 0.45]\n",
      " [ 0.67]\n",
      " [ 0.83]\n",
      " [-0.43]\n",
      " [-0.25]\n",
      " [ 0.77]]\n"
     ]
    }
   ],
   "source": [
    "# Jumlah neuron pada lapisan input\n",
    "hidden_neurons = 16\n",
    "\n",
    "# Jumlah neuron pada lapisan tersembunyi\n",
    "output_layer_neurons = 1\n",
    "\n",
    "# Inisialisasi bobot secara acak dengan distribusi uniform dari -1 hingga 1\n",
    "weight_matrix = np.random.uniform(low=-1, high=1, size=(hidden_neurons, output_layer_neurons))\n",
    "\n",
    "# Membulatkan nilai bobot menjadi bilangan bulat\n",
    "rounded_weight_matrix_output = np.round(weight_matrix, 2)\n",
    "\n",
    "print(\"Weight matrix shape:\", rounded_weight_matrix_output.shape)\n",
    "print(\"Weight matrix values:\\n\", rounded_weight_matrix_output)"
   ]
  },
  {
   "cell_type": "code",
   "execution_count": 14,
   "metadata": {},
   "outputs": [
    {
     "name": "stdout",
     "output_type": "stream",
     "text": [
      "\n",
      "Output dot vector\n",
      "[1.39492223]\n",
      "\n",
      "Updated weight matrix:\n",
      "[[ 2.81322371]\n",
      " [ 2.20932078]\n",
      " [ 0.33111789]\n",
      " [-0.48      ]\n",
      " [-0.97      ]\n",
      " [ 0.84      ]\n",
      " [ 0.02      ]\n",
      " [ 0.95      ]\n",
      " [ 0.52      ]\n",
      " [ 0.1       ]\n",
      " [ 1.95897493]\n",
      " [ 0.67      ]\n",
      " [ 0.83      ]\n",
      " [ 3.61220029]\n",
      " [ 3.41548506]\n",
      " [ 2.05215873]]\n",
      "\n",
      "Output vector sigmoid:\n",
      "[0.80137689]\n"
     ]
    }
   ],
   "source": [
    "import numpy as np\n",
    "\n",
    "\n",
    "def sigmoid(x):\n",
    "    return 1 / (1 + np.exp(-x))\n",
    "\n",
    "# def softmax(x):\n",
    "#     return np.exp(x) / np.sum(np.exp(x), axis=0)\n",
    "\n",
    "# Mengupdate bobot secara acak hingga output vektor softmax pada indeks ke-2 lebih besar dari yang lainnya\n",
    "while True:\n",
    "    # Mendapatkan output vector dengan bobot yang terbaru\n",
    "    output_dot = np.dot(output_vector_hidden, rounded_weight_matrix_output)\n",
    "    output_final = sigmoid(output_dot)\n",
    "    \n",
    "    # # Jika output vektor pada indeks ke-2 lebih besar daripada yang lainnya, hentikan loop\n",
    "    # if output_final[2] > output_final[0] and output_final[2] > output_final[1]:\n",
    "    #     break\n",
    "\n",
    "    if output_final[0] > 0.8:\n",
    "        break\n",
    "\n",
    "    # Jika tidak, update bobot secara acak\n",
    "    # rounded_weight_matrix_output = np.random.uniform(low=-1.0, high=1.0, size=rounded_weight_matrix_output.shape)\n",
    "    # update bobot dengan menghitung error\n",
    "    error = output_final - 1\n",
    "    update = np.dot(output_vector_hidden.reshape(-1, 1), error.reshape(1, -1))\n",
    "    rounded_weight_matrix_output -= update\n",
    "    \n",
    "\n",
    "\n",
    "print(\"\\nOutput dot vector\")\n",
    "print(output_dot)\n",
    "print(\"\\nUpdated weight matrix:\")\n",
    "print(rounded_weight_matrix_output)\n",
    "print(\"\\nOutput vector sigmoid:\")\n",
    "print(output_final)\n"
   ]
  },
  {
   "cell_type": "code",
   "execution_count": null,
   "metadata": {},
   "outputs": [],
   "source": []
  }
 ],
 "metadata": {
  "kernelspec": {
   "display_name": "Python 3",
   "language": "python",
   "name": "python3"
  },
  "language_info": {
   "codemirror_mode": {
    "name": "ipython",
    "version": 3
   },
   "file_extension": ".py",
   "mimetype": "text/x-python",
   "name": "python",
   "nbconvert_exporter": "python",
   "pygments_lexer": "ipython3",
   "version": "3.9.2"
  }
 },
 "nbformat": 4,
 "nbformat_minor": 2
}
