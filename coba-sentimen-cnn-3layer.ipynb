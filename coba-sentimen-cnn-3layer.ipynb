{
 "cells": [
  {
   "cell_type": "code",
   "execution_count": 1,
   "metadata": {},
   "outputs": [],
   "source": [
    "import tensorflow as tf\n",
    "import numpy as np\n",
    "import matplotlib.pyplot as plt\n",
    "import pandas as pd\n",
    "\n",
    "from tensorflow.keras.preprocessing.text import Tokenizer\n",
    "from tensorflow.keras.preprocessing.sequence import pad_sequences"
   ]
  },
  {
   "cell_type": "code",
   "execution_count": 3,
   "metadata": {},
   "outputs": [
    {
     "name": "stdout",
     "output_type": "stream",
     "text": [
      "Tensorflow version: 2.15.0\n"
     ]
    }
   ],
   "source": [
    "print(\"Tensorflow version:\", tf.__version__)"
   ]
  },
  {
   "cell_type": "markdown",
   "metadata": {},
   "source": [
    "## Prepare Dataset"
   ]
  },
  {
   "cell_type": "code",
   "execution_count": 4,
   "metadata": {},
   "outputs": [],
   "source": [
    "\n",
    "train_df_path = './dataset/indo-nlu-socialabs-penelitian-merged-new-clean-tanpa-testing.csv'\n",
    "\n"
   ]
  },
  {
   "cell_type": "code",
   "execution_count": 5,
   "metadata": {},
   "outputs": [],
   "source": [
    "\n",
    "\n",
    "train_df = pd.read_csv(train_df_path, sep=',', header=None, usecols=[1,2], skiprows=1)\n",
    "\n",
    "train_df.columns = ['label', 'tweet_tokens_no_stemming']\n",
    "# valid_df.columns = ['label', 'tweet_tokens_no_stemming']"
   ]
  },
  {
   "cell_type": "code",
   "execution_count": 6,
   "metadata": {},
   "outputs": [
    {
     "data": {
      "text/html": [
       "<div>\n",
       "<style scoped>\n",
       "    .dataframe tbody tr th:only-of-type {\n",
       "        vertical-align: middle;\n",
       "    }\n",
       "\n",
       "    .dataframe tbody tr th {\n",
       "        vertical-align: top;\n",
       "    }\n",
       "\n",
       "    .dataframe thead th {\n",
       "        text-align: right;\n",
       "    }\n",
       "</style>\n",
       "<table border=\"1\" class=\"dataframe\">\n",
       "  <thead>\n",
       "    <tr style=\"text-align: right;\">\n",
       "      <th></th>\n",
       "      <th>label</th>\n",
       "      <th>tweet_tokens_no_stemming</th>\n",
       "    </tr>\n",
       "  </thead>\n",
       "  <tbody>\n",
       "    <tr>\n",
       "      <th>0</th>\n",
       "      <td>positive</td>\n",
       "      <td>['warung', 'milik', 'usaha', 'pabrik', 'puluh'...</td>\n",
       "    </tr>\n",
       "    <tr>\n",
       "      <th>1</th>\n",
       "      <td>neutral</td>\n",
       "      <td>['mohon', 'ulama', 'lurus', 'mbri', 'hujah', '...</td>\n",
       "    </tr>\n",
       "    <tr>\n",
       "      <th>2</th>\n",
       "      <td>positive</td>\n",
       "      <td>['lokasi', 'strategis', 'jalan', 'sumatera', '...</td>\n",
       "    </tr>\n",
       "    <tr>\n",
       "      <th>3</th>\n",
       "      <td>positive</td>\n",
       "      <td>['betapa', 'bahagia', 'sat', 'unboxing', 'pake...</td>\n",
       "    </tr>\n",
       "    <tr>\n",
       "      <th>4</th>\n",
       "      <td>negative</td>\n",
       "      <td>['duh', 'mahasiswa', 'jangan_sombong', 'kasih'...</td>\n",
       "    </tr>\n",
       "    <tr>\n",
       "      <th>5</th>\n",
       "      <td>positive</td>\n",
       "      <td>['makan', 'agam', 'harga', 'makan', 'fod', 'st...</td>\n",
       "    </tr>\n",
       "    <tr>\n",
       "      <th>6</th>\n",
       "      <td>negative</td>\n",
       "      <td>['pakai', 'kartu', 'kredit', 'baca', 'tidak_un...</td>\n",
       "    </tr>\n",
       "    <tr>\n",
       "      <th>7</th>\n",
       "      <td>positive</td>\n",
       "      <td>['unik', 'bagus', 'foto-foto', 'makan', 'enak'...</td>\n",
       "    </tr>\n",
       "    <tr>\n",
       "      <th>8</th>\n",
       "      <td>positive</td>\n",
       "      <td>['keluarga', 'nikmat', 'alam', 'kuliner', 'sen...</td>\n",
       "    </tr>\n",
       "    <tr>\n",
       "      <th>9</th>\n",
       "      <td>positive</td>\n",
       "      <td>['syukur']</td>\n",
       "    </tr>\n",
       "  </tbody>\n",
       "</table>\n",
       "</div>"
      ],
      "text/plain": [
       "      label                           tweet_tokens_no_stemming\n",
       "0  positive  ['warung', 'milik', 'usaha', 'pabrik', 'puluh'...\n",
       "1   neutral  ['mohon', 'ulama', 'lurus', 'mbri', 'hujah', '...\n",
       "2  positive  ['lokasi', 'strategis', 'jalan', 'sumatera', '...\n",
       "3  positive  ['betapa', 'bahagia', 'sat', 'unboxing', 'pake...\n",
       "4  negative  ['duh', 'mahasiswa', 'jangan_sombong', 'kasih'...\n",
       "5  positive  ['makan', 'agam', 'harga', 'makan', 'fod', 'st...\n",
       "6  negative  ['pakai', 'kartu', 'kredit', 'baca', 'tidak_un...\n",
       "7  positive  ['unik', 'bagus', 'foto-foto', 'makan', 'enak'...\n",
       "8  positive  ['keluarga', 'nikmat', 'alam', 'kuliner', 'sen...\n",
       "9  positive                                         ['syukur']"
      ]
     },
     "execution_count": 6,
     "metadata": {},
     "output_type": "execute_result"
    }
   ],
   "source": [
    "train_df.head(10)"
   ]
  },
  {
   "cell_type": "code",
   "execution_count": 7,
   "metadata": {},
   "outputs": [],
   "source": [
    "def get_label_idx(label):\n",
    "    if label == 'positive':\n",
    "        return 2\n",
    "    if label == 'negative':\n",
    "        return 1\n",
    "    if label == 'neutral':\n",
    "        return 0\n",
    "train_df['label'] = train_df['label'].apply(get_label_idx)\n",
    "# valid_df['label'] = valid_df['label'].apply(get_label_idx)\n"
   ]
  },
  {
   "cell_type": "code",
   "execution_count": 8,
   "metadata": {},
   "outputs": [
    {
     "data": {
      "text/html": [
       "<div>\n",
       "<style scoped>\n",
       "    .dataframe tbody tr th:only-of-type {\n",
       "        vertical-align: middle;\n",
       "    }\n",
       "\n",
       "    .dataframe tbody tr th {\n",
       "        vertical-align: top;\n",
       "    }\n",
       "\n",
       "    .dataframe thead th {\n",
       "        text-align: right;\n",
       "    }\n",
       "</style>\n",
       "<table border=\"1\" class=\"dataframe\">\n",
       "  <thead>\n",
       "    <tr style=\"text-align: right;\">\n",
       "      <th></th>\n",
       "      <th>label</th>\n",
       "      <th>tweet_tokens_no_stemming</th>\n",
       "    </tr>\n",
       "  </thead>\n",
       "  <tbody>\n",
       "    <tr>\n",
       "      <th>0</th>\n",
       "      <td>2</td>\n",
       "      <td>['warung', 'milik', 'usaha', 'pabrik', 'puluh'...</td>\n",
       "    </tr>\n",
       "    <tr>\n",
       "      <th>1</th>\n",
       "      <td>0</td>\n",
       "      <td>['mohon', 'ulama', 'lurus', 'mbri', 'hujah', '...</td>\n",
       "    </tr>\n",
       "    <tr>\n",
       "      <th>2</th>\n",
       "      <td>2</td>\n",
       "      <td>['lokasi', 'strategis', 'jalan', 'sumatera', '...</td>\n",
       "    </tr>\n",
       "    <tr>\n",
       "      <th>3</th>\n",
       "      <td>2</td>\n",
       "      <td>['betapa', 'bahagia', 'sat', 'unboxing', 'pake...</td>\n",
       "    </tr>\n",
       "    <tr>\n",
       "      <th>4</th>\n",
       "      <td>1</td>\n",
       "      <td>['duh', 'mahasiswa', 'jangan_sombong', 'kasih'...</td>\n",
       "    </tr>\n",
       "    <tr>\n",
       "      <th>...</th>\n",
       "      <td>...</td>\n",
       "      <td>...</td>\n",
       "    </tr>\n",
       "    <tr>\n",
       "      <th>42995</th>\n",
       "      <td>2</td>\n",
       "      <td>['beli', 'revitalift', 'laser', 'renewing', 'a...</td>\n",
       "    </tr>\n",
       "    <tr>\n",
       "      <th>42996</th>\n",
       "      <td>2</td>\n",
       "      <td>['kali', 'coba', 'serum', 'minyak', 'malam', '...</td>\n",
       "    </tr>\n",
       "    <tr>\n",
       "      <th>42997</th>\n",
       "      <td>2</td>\n",
       "      <td>['masuk', 'tahun-tahun', 'kuna', 'awat', 'faci...</td>\n",
       "    </tr>\n",
       "    <tr>\n",
       "      <th>42998</th>\n",
       "      <td>2</td>\n",
       "      <td>['hidup', 'sesuai', 'bad', 'haritulah', 'kalim...</td>\n",
       "    </tr>\n",
       "    <tr>\n",
       "      <th>42999</th>\n",
       "      <td>0</td>\n",
       "      <td>['toner', 'bagus', 'asa', 'segar', 'sete', 'di...</td>\n",
       "    </tr>\n",
       "  </tbody>\n",
       "</table>\n",
       "<p>43000 rows × 2 columns</p>\n",
       "</div>"
      ],
      "text/plain": [
       "       label                           tweet_tokens_no_stemming\n",
       "0          2  ['warung', 'milik', 'usaha', 'pabrik', 'puluh'...\n",
       "1          0  ['mohon', 'ulama', 'lurus', 'mbri', 'hujah', '...\n",
       "2          2  ['lokasi', 'strategis', 'jalan', 'sumatera', '...\n",
       "3          2  ['betapa', 'bahagia', 'sat', 'unboxing', 'pake...\n",
       "4          1  ['duh', 'mahasiswa', 'jangan_sombong', 'kasih'...\n",
       "...      ...                                                ...\n",
       "42995      2  ['beli', 'revitalift', 'laser', 'renewing', 'a...\n",
       "42996      2  ['kali', 'coba', 'serum', 'minyak', 'malam', '...\n",
       "42997      2  ['masuk', 'tahun-tahun', 'kuna', 'awat', 'faci...\n",
       "42998      2  ['hidup', 'sesuai', 'bad', 'haritulah', 'kalim...\n",
       "42999      0  ['toner', 'bagus', 'asa', 'segar', 'sete', 'di...\n",
       "\n",
       "[43000 rows x 2 columns]"
      ]
     },
     "execution_count": 8,
     "metadata": {},
     "output_type": "execute_result"
    }
   ],
   "source": [
    "train_df"
   ]
  },
  {
   "cell_type": "code",
   "execution_count": 9,
   "metadata": {},
   "outputs": [
    {
     "name": "stdout",
     "output_type": "stream",
     "text": [
      "Jumlah review positif: 21482\n",
      "Jumlah review negatif: 19255\n"
     ]
    }
   ],
   "source": [
    "jumlah_positives = (train_df['label'] == 2).sum()\n",
    "print(f'Jumlah review positif: {jumlah_positives}')\n",
    "\n",
    "jumlah_negatives = (train_df['label'] == 1).sum()\n",
    "print(f'Jumlah review negatif: {jumlah_negatives}')"
   ]
  },
  {
   "cell_type": "code",
   "execution_count": 10,
   "metadata": {},
   "outputs": [
    {
     "data": {
      "text/plain": [
       "0    warung milik usaha pabrik puluh tahun-tahun ke...\n",
       "1    mohon ulama lurus mbri hujah partai apa-apa di...\n",
       "2    lokasi strategis jalan sumatera bandung nyaman...\n",
       "3    betapa bahagia sat unboxing paket barang bagus...\n",
       "4    duh mahasiswa jangan_sombong kasih kartu kunin...\n",
       "Name: preprocessed, dtype: object"
      ]
     },
     "execution_count": 10,
     "metadata": {},
     "output_type": "execute_result"
    }
   ],
   "source": [
    "# join list of token as single document string\n",
    "import ast\n",
    "\n",
    "def join_text_list(texts):\n",
    "    texts = ast.literal_eval(texts)\n",
    "    return ' '.join([text for text in texts])\n",
    "train_df[\"preprocessed\"] = train_df[\"tweet_tokens_no_stemming\"].apply(join_text_list)\n",
    "# valid_df[\"preprocessed\"] = valid_df[\"tweet_tokens_no_stemming\"].apply(join_text_list)\n",
    "\n",
    "train_df[\"preprocessed\"].head()"
   ]
  },
  {
   "cell_type": "code",
   "execution_count": 11,
   "metadata": {},
   "outputs": [],
   "source": [
    "# Filter DataFrame untuk label 1 dan 2\n",
    "df_train_filtered = train_df[train_df['label'].isin([1, 2])]\n",
    "# df_valid_filtered = valid_df[valid_df['label'].isin([1, 2])]\n",
    "\n",
    "# Perbarui label sehingga label 1 menjadi 0 dan label 2 menjadi 1\n",
    "df_train_filtered.loc[:, 'label'] = df_train_filtered['label'].map({1: 0, 2: 1})\n",
    "# df_valid_filtered.loc[:, 'label'] = df_valid_filtered['label'].map({1: 0, 2: 1})\n",
    "\n",
    "\n",
    "# Split dataset menjadi fitur (X) dan label (y)\n",
    "X_train = df_train_filtered['preprocessed']\n",
    "y_train = df_train_filtered['label']\n",
    "\n",
    "# X_valid = df_valid_filtered['preprocessed']\n",
    "# y_valid = df_valid_filtered['label']"
   ]
  },
  {
   "cell_type": "code",
   "execution_count": 12,
   "metadata": {},
   "outputs": [
    {
     "name": "stdout",
     "output_type": "stream",
     "text": [
      "Jumlah review positif: 21482\n",
      "Jumlah review negatif: 19255\n"
     ]
    }
   ],
   "source": [
    "## hitung jumlah positive dan negative\n",
    "jumlah_positives = (y_train == 1).sum()\n",
    "print(f'Jumlah review positif: {jumlah_positives}')\n",
    "\n",
    "jumlah_negatives = (y_train == 0).sum()\n",
    "print(f'Jumlah review negatif: {jumlah_negatives}')\n",
    "\n"
   ]
  },
  {
   "cell_type": "code",
   "execution_count": 13,
   "metadata": {},
   "outputs": [
    {
     "data": {
      "image/png": "[encoded data removed]",
      "text/plain": [
       "<Figure size 800x600 with 1 Axes>"
      ]
     },
     "metadata": {},
     "output_type": "display_data"
    }
   ],
   "source": [
    "# Mengatur warna per kelas\n",
    "colors = ['red', 'blue']\n",
    "\n",
    "# Membuat grafik distribusi kelas dengan warna yang berbeda\n",
    "plt.figure(figsize=(8, 6))\n",
    "y_train.value_counts().sort_index().plot(kind='bar', color=colors)\n",
    "plt.title('Class Distribution')\n",
    "plt.xlabel('Class')\n",
    "plt.ylabel('Count')\n",
    "\n",
    "plt.show()"
   ]
  },
  {
   "cell_type": "code",
   "execution_count": 14,
   "metadata": {},
   "outputs": [],
   "source": [
    "##split dataset\n",
    "from sklearn.model_selection import train_test_split\n",
    "\n",
    "X_train, X_valid, y_train, y_valid = train_test_split(X_train, y_train, test_size=0.1,stratify=y_train, random_state=42)"
   ]
  },
  {
   "cell_type": "markdown",
   "metadata": {},
   "source": [
    "## Generate Padded Sequence"
   ]
  },
  {
   "cell_type": "code",
   "execution_count": 15,
   "metadata": {},
   "outputs": [],
   "source": [
    "# Parameters\n",
    "\n",
    "vocab_size = 60000 #ukuran kosakata yang akan digunakan\n",
    "max_length = 50 #panjang maksimal dari sebuah kalimat\n",
    "embedding_dim = 8 #dimensi vektor embedding yang akan digunakan\n",
    "trunc_type='post' #jika panjang kalimat melebihi max_length, potong bagian belakang kalimat\n",
    "oov_tok = \"<OOV>\" #OOV (Out Of Vocabulary) token, jika suatu kata tidak ditemukan dalam kosakata"
   ]
  },
  {
   "cell_type": "code",
   "execution_count": 16,
   "metadata": {},
   "outputs": [],
   "source": [
    "from tensorflow.keras.preprocessing.text import Tokenizer\n",
    "from tensorflow.keras.preprocessing.sequence import pad_sequences\n",
    "import pandas as pd\n",
    "import re\n",
    "\n",
    "# Preprocess texts to retain underscore and tokenize specific punctuations\n",
    "def preprocess_text(text):\n",
    "    to_tokenize = '.,:;!?'\n",
    "    return re.sub(r'([' + re.escape(to_tokenize) + '])', r' \\1 ', text)\n",
    "\n",
    "# Apply preprocessing\n",
    "X_train = [preprocess_text(text) for text in X_train]\n",
    "X_valid = [preprocess_text(text) for text in X_valid]\n",
    "\n",
    "# Tokenisasi\n",
    "tokenizer = Tokenizer(num_words=vocab_size, oov_token=oov_tok, filters='!\"#$%&()*+-/:;<=>@[\\\\]^`{|}~\\t\\n')\n",
    "\n",
    "# Gabungkan semua teks untuk membuat kamus indeks kata\n",
    "all_texts = list(X_train) + list(X_valid)\n",
    "\n",
    "# Membuat kamus indeks kata\n",
    "tokenizer.fit_on_texts(all_texts)\n",
    "word_index = tokenizer.word_index\n",
    "word_index\n",
    "\n",
    "\n",
    "# Konversi kalimat menjadi urutan kata\n",
    "train_sequences = tokenizer.texts_to_sequences(X_train)\n",
    "train_padded = pad_sequences(train_sequences, maxlen=max_length, truncating=trunc_type, padding=\"post\")\n",
    "\n",
    "valid_sequences = tokenizer.texts_to_sequences(X_valid)\n",
    "valid_padded = pad_sequences(valid_sequences, maxlen=max_length, truncating=trunc_type, padding=\"post\")\n",
    "\n",
    "\n"
   ]
  },
  {
   "cell_type": "code",
   "execution_count": 32,
   "metadata": {},
   "outputs": [],
   "source": [
    "# import pickle\n",
    "\n",
    "# # Simpan tokenizer ke dalam file\n",
    "# with open('tokenizer-2classes-no-socialab.pickle', 'wb') as handle:\n",
    "#     pickle.dump(tokenizer, handle, protocol=pickle.HIGHEST_PROTOCOL)\n"
   ]
  },
  {
   "cell_type": "code",
   "execution_count": 17,
   "metadata": {},
   "outputs": [
    {
     "name": "stdout",
     "output_type": "stream",
     "text": [
      "[ 5014   306  7356    34  3416  4782 11975   414  1239   306   175   306\n",
      "    25   165     0     0     0     0     0     0     0     0     0     0\n",
      "     0     0     0     0     0     0     0     0     0     0     0     0\n",
      "     0     0     0     0     0     0     0     0     0     0     0     0\n",
      "     0     0]\n"
     ]
    }
   ],
   "source": [
    "print(train_padded[12])"
   ]
  },
  {
   "cell_type": "markdown",
   "metadata": {},
   "source": [
    "## Word Embedding"
   ]
  },
  {
   "cell_type": "code",
   "execution_count": 18,
   "metadata": {},
   "outputs": [],
   "source": [
    "from gensim.models import Word2Vec\n",
    "\n",
    "# Gabungkan data pelatihan dan validasi\n",
    "sentences = [sentence.split() for sentence in X_train] + [sentence.split() for sentence in X_valid]\n",
    "\n",
    "# Latih model Word2Vec\n",
    "w2v_model = Word2Vec(sentences, vector_size=8, window=5, min_count=5, workers=4)"
   ]
  },
  {
   "cell_type": "code",
   "execution_count": 19,
   "metadata": {},
   "outputs": [],
   "source": [
    "# Create a weight matrix for the embedding layer\n",
    "embedding_matrix = np.zeros((vocab_size, 8))\n",
    "for word, i in tokenizer.word_index.items():\n",
    "    if word in w2v_model.wv:\n",
    "        embedding_matrix[i] = w2v_model.wv[word]\n",
    "        "
   ]
  },
  {
   "cell_type": "code",
   "execution_count": 20,
   "metadata": {},
   "outputs": [
    {
     "data": {
      "text/plain": [
       "(60000, 8)"
      ]
     },
     "execution_count": 20,
     "metadata": {},
     "output_type": "execute_result"
    }
   ],
   "source": [
    "embedding_matrix.shape"
   ]
  },
  {
   "cell_type": "code",
   "execution_count": 21,
   "metadata": {},
   "outputs": [
    {
     "name": "stdout",
     "output_type": "stream",
     "text": [
      "('kerja', array([-2.82114434, -0.98322314,  2.83416462,  3.50627351,  0.47173792,\n",
      "        1.16595304,  0.78069228,  0.15754819]))\n"
     ]
    }
   ],
   "source": [
    "# Mencari kata berdasarkan vektor tertentu\n",
    "def find_word_by_vector(embedding_matrix, vector):\n",
    "    for word, index in word_index.items():\n",
    "        if np.array_equal(embedding_matrix[index], vector):\n",
    "            return word, embedding_matrix[index]\n",
    "    return None\n",
    "\n",
    "# Contoh: Mencari kata untuk vektor embedding_matrix[3]\n",
    "word = find_word_by_vector(embedding_matrix, embedding_matrix[120])\n",
    "print(word)"
   ]
  },
  {
   "cell_type": "code",
   "execution_count": 22,
   "metadata": {},
   "outputs": [
    {
     "name": "stdout",
     "output_type": "stream",
     "text": [
      "Jumlah review positif: 19334\n",
      "Jumlah review negatif: 17329\n"
     ]
    }
   ],
   "source": [
    "# # check jumlah kelas\n",
    "jumlah_positives = (y_train == 1).sum()\n",
    "\n",
    "print(f'Jumlah review positif: {jumlah_positives}')\n",
    "\n",
    "jumlah_negatives = (y_train == 0).sum()\n",
    "\n",
    "print(f'Jumlah review negatif: {jumlah_negatives}')"
   ]
  },
  {
   "cell_type": "markdown",
   "metadata": {},
   "source": [
    "## Build and Compile Model"
   ]
  },
  {
   "cell_type": "code",
   "execution_count": 29,
   "metadata": {},
   "outputs": [
    {
     "name": "stderr",
     "output_type": "stream",
     "text": [
      "c:\\Users\\lenovo\\AppData\\Local\\Programs\\Python\\Python39\\lib\\site-packages\\keras\\src\\layers\\core\\embedding.py:81: UserWarning: Do not pass an `input_shape`/`input_dim` argument to a layer. When using Sequential models, prefer using an `Input(shape)` object as the first layer in the model instead.\n",
      "  super().__init__(**kwargs)\n"
     ]
    },
    {
     "data": {
      "text/html": [
       "<pre style=\"white-space:pre;overflow-x:auto;line-height:normal;font-family:Menlo,'DejaVu Sans Mono',consolas,'Courier New',monospace\"><span style=\"font-weight: bold\">Model: \"sequential_1\"</span>\n",
       "</pre>\n"
      ],
      "text/plain": [
       "\u001b[1mModel: \"sequential_1\"\u001b[0m\n"
      ]
     },
     "metadata": {},
     "output_type": "display_data"
    },
    {
     "data": {
      "text/html": [
       "<pre style=\"white-space:pre;overflow-x:auto;line-height:normal;font-family:Menlo,'DejaVu Sans Mono',consolas,'Courier New',monospace\">┏━━━━━━━━━━━━━━━━━━━━━━━━━━━━━━━━━┳━━━━━━━━━━━━━━━━━━━━━━━━━━━┳━━━━━━━━━━━━┓\n",
       "┃<span style=\"font-weight: bold\"> Layer (type)                    </span>┃<span style=\"font-weight: bold\"> Output Shape              </span>┃<span style=\"font-weight: bold\">    Param # </span>┃\n",
       "┡━━━━━━━━━━━━━━━━━━━━━━━━━━━━━━━━━╇━━━━━━━━━━━━━━━━━━━━━━━━━━━╇━━━━━━━━━━━━┩\n",
       "│ embedding_1 (<span style=\"color: #0087ff; text-decoration-color: #0087ff\">Embedding</span>)         │ (<span style=\"color: #00d7ff; text-decoration-color: #00d7ff\">None</span>, <span style=\"color: #00af00; text-decoration-color: #00af00\">50</span>, <span style=\"color: #00af00; text-decoration-color: #00af00\">8</span>)             │    <span style=\"color: #00af00; text-decoration-color: #00af00\">480,000</span> │\n",
       "├─────────────────────────────────┼───────────────────────────┼────────────┤\n",
       "│ conv1d_2 (<span style=\"color: #0087ff; text-decoration-color: #0087ff\">Conv1D</span>)               │ (<span style=\"color: #00d7ff; text-decoration-color: #00d7ff\">None</span>, <span style=\"color: #00af00; text-decoration-color: #00af00\">50</span>, <span style=\"color: #00af00; text-decoration-color: #00af00\">128</span>)           │      <span style=\"color: #00af00; text-decoration-color: #00af00\">5,248</span> │\n",
       "├─────────────────────────────────┼───────────────────────────┼────────────┤\n",
       "│ max_pooling1d_2 (<span style=\"color: #0087ff; text-decoration-color: #0087ff\">MaxPooling1D</span>)  │ (<span style=\"color: #00d7ff; text-decoration-color: #00d7ff\">None</span>, <span style=\"color: #00af00; text-decoration-color: #00af00\">25</span>, <span style=\"color: #00af00; text-decoration-color: #00af00\">128</span>)           │          <span style=\"color: #00af00; text-decoration-color: #00af00\">0</span> │\n",
       "├─────────────────────────────────┼───────────────────────────┼────────────┤\n",
       "│ conv1d_3 (<span style=\"color: #0087ff; text-decoration-color: #0087ff\">Conv1D</span>)               │ (<span style=\"color: #00d7ff; text-decoration-color: #00d7ff\">None</span>, <span style=\"color: #00af00; text-decoration-color: #00af00\">25</span>, <span style=\"color: #00af00; text-decoration-color: #00af00\">64</span>)            │     <span style=\"color: #00af00; text-decoration-color: #00af00\">24,640</span> │\n",
       "├─────────────────────────────────┼───────────────────────────┼────────────┤\n",
       "│ max_pooling1d_3 (<span style=\"color: #0087ff; text-decoration-color: #0087ff\">MaxPooling1D</span>)  │ (<span style=\"color: #00d7ff; text-decoration-color: #00d7ff\">None</span>, <span style=\"color: #00af00; text-decoration-color: #00af00\">12</span>, <span style=\"color: #00af00; text-decoration-color: #00af00\">64</span>)            │          <span style=\"color: #00af00; text-decoration-color: #00af00\">0</span> │\n",
       "├─────────────────────────────────┼───────────────────────────┼────────────┤\n",
       "│ conv1d_4 (<span style=\"color: #0087ff; text-decoration-color: #0087ff\">Conv1D</span>)               │ (<span style=\"color: #00d7ff; text-decoration-color: #00d7ff\">None</span>, <span style=\"color: #00af00; text-decoration-color: #00af00\">12</span>, <span style=\"color: #00af00; text-decoration-color: #00af00\">32</span>)            │      <span style=\"color: #00af00; text-decoration-color: #00af00\">6,176</span> │\n",
       "├─────────────────────────────────┼───────────────────────────┼────────────┤\n",
       "│ max_pooling1d_4 (<span style=\"color: #0087ff; text-decoration-color: #0087ff\">MaxPooling1D</span>)  │ (<span style=\"color: #00d7ff; text-decoration-color: #00d7ff\">None</span>, <span style=\"color: #00af00; text-decoration-color: #00af00\">6</span>, <span style=\"color: #00af00; text-decoration-color: #00af00\">32</span>)             │          <span style=\"color: #00af00; text-decoration-color: #00af00\">0</span> │\n",
       "├─────────────────────────────────┼───────────────────────────┼────────────┤\n",
       "│ flatten (<span style=\"color: #0087ff; text-decoration-color: #0087ff\">Flatten</span>)               │ (<span style=\"color: #00d7ff; text-decoration-color: #00d7ff\">None</span>, <span style=\"color: #00af00; text-decoration-color: #00af00\">192</span>)               │          <span style=\"color: #00af00; text-decoration-color: #00af00\">0</span> │\n",
       "├─────────────────────────────────┼───────────────────────────┼────────────┤\n",
       "│ dense_2 (<span style=\"color: #0087ff; text-decoration-color: #0087ff\">Dense</span>)                 │ (<span style=\"color: #00d7ff; text-decoration-color: #00d7ff\">None</span>, <span style=\"color: #00af00; text-decoration-color: #00af00\">16</span>)                │      <span style=\"color: #00af00; text-decoration-color: #00af00\">3,088</span> │\n",
       "├─────────────────────────────────┼───────────────────────────┼────────────┤\n",
       "│ dropout_1 (<span style=\"color: #0087ff; text-decoration-color: #0087ff\">Dropout</span>)             │ (<span style=\"color: #00d7ff; text-decoration-color: #00d7ff\">None</span>, <span style=\"color: #00af00; text-decoration-color: #00af00\">16</span>)                │          <span style=\"color: #00af00; text-decoration-color: #00af00\">0</span> │\n",
       "├─────────────────────────────────┼───────────────────────────┼────────────┤\n",
       "│ dense_3 (<span style=\"color: #0087ff; text-decoration-color: #0087ff\">Dense</span>)                 │ (<span style=\"color: #00d7ff; text-decoration-color: #00d7ff\">None</span>, <span style=\"color: #00af00; text-decoration-color: #00af00\">1</span>)                 │         <span style=\"color: #00af00; text-decoration-color: #00af00\">17</span> │\n",
       "└─────────────────────────────────┴───────────────────────────┴────────────┘\n",
       "</pre>\n"
      ],
      "text/plain": [
       "┏━━━━━━━━━━━━━━━━━━━━━━━━━━━━━━━━━┳━━━━━━━━━━━━━━━━━━━━━━━━━━━┳━━━━━━━━━━━━┓\n",
       "┃\u001b[1m \u001b[0m\u001b[1mLayer (type)                   \u001b[0m\u001b[1m \u001b[0m┃\u001b[1m \u001b[0m\u001b[1mOutput Shape             \u001b[0m\u001b[1m \u001b[0m┃\u001b[1m \u001b[0m\u001b[1m   Param #\u001b[0m\u001b[1m \u001b[0m┃\n",
       "┡━━━━━━━━━━━━━━━━━━━━━━━━━━━━━━━━━╇━━━━━━━━━━━━━━━━━━━━━━━━━━━╇━━━━━━━━━━━━┩\n",
       "│ embedding_1 (\u001b[38;5;33mEmbedding\u001b[0m)         │ (\u001b[38;5;45mNone\u001b[0m, \u001b[38;5;34m50\u001b[0m, \u001b[38;5;34m8\u001b[0m)             │    \u001b[38;5;34m480,000\u001b[0m │\n",
       "├─────────────────────────────────┼───────────────────────────┼────────────┤\n",
       "│ conv1d_2 (\u001b[38;5;33mConv1D\u001b[0m)               │ (\u001b[38;5;45mNone\u001b[0m, \u001b[38;5;34m50\u001b[0m, \u001b[38;5;34m128\u001b[0m)           │      \u001b[38;5;34m5,248\u001b[0m │\n",
       "├─────────────────────────────────┼───────────────────────────┼────────────┤\n",
       "│ max_pooling1d_2 (\u001b[38;5;33mMaxPooling1D\u001b[0m)  │ (\u001b[38;5;45mNone\u001b[0m, \u001b[38;5;34m25\u001b[0m, \u001b[38;5;34m128\u001b[0m)           │          \u001b[38;5;34m0\u001b[0m │\n",
       "├─────────────────────────────────┼───────────────────────────┼────────────┤\n",
       "│ conv1d_3 (\u001b[38;5;33mConv1D\u001b[0m)               │ (\u001b[38;5;45mNone\u001b[0m, \u001b[38;5;34m25\u001b[0m, \u001b[38;5;34m64\u001b[0m)            │     \u001b[38;5;34m24,640\u001b[0m │\n",
       "├─────────────────────────────────┼───────────────────────────┼────────────┤\n",
       "│ max_pooling1d_3 (\u001b[38;5;33mMaxPooling1D\u001b[0m)  │ (\u001b[38;5;45mNone\u001b[0m, \u001b[38;5;34m12\u001b[0m, \u001b[38;5;34m64\u001b[0m)            │          \u001b[38;5;34m0\u001b[0m │\n",
       "├─────────────────────────────────┼───────────────────────────┼────────────┤\n",
       "│ conv1d_4 (\u001b[38;5;33mConv1D\u001b[0m)               │ (\u001b[38;5;45mNone\u001b[0m, \u001b[38;5;34m12\u001b[0m, \u001b[38;5;34m32\u001b[0m)            │      \u001b[38;5;34m6,176\u001b[0m │\n",
       "├─────────────────────────────────┼───────────────────────────┼────────────┤\n",
       "│ max_pooling1d_4 (\u001b[38;5;33mMaxPooling1D\u001b[0m)  │ (\u001b[38;5;45mNone\u001b[0m, \u001b[38;5;34m6\u001b[0m, \u001b[38;5;34m32\u001b[0m)             │          \u001b[38;5;34m0\u001b[0m │\n",
       "├─────────────────────────────────┼───────────────────────────┼────────────┤\n",
       "│ flatten (\u001b[38;5;33mFlatten\u001b[0m)               │ (\u001b[38;5;45mNone\u001b[0m, \u001b[38;5;34m192\u001b[0m)               │          \u001b[38;5;34m0\u001b[0m │\n",
       "├─────────────────────────────────┼───────────────────────────┼────────────┤\n",
       "│ dense_2 (\u001b[38;5;33mDense\u001b[0m)                 │ (\u001b[38;5;45mNone\u001b[0m, \u001b[38;5;34m16\u001b[0m)                │      \u001b[38;5;34m3,088\u001b[0m │\n",
       "├─────────────────────────────────┼───────────────────────────┼────────────┤\n",
       "│ dropout_1 (\u001b[38;5;33mDropout\u001b[0m)             │ (\u001b[38;5;45mNone\u001b[0m, \u001b[38;5;34m16\u001b[0m)                │          \u001b[38;5;34m0\u001b[0m │\n",
       "├─────────────────────────────────┼───────────────────────────┼────────────┤\n",
       "│ dense_3 (\u001b[38;5;33mDense\u001b[0m)                 │ (\u001b[38;5;45mNone\u001b[0m, \u001b[38;5;34m1\u001b[0m)                 │         \u001b[38;5;34m17\u001b[0m │\n",
       "└─────────────────────────────────┴───────────────────────────┴────────────┘\n"
      ]
     },
     "metadata": {},
     "output_type": "display_data"
    },
    {
     "data": {
      "text/html": [
       "<pre style=\"white-space:pre;overflow-x:auto;line-height:normal;font-family:Menlo,'DejaVu Sans Mono',consolas,'Courier New',monospace\"><span style=\"font-weight: bold\"> Total params: </span><span style=\"color: #00af00; text-decoration-color: #00af00\">519,169</span> (1.98 MB)\n",
       "</pre>\n"
      ],
      "text/plain": [
       "\u001b[1m Total params: \u001b[0m\u001b[38;5;34m519,169\u001b[0m (1.98 MB)\n"
      ]
     },
     "metadata": {},
     "output_type": "display_data"
    },
    {
     "data": {
      "text/html": [
       "<pre style=\"white-space:pre;overflow-x:auto;line-height:normal;font-family:Menlo,'DejaVu Sans Mono',consolas,'Courier New',monospace\"><span style=\"font-weight: bold\"> Trainable params: </span><span style=\"color: #00af00; text-decoration-color: #00af00\">519,169</span> (1.98 MB)\n",
       "</pre>\n"
      ],
      "text/plain": [
       "\u001b[1m Trainable params: \u001b[0m\u001b[38;5;34m519,169\u001b[0m (1.98 MB)\n"
      ]
     },
     "metadata": {},
     "output_type": "display_data"
    },
    {
     "data": {
      "text/html": [
       "<pre style=\"white-space:pre;overflow-x:auto;line-height:normal;font-family:Menlo,'DejaVu Sans Mono',consolas,'Courier New',monospace\"><span style=\"font-weight: bold\"> Non-trainable params: </span><span style=\"color: #00af00; text-decoration-color: #00af00\">0</span> (0.00 B)\n",
       "</pre>\n"
      ],
      "text/plain": [
       "\u001b[1m Non-trainable params: \u001b[0m\u001b[38;5;34m0\u001b[0m (0.00 B)\n"
      ]
     },
     "metadata": {},
     "output_type": "display_data"
    }
   ],
   "source": [
    "# convert to bi-lstm model\n",
    "model = tf.keras.Sequential([\n",
    "    tf.keras.layers.Embedding(vocab_size, 8, embeddings_initializer=tf.keras.initializers.Constant(embedding_matrix), \n",
    "              input_shape=(max_length,), trainable=False),\n",
    "    tf.keras.layers.Conv1D(128, 5, activation='relu', padding='same'),\n",
    "    tf.keras.layers.MaxPooling1D(pool_size=2),\n",
    "    tf.keras.layers.Conv1D(64, 3, activation='relu', padding='same'),\n",
    "    tf.keras.layers.MaxPooling1D(pool_size=2),\n",
    "    tf.keras.layers.Conv1D(32, 3, activation='relu', padding='same'),\n",
    "    tf.keras.layers.MaxPooling1D(pool_size=2),\n",
    "    # tf.keras.layers.LSTM(128),  # Menambahkan LSTM layer\n",
    "    tf.keras.layers.Flatten(),\n",
    "    tf.keras.layers.Dense(16, activation='relu'),\n",
    "    tf.keras.layers.Dropout(0.5),\n",
    "    tf.keras.layers.Dense(1, activation='sigmoid')\n",
    "])\n",
    "\n",
    "model.compile(loss='binary_crossentropy',optimizer='adam',metrics=['accuracy'])\n",
    "\n",
    "model.summary()"
   ]
  },
  {
   "cell_type": "code",
   "execution_count": 135,
   "metadata": {},
   "outputs": [
    {
     "name": "stdout",
     "output_type": "stream",
     "text": [
      "Layer Name: embedding_14\n",
      "Weights Shape (Tensor 0): (48000, 8)\n",
      "Weights (Tensor 0):\n",
      "[[ 0.0473072  -0.01500619  0.02782885 ... -0.08924033  0.28048193\n",
      "  -0.04818339]\n",
      " [ 0.          0.          0.         ...  0.          0.\n",
      "   0.        ]\n",
      " [-1.5647609  -4.2858677   2.8019242  ... -0.8169408   0.11949761\n",
      "  -1.1953192 ]\n",
      " ...\n",
      " [ 0.          0.          0.         ...  0.          0.\n",
      "   0.        ]\n",
      " [ 0.          0.          0.         ...  0.          0.\n",
      "   0.        ]\n",
      " [ 0.          0.          0.         ...  0.          0.\n",
      "   0.        ]]\n",
      "Layer Name: conv1d_16\n",
      "Weights Shape (Tensor 0): (5, 8, 128)\n",
      "Weights (Tensor 0):\n",
      "[[[ 0.04131225  0.14408696  0.14920977 ... -0.03672064 -0.11069631\n",
      "    0.0880904 ]\n",
      "  [ 0.00910466 -0.05305839  0.18950436 ...  0.05921137  0.06961205\n",
      "   -0.01307086]\n",
      "  [ 0.14226595  0.00117126 -0.0465592  ...  0.03783052 -0.0269393\n",
      "    0.02110095]\n",
      "  ...\n",
      "  [ 0.07618467 -0.01774921  0.04905726 ... -0.05745229  0.02449762\n",
      "    0.07026207]\n",
      "  [-0.16696316 -0.02460018 -0.05926551 ... -0.1402893  -0.06341945\n",
      "   -0.06356961]\n",
      "  [-0.01823451 -0.02016628  0.23288415 ...  0.1589677   0.02571517\n",
      "   -0.11202659]]\n",
      "\n",
      " [[-0.10203319  0.01908347  0.15702762 ...  0.13695607  0.05281327\n",
      "   -0.02113207]\n",
      "  [-0.14904135  0.03384341  0.07241135 ... -0.0690496  -0.06511991\n",
      "   -0.05216117]\n",
      "  [ 0.01771994 -0.09146766  0.10588653 ...  0.02145973 -0.01918839\n",
      "    0.02637435]\n",
      "  ...\n",
      "  [ 0.16728055  0.0654363  -0.01125289 ...  0.19959752 -0.042372\n",
      "    0.1994607 ]\n",
      "  [ 0.09925561 -0.06875356 -0.19238748 ...  0.04589583  0.00867125\n",
      "    0.04957999]\n",
      "  [-0.007573    0.14463678  0.22032358 ...  0.04969081  0.04537777\n",
      "   -0.00482982]]\n",
      "\n",
      " [[ 0.12747566  0.09640057  0.09333067 ...  0.06471827 -0.09273969\n",
      "   -0.03952178]\n",
      "  [ 0.07189924  0.10142823 -0.05927252 ... -0.04611403 -0.09859275\n",
      "    0.07114642]\n",
      "  [-0.14171006  0.0456198   0.05877535 ... -0.0895754  -0.21578234\n",
      "   -0.02956478]\n",
      "  ...\n",
      "  [ 0.26829085 -0.03233453 -0.10861372 ... -0.02407744  0.28341046\n",
      "   -0.09313991]\n",
      "  [ 0.0280754  -0.11249883 -0.09756897 ... -0.22575462 -0.16804713\n",
      "   -0.05419672]\n",
      "  [-0.03932101 -0.01818992  0.06134282 ...  0.19042611  0.09882057\n",
      "   -0.0485404 ]]\n",
      "\n",
      " [[ 0.13220358  0.10975796  0.07831221 ...  0.00846504  0.07132108\n",
      "   -0.03494593]\n",
      "  [ 0.17054377  0.06103555  0.04985024 ...  0.08885493 -0.03287844\n",
      "   -0.04096847]\n",
      "  [ 0.02751614 -0.12206397 -0.09301868 ... -0.15586875 -0.09815209\n",
      "   -0.00871054]\n",
      "  ...\n",
      "  [-0.01418852 -0.03043383 -0.06050841 ... -0.04891609 -0.02035774\n",
      "    0.1744512 ]\n",
      "  [-0.13692527 -0.19121216 -0.1586063  ... -0.11751736  0.01603285\n",
      "   -0.12471585]\n",
      "  [-0.13823235  0.10421133 -0.12339608 ...  0.2337666   0.01758731\n",
      "   -0.06380135]]\n",
      "\n",
      " [[-0.03419579 -0.01149148  0.02628136 ...  0.12671022  0.15151496\n",
      "   -0.00080698]\n",
      "  [ 0.14897303  0.0873995  -0.08513211 ... -0.01522936 -0.03654593\n",
      "   -0.05953646]\n",
      "  [ 0.02303671  0.01855225  0.06546266 ... -0.17226475  0.04760696\n",
      "   -0.06211564]\n",
      "  ...\n",
      "  [ 0.0148392   0.14627424 -0.05146069 ...  0.11770909  0.12510066\n",
      "    0.07959526]\n",
      "  [-0.13970177 -0.00436752 -0.14376293 ... -0.04969386 -0.00508981\n",
      "   -0.05822299]\n",
      "  [-0.17723772  0.07779392  0.1726113  ...  0.08084545 -0.02743128\n",
      "    0.06478624]]]\n",
      "Weights Shape (Tensor 1): (128,)\n",
      "Weights (Tensor 1):\n",
      "[-0.05373966 -0.02075682  0.09500349 -0.01467657 -0.07540651  0.08928727\n",
      " -0.07359512  0.19202302  0.10845397  0.07800145  0.03837435  0.06459599\n",
      "  0.05189737 -0.07680292 -0.03969121  0.1012817  -0.08275868  0.04865162\n",
      "  0.09939311  0.05801758 -0.04184817 -0.10393228  0.09486538  0.10225549\n",
      "  0.11680124  0.03332534 -0.0775122   0.01863624  0.08920674  0.12856731\n",
      "  0.06973347  0.04419777 -0.07467592  0.14091264  0.14665328  0.05171168\n",
      " -0.07964206 -0.0656826   0.12503374  0.12760836  0.05623623  0.08150543\n",
      "  0.13117369  0.17649238  0.00524061  0.06704549  0.03921886  0.08270578\n",
      "  0.05031946  0.01711427 -0.06656481 -0.1482773   0.0271476   0.1000126\n",
      " -0.07513306  0.08580515  0.12607215  0.13260674 -0.23985113  0.12201963\n",
      " -0.10367408  0.0185992   0.17330298  0.01960985 -0.08071742 -0.02919467\n",
      "  0.08444763  0.05556291  0.0578368   0.14145495 -0.04153899  0.11237566\n",
      " -0.02959805  0.13809644  0.15795077  0.13647695 -0.11179881 -0.08119959\n",
      "  0.05097338  0.10450595  0.04341324  0.16895057  0.12584804 -0.06133753\n",
      "  0.12382746 -0.0271416  -0.04589826  0.07360064 -0.04462702  0.04677606\n",
      "  0.10313156 -0.06343603  0.17464325  0.05409974  0.13819262 -0.06838991\n",
      "  0.05583194  0.01273752  0.04184204 -0.08352224  0.02351144  0.05885543\n",
      " -0.0352926   0.0858088   0.04689016  0.08483504 -0.02037832  0.0168662\n",
      "  0.01873092 -0.07792162 -0.05277136 -0.16057263  0.08198357  0.04757781\n",
      " -0.01036468  0.01209973  0.10159814  0.10790501 -0.09888603  0.12257925\n",
      " -0.10896077  0.02517664 -0.00219256  0.08680827 -0.06536437 -0.10627229\n",
      "  0.03886938 -0.08391818]\n",
      "Layer Name: dense_26\n",
      "Weights Shape (Tensor 0): (6400, 16)\n",
      "Weights (Tensor 0):\n",
      "[[ 0.04160836  0.02943933  0.03318339 ...  0.03034198 -0.03201069\n",
      "   0.01667762]\n",
      " [ 0.03299811 -0.00836464 -0.00239319 ... -0.02064402 -0.0063627\n",
      "  -0.05419079]\n",
      " [-0.03719888  0.02117279  0.06303584 ... -0.0259938  -0.05475935\n",
      "   0.01440635]\n",
      " ...\n",
      " [-0.02690585 -0.10048275 -0.0863004  ...  0.11456966 -0.12535635\n",
      "  -0.08358137]\n",
      " [-0.1392711  -0.1337864  -0.06710139 ...  0.10611179 -0.01870256\n",
      "  -0.00335893]\n",
      " [-0.04039434 -0.07337324 -0.05006552 ...  0.10684907  0.02773065\n",
      "  -0.03460955]]\n",
      "Weights Shape (Tensor 1): (16,)\n",
      "Weights (Tensor 1):\n",
      "[ 0.10079581  0.12195162  0.08202413  0.08305393 -0.01369661  0.10021423\n",
      "  0.16401549 -0.02171472  0.16281265  0.13243067  0.15204592  0.13046083\n",
      "  0.09626821  0.17131703  0.10067233  0.14064984]\n",
      "Layer Name: dense_27\n",
      "Weights Shape (Tensor 0): (16, 1)\n",
      "Weights (Tensor 0):\n",
      "[[ 0.37528753]\n",
      " [ 0.23571068]\n",
      " [ 0.398348  ]\n",
      " [ 0.49153885]\n",
      " [ 0.49083742]\n",
      " [ 0.35931894]\n",
      " [-0.4627028 ]\n",
      " [ 0.2570518 ]\n",
      " [-0.5112029 ]\n",
      " [ 0.29508874]\n",
      " [ 0.23046555]\n",
      " [ 0.30186257]\n",
      " [ 0.30532727]\n",
      " [-0.3931041 ]\n",
      " [ 0.37128127]\n",
      " [ 0.27814296]]\n",
      "Weights Shape (Tensor 1): (1,)\n",
      "Weights (Tensor 1):\n",
      "[-0.95317125]\n"
     ]
    }
   ],
   "source": [
    "# Looping untuk mendapatkan bobot dari setiap layer\n",
    "for layer in model.layers:\n",
    "    # Mengecek apakah layer memiliki bobot\n",
    "    if layer.weights:\n",
    "        print(\"Layer Name:\", layer.name)\n",
    "        # Mendapatkan bobot dan bias dari layer\n",
    "        weights = layer.get_weights()\n",
    "        for i, w in enumerate(weights):\n",
    "            print(\"Weights Shape (Tensor {}):\".format(i), w.shape)\n",
    "            print(\"Weights (Tensor {}):\".format(i))\n",
    "            print(w)\n"
   ]
  },
  {
   "cell_type": "markdown",
   "metadata": {},
   "source": [
    "## Train Model"
   ]
  },
  {
   "cell_type": "code",
   "execution_count": 30,
   "metadata": {},
   "outputs": [
    {
     "name": "stdout",
     "output_type": "stream",
     "text": [
      "Epoch 1/20\n",
      "\u001b[1m287/287\u001b[0m \u001b[32m━━━━━━━━━━━━━━━━━━━━\u001b[0m\u001b[37m\u001b[0m \u001b[1m13s\u001b[0m 37ms/step - accuracy: 0.6439 - loss: 0.6191 - val_accuracy: 0.7872 - val_loss: 0.4813 - learning_rate: 1.0000e-04\n",
      "Epoch 2/20\n",
      "\u001b[1m287/287\u001b[0m \u001b[32m━━━━━━━━━━━━━━━━━━━━\u001b[0m\u001b[37m\u001b[0m \u001b[1m10s\u001b[0m 34ms/step - accuracy: 0.7778 - loss: 0.4952 - val_accuracy: 0.7874 - val_loss: 0.4640 - learning_rate: 1.1220e-04\n",
      "Epoch 3/20\n",
      "\u001b[1m287/287\u001b[0m \u001b[32m━━━━━━━━━━━━━━━━━━━━\u001b[0m\u001b[37m\u001b[0m \u001b[1m10s\u001b[0m 34ms/step - accuracy: 0.7927 - loss: 0.4756 - val_accuracy: 0.7977 - val_loss: 0.4494 - learning_rate: 1.2589e-04\n",
      "Epoch 4/20\n",
      "\u001b[1m287/287\u001b[0m \u001b[32m━━━━━━━━━━━━━━━━━━━━\u001b[0m\u001b[37m\u001b[0m \u001b[1m10s\u001b[0m 34ms/step - accuracy: 0.8021 - loss: 0.4563 - val_accuracy: 0.8009 - val_loss: 0.4395 - learning_rate: 1.4125e-04\n",
      "Epoch 5/20\n",
      "\u001b[1m287/287\u001b[0m \u001b[32m━━━━━━━━━━━━━━━━━━━━\u001b[0m\u001b[37m\u001b[0m \u001b[1m11s\u001b[0m 37ms/step - accuracy: 0.8066 - loss: 0.4472 - val_accuracy: 0.8017 - val_loss: 0.4346 - learning_rate: 1.5849e-04\n",
      "Epoch 6/20\n",
      "\u001b[1m287/287\u001b[0m \u001b[32m━━━━━━━━━━━━━━━━━━━━\u001b[0m\u001b[37m\u001b[0m \u001b[1m10s\u001b[0m 34ms/step - accuracy: 0.8070 - loss: 0.4435 - val_accuracy: 0.8027 - val_loss: 0.4320 - learning_rate: 1.7783e-04\n",
      "Epoch 7/20\n",
      "\u001b[1m287/287\u001b[0m \u001b[32m━━━━━━━━━━━━━━━━━━━━\u001b[0m\u001b[37m\u001b[0m \u001b[1m10s\u001b[0m 34ms/step - accuracy: 0.8174 - loss: 0.4268 - val_accuracy: 0.8127 - val_loss: 0.4265 - learning_rate: 1.9953e-04\n",
      "Epoch 8/20\n",
      "\u001b[1m287/287\u001b[0m \u001b[32m━━━━━━━━━━━━━━━━━━━━\u001b[0m\u001b[37m\u001b[0m \u001b[1m10s\u001b[0m 35ms/step - accuracy: 0.8240 - loss: 0.4182 - val_accuracy: 0.8112 - val_loss: 0.4179 - learning_rate: 2.2387e-04\n",
      "Epoch 9/20\n",
      "\u001b[1m287/287\u001b[0m \u001b[32m━━━━━━━━━━━━━━━━━━━━\u001b[0m\u001b[37m\u001b[0m \u001b[1m13s\u001b[0m 45ms/step - accuracy: 0.8282 - loss: 0.4069 - val_accuracy: 0.8174 - val_loss: 0.4102 - learning_rate: 2.5119e-04\n",
      "Epoch 10/20\n",
      "\u001b[1m287/287\u001b[0m \u001b[32m━━━━━━━━━━━━━━━━━━━━\u001b[0m\u001b[37m\u001b[0m \u001b[1m13s\u001b[0m 44ms/step - accuracy: 0.8342 - loss: 0.3949 - val_accuracy: 0.8235 - val_loss: 0.4061 - learning_rate: 2.8184e-04\n",
      "Epoch 11/20\n",
      "\u001b[1m287/287\u001b[0m \u001b[32m━━━━━━━━━━━━━━━━━━━━\u001b[0m\u001b[37m\u001b[0m \u001b[1m11s\u001b[0m 37ms/step - accuracy: 0.8406 - loss: 0.3822 - val_accuracy: 0.8218 - val_loss: 0.4066 - learning_rate: 3.1623e-04\n",
      "Epoch 12/20\n",
      "\u001b[1m287/287\u001b[0m \u001b[32m━━━━━━━━━━━━━━━━━━━━\u001b[0m\u001b[37m\u001b[0m \u001b[1m10s\u001b[0m 34ms/step - accuracy: 0.8509 - loss: 0.3648 - val_accuracy: 0.8262 - val_loss: 0.4027 - learning_rate: 3.5481e-04\n",
      "Epoch 13/20\n",
      "\u001b[1m287/287\u001b[0m \u001b[32m━━━━━━━━━━━━━━━━━━━━\u001b[0m\u001b[37m\u001b[0m \u001b[1m10s\u001b[0m 35ms/step - accuracy: 0.8547 - loss: 0.3521 - val_accuracy: 0.8292 - val_loss: 0.3995 - learning_rate: 3.9811e-04\n",
      "Epoch 14/20\n",
      "\u001b[1m287/287\u001b[0m \u001b[32m━━━━━━━━━━━━━━━━━━━━\u001b[0m\u001b[37m\u001b[0m \u001b[1m10s\u001b[0m 34ms/step - accuracy: 0.8660 - loss: 0.3350 - val_accuracy: 0.8309 - val_loss: 0.3888 - learning_rate: 4.4668e-04\n",
      "Epoch 15/20\n",
      "\u001b[1m287/287\u001b[0m \u001b[32m━━━━━━━━━━━━━━━━━━━━\u001b[0m\u001b[37m\u001b[0m \u001b[1m11s\u001b[0m 37ms/step - accuracy: 0.8808 - loss: 0.3042 - val_accuracy: 0.8365 - val_loss: 0.3950 - learning_rate: 5.0119e-04\n",
      "Epoch 16/20\n",
      "\u001b[1m287/287\u001b[0m \u001b[32m━━━━━━━━━━━━━━━━━━━━\u001b[0m\u001b[37m\u001b[0m \u001b[1m10s\u001b[0m 36ms/step - accuracy: 0.8909 - loss: 0.2865 - val_accuracy: 0.8292 - val_loss: 0.3975 - learning_rate: 5.6234e-04\n",
      "Epoch 17/20\n",
      "\u001b[1m287/287\u001b[0m \u001b[32m━━━━━━━━━━━━━━━━━━━━\u001b[0m\u001b[37m\u001b[0m \u001b[1m10s\u001b[0m 35ms/step - accuracy: 0.9021 - loss: 0.2574 - val_accuracy: 0.8331 - val_loss: 0.4051 - learning_rate: 6.3096e-04\n"
     ]
    }
   ],
   "source": [
    "num_epochs = 20\n",
    "lr_schedule = tf.keras.callbacks.LearningRateScheduler(lambda epoch: 1e-4 * 10 ** (epoch / 20))\n",
    "early_stopping = tf.keras.callbacks.EarlyStopping(monitor='val_loss', patience=3, restore_best_weights=True)\n",
    "\n",
    "history = model.fit(train_padded, y_train, batch_size=128, epochs=num_epochs, validation_data=(valid_padded, y_valid), callbacks=[lr_schedule, early_stopping])\n"
   ]
  },
  {
   "cell_type": "code",
   "execution_count": 31,
   "metadata": {},
   "outputs": [
    {
     "data": {
      "image/png": "[encoded data removed]",
      "text/plain": [
       "<Figure size 640x480 with 1 Axes>"
      ]
     },
     "metadata": {},
     "output_type": "display_data"
    }
   ],
   "source": [
    "# Plot the training history\n",
    "def plot_graphs(history, string):\n",
    "  plt.plot(history.history[string])\n",
    "  plt.plot(history.history['val_'+string])\n",
    "  plt.xlabel(\"Epochs\")\n",
    "  plt.ylabel(string)\n",
    "  plt.legend([string, 'val_'+string])\n",
    "  plt.show()\n",
    "\n",
    "plot_graphs(history, \"accuracy\")"
   ]
  },
  {
   "cell_type": "code",
   "execution_count": 32,
   "metadata": {},
   "outputs": [
    {
     "data": {
      "image/png": "[encoded data removed]",
      "text/plain": [
       "<Figure size 640x480 with 1 Axes>"
      ]
     },
     "metadata": {},
     "output_type": "display_data"
    }
   ],
   "source": [
    "# Plot the training history\n",
    "def plot_graphs(history, string):\n",
    "  plt.plot(history.history[string])\n",
    "  plt.plot(history.history['val_'+string])\n",
    "  plt.xlabel(\"Epochs\")\n",
    "  plt.ylabel(string)\n",
    "  plt.legend([string, 'val_'+string])\n",
    "  plt.show()\n",
    "\n",
    "plot_graphs(history, \"loss\")"
   ]
  },
  {
   "cell_type": "code",
   "execution_count": 33,
   "metadata": {},
   "outputs": [
    {
     "name": "stdout",
     "output_type": "stream",
     "text": [
      "\u001b[1m1/1\u001b[0m \u001b[32m━━━━━━━━━━━━━━━━━━━━\u001b[0m\u001b[37m\u001b[0m \u001b[1m0s\u001b[0m 245ms/step\n",
      "[[0.5906197]]\n",
      "\u001b[1m1/1\u001b[0m \u001b[32m━━━━━━━━━━━━━━━━━━━━\u001b[0m\u001b[37m\u001b[0m \u001b[1m0s\u001b[0m 48ms/step\n",
      "[[0.54930085]]\n",
      "\u001b[1m1/1\u001b[0m \u001b[32m━━━━━━━━━━━━━━━━━━━━\u001b[0m\u001b[37m\u001b[0m \u001b[1m0s\u001b[0m 41ms/step\n",
      "[[0.6015754]]\n",
      "\u001b[1m1/1\u001b[0m \u001b[32m━━━━━━━━━━━━━━━━━━━━\u001b[0m\u001b[37m\u001b[0m \u001b[1m0s\u001b[0m 43ms/step\n",
      "[[0.3368499]]\n",
      "\u001b[1m1/1\u001b[0m \u001b[32m━━━━━━━━━━━━━━━━━━━━\u001b[0m\u001b[37m\u001b[0m \u001b[1m0s\u001b[0m 42ms/step\n",
      "[[0.5024859]]\n",
      "\u001b[1m1/1\u001b[0m \u001b[32m━━━━━━━━━━━━━━━━━━━━\u001b[0m\u001b[37m\u001b[0m \u001b[1m0s\u001b[0m 44ms/step\n",
      "[[0.38411915]]\n",
      "\u001b[1m1/1\u001b[0m \u001b[32m━━━━━━━━━━━━━━━━━━━━\u001b[0m\u001b[37m\u001b[0m \u001b[1m0s\u001b[0m 40ms/step\n",
      "[[0.4332392]]\n",
      "\u001b[1m1/1\u001b[0m \u001b[32m━━━━━━━━━━━━━━━━━━━━\u001b[0m\u001b[37m\u001b[0m \u001b[1m0s\u001b[0m 43ms/step\n",
      "[[0.673101]]\n",
      "\u001b[1m1/1\u001b[0m \u001b[32m━━━━━━━━━━━━━━━━━━━━\u001b[0m\u001b[37m\u001b[0m \u001b[1m0s\u001b[0m 41ms/step\n",
      "[[0.42163494]]\n",
      "\u001b[1m1/1\u001b[0m \u001b[32m━━━━━━━━━━━━━━━━━━━━\u001b[0m\u001b[37m\u001b[0m \u001b[1m0s\u001b[0m 43ms/step\n",
      "[[0.8645934]]\n",
      "\u001b[1m1/1\u001b[0m \u001b[32m━━━━━━━━━━━━━━━━━━━━\u001b[0m\u001b[37m\u001b[0m \u001b[1m0s\u001b[0m 40ms/step\n",
      "[[0.18257408]]\n",
      "\u001b[1m1/1\u001b[0m \u001b[32m━━━━━━━━━━━━━━━━━━━━\u001b[0m\u001b[37m\u001b[0m \u001b[1m0s\u001b[0m 40ms/step\n",
      "[[0.80695546]]\n",
      "\u001b[1m1/1\u001b[0m \u001b[32m━━━━━━━━━━━━━━━━━━━━\u001b[0m\u001b[37m\u001b[0m \u001b[1m0s\u001b[0m 45ms/step\n",
      "[[0.24804974]]\n",
      "\u001b[1m1/1\u001b[0m \u001b[32m━━━━━━━━━━━━━━━━━━━━\u001b[0m\u001b[37m\u001b[0m \u001b[1m0s\u001b[0m 41ms/step\n",
      "[[0.20565997]]\n",
      "\u001b[1m1/1\u001b[0m \u001b[32m━━━━━━━━━━━━━━━━━━━━\u001b[0m\u001b[37m\u001b[0m \u001b[1m0s\u001b[0m 41ms/step\n",
      "[[0.4964238]]\n",
      "\u001b[1m1/1\u001b[0m \u001b[32m━━━━━━━━━━━━━━━━━━━━\u001b[0m\u001b[37m\u001b[0m \u001b[1m0s\u001b[0m 46ms/step\n",
      "[[0.39660248]]\n",
      "\u001b[1m1/1\u001b[0m \u001b[32m━━━━━━━━━━━━━━━━━━━━\u001b[0m\u001b[37m\u001b[0m \u001b[1m0s\u001b[0m 40ms/step\n",
      "[[0.02584364]]\n",
      "\u001b[1m1/1\u001b[0m \u001b[32m━━━━━━━━━━━━━━━━━━━━\u001b[0m\u001b[37m\u001b[0m \u001b[1m0s\u001b[0m 38ms/step\n",
      "[[0.1409585]]\n",
      "\u001b[1m1/1\u001b[0m \u001b[32m━━━━━━━━━━━━━━━━━━━━\u001b[0m\u001b[37m\u001b[0m \u001b[1m0s\u001b[0m 43ms/step\n",
      "[[0.6289193]]\n",
      "\u001b[1m1/1\u001b[0m \u001b[32m━━━━━━━━━━━━━━━━━━━━\u001b[0m\u001b[37m\u001b[0m \u001b[1m0s\u001b[0m 38ms/step\n",
      "[[0.6808871]]\n",
      "\u001b[1m1/1\u001b[0m \u001b[32m━━━━━━━━━━━━━━━━━━━━\u001b[0m\u001b[37m\u001b[0m \u001b[1m0s\u001b[0m 38ms/step\n",
      "[[0.08157882]]\n",
      "\u001b[1m1/1\u001b[0m \u001b[32m━━━━━━━━━━━━━━━━━━━━\u001b[0m\u001b[37m\u001b[0m \u001b[1m0s\u001b[0m 41ms/step\n",
      "[[0.88900656]]\n"
     ]
    },
    {
     "data": {
      "text/html": [
       "<div>\n",
       "<style scoped>\n",
       "    .dataframe tbody tr th:only-of-type {\n",
       "        vertical-align: middle;\n",
       "    }\n",
       "\n",
       "    .dataframe tbody tr th {\n",
       "        vertical-align: top;\n",
       "    }\n",
       "\n",
       "    .dataframe thead th {\n",
       "        text-align: right;\n",
       "    }\n",
       "</style>\n",
       "<table border=\"1\" class=\"dataframe\">\n",
       "  <thead>\n",
       "    <tr style=\"text-align: right;\">\n",
       "      <th></th>\n",
       "      <th>Teks</th>\n",
       "      <th>Label Sentimen</th>\n",
       "    </tr>\n",
       "  </thead>\n",
       "  <tbody>\n",
       "    <tr>\n",
       "      <th>0</th>\n",
       "      <td>Pada awalnya saya ragu dengan kemampuan perusa...</td>\n",
       "      <td>Positif</td>\n",
       "    </tr>\n",
       "    <tr>\n",
       "      <th>1</th>\n",
       "      <td>Film ini memulai dengan sangat membosankan dan...</td>\n",
       "      <td>Positif</td>\n",
       "    </tr>\n",
       "    <tr>\n",
       "      <th>2</th>\n",
       "      <td>Meskipun layanan pelanggan mereka sangat lamba...</td>\n",
       "      <td>Positif</td>\n",
       "    </tr>\n",
       "    <tr>\n",
       "      <th>3</th>\n",
       "      <td>Restoran ini memiliki makanan yang lezat, teta...</td>\n",
       "      <td>Negatif</td>\n",
       "    </tr>\n",
       "    <tr>\n",
       "      <th>4</th>\n",
       "      <td>Saya mengalami banyak masalah dengan perangkat...</td>\n",
       "      <td>Positif</td>\n",
       "    </tr>\n",
       "    <tr>\n",
       "      <th>5</th>\n",
       "      <td>Aplikasi ini sering mengalami crash pada versi...</td>\n",
       "      <td>Negatif</td>\n",
       "    </tr>\n",
       "    <tr>\n",
       "      <th>6</th>\n",
       "      <td>Hotel ini memiliki pemandangan yang luar biasa...</td>\n",
       "      <td>Negatif</td>\n",
       "    </tr>\n",
       "    <tr>\n",
       "      <th>7</th>\n",
       "      <td>Buku ini dimulai dengan alur yang sangat lamba...</td>\n",
       "      <td>Positif</td>\n",
       "    </tr>\n",
       "    <tr>\n",
       "      <th>8</th>\n",
       "      <td>Konser ini awalnya terasa membosankan, tetapi ...</td>\n",
       "      <td>Negatif</td>\n",
       "    </tr>\n",
       "    <tr>\n",
       "      <th>9</th>\n",
       "      <td>Saya awalnya kecewa dengan kualitas pakaian in...</td>\n",
       "      <td>Positif</td>\n",
       "    </tr>\n",
       "    <tr>\n",
       "      <th>10</th>\n",
       "      <td>Saya tidak masalah sama sekali gaji dipotong t...</td>\n",
       "      <td>Negatif</td>\n",
       "    </tr>\n",
       "    <tr>\n",
       "      <th>11</th>\n",
       "      <td>Kebijakan pemerintah tentang kenaikan harga BB...</td>\n",
       "      <td>Positif</td>\n",
       "    </tr>\n",
       "    <tr>\n",
       "      <th>12</th>\n",
       "      <td>Reformasi pajak yang diusulkan akan sangat mem...</td>\n",
       "      <td>Negatif</td>\n",
       "    </tr>\n",
       "    <tr>\n",
       "      <th>13</th>\n",
       "      <td>Keputusan untuk memperpanjang masa jabatan pre...</td>\n",
       "      <td>Negatif</td>\n",
       "    </tr>\n",
       "    <tr>\n",
       "      <th>14</th>\n",
       "      <td>Program bantuan sosial yang baru diluncurkan s...</td>\n",
       "      <td>Negatif</td>\n",
       "    </tr>\n",
       "    <tr>\n",
       "      <th>15</th>\n",
       "      <td>Pemilihan umum kali ini sangat penting untuk m...</td>\n",
       "      <td>Negatif</td>\n",
       "    </tr>\n",
       "    <tr>\n",
       "      <th>16</th>\n",
       "      <td>Banyak yang kecewa dengan hasil debat politik ...</td>\n",
       "      <td>Negatif</td>\n",
       "    </tr>\n",
       "    <tr>\n",
       "      <th>17</th>\n",
       "      <td>Tindakan korupsi yang dilakukan oleh pejabat t...</td>\n",
       "      <td>Negatif</td>\n",
       "    </tr>\n",
       "    <tr>\n",
       "      <th>18</th>\n",
       "      <td>Perubahan undang-undang ini sangat penting unt...</td>\n",
       "      <td>Positif</td>\n",
       "    </tr>\n",
       "    <tr>\n",
       "      <th>19</th>\n",
       "      <td>Diskusi tentang kebijakan luar negeri semakin ...</td>\n",
       "      <td>Positif</td>\n",
       "    </tr>\n",
       "    <tr>\n",
       "      <th>20</th>\n",
       "      <td>Partai oposisi mengkritik keras kebijakan ekon...</td>\n",
       "      <td>Negatif</td>\n",
       "    </tr>\n",
       "    <tr>\n",
       "      <th>21</th>\n",
       "      <td>Rencana pembangunan infrastruktur baru di wila...</td>\n",
       "      <td>Positif</td>\n",
       "    </tr>\n",
       "  </tbody>\n",
       "</table>\n",
       "</div>"
      ],
      "text/plain": [
       "                                                 Teks Label Sentimen\n",
       "0   Pada awalnya saya ragu dengan kemampuan perusa...        Positif\n",
       "1   Film ini memulai dengan sangat membosankan dan...        Positif\n",
       "2   Meskipun layanan pelanggan mereka sangat lamba...        Positif\n",
       "3   Restoran ini memiliki makanan yang lezat, teta...        Negatif\n",
       "4   Saya mengalami banyak masalah dengan perangkat...        Positif\n",
       "5   Aplikasi ini sering mengalami crash pada versi...        Negatif\n",
       "6   Hotel ini memiliki pemandangan yang luar biasa...        Negatif\n",
       "7   Buku ini dimulai dengan alur yang sangat lamba...        Positif\n",
       "8   Konser ini awalnya terasa membosankan, tetapi ...        Negatif\n",
       "9   Saya awalnya kecewa dengan kualitas pakaian in...        Positif\n",
       "10  Saya tidak masalah sama sekali gaji dipotong t...        Negatif\n",
       "11  Kebijakan pemerintah tentang kenaikan harga BB...        Positif\n",
       "12  Reformasi pajak yang diusulkan akan sangat mem...        Negatif\n",
       "13  Keputusan untuk memperpanjang masa jabatan pre...        Negatif\n",
       "14  Program bantuan sosial yang baru diluncurkan s...        Negatif\n",
       "15  Pemilihan umum kali ini sangat penting untuk m...        Negatif\n",
       "16  Banyak yang kecewa dengan hasil debat politik ...        Negatif\n",
       "17  Tindakan korupsi yang dilakukan oleh pejabat t...        Negatif\n",
       "18  Perubahan undang-undang ini sangat penting unt...        Positif\n",
       "19  Diskusi tentang kebijakan luar negeri semakin ...        Positif\n",
       "20  Partai oposisi mengkritik keras kebijakan ekon...        Negatif\n",
       "21  Rencana pembangunan infrastruktur baru di wila...        Positif"
      ]
     },
     "execution_count": 33,
     "metadata": {},
     "output_type": "execute_result"
    }
   ],
   "source": [
    "# Asumsi model dan tokenizer sudah didefinisikan\n",
    "def predict_sentiment(model, tokenizer, text):\n",
    "    # Tokenisasi teks\n",
    "    sample_seq = tokenizer.texts_to_sequences([text])\n",
    "    sample_padded = pad_sequences(sample_seq, maxlen=max_length, truncating=trunc_type, padding=\"post\")\n",
    "    \n",
    "    # Prediksi sentimen menggunakan model\n",
    "    prediction = model.predict(sample_padded)\n",
    "    print(prediction)\n",
    "    # Mengembalikan label sentimen berdasarkan output model\n",
    "    if prediction >= 0.5:\n",
    "        return \"Positif\"\n",
    "    else:\n",
    "        return \"Negatif\"\n",
    "\n",
    "# Kalimat contoh untuk pengujian\n",
    "test_sentences = [\n",
    "    \"Pada awalnya saya ragu dengan kemampuan perusahaan ini, namun setelah melihat kinerja mereka selama beberapa bulan terakhir, saya sangat puas dengan hasil yang mereka capai.\",\n",
    "    \"Film ini memulai dengan sangat membosankan dan lambat, tetapi akhir ceritanya sangat mengharukan dan membuat saya terkesan.\",\n",
    "    \"Meskipun layanan pelanggan mereka sangat lambat dan kurang responsif, kualitas produk yang mereka tawarkan sangatlah bagus.\",\n",
    "    \"Restoran ini memiliki makanan yang lezat, tetapi pelayanannya sangat buruk dan membuat pengalaman makan saya tidak menyenangkan.\",\n",
    "    \"Saya mengalami banyak masalah dengan perangkat ini di awal, namun setelah pembaruan terbaru, kinerjanya menjadi jauh lebih baik.\",\n",
    "    \"Aplikasi ini sering mengalami crash pada versi awal, tetapi sekarang setelah beberapa pembaruan, aplikasinya sangat stabil dan berguna.\",\n",
    "    \"Hotel ini memiliki pemandangan yang luar biasa dan staf yang ramah, meskipun kamarnya cukup kotor pada saat saya tiba.\",\n",
    "    \"Buku ini dimulai dengan alur yang sangat lambat, namun karakter dan ceritanya berkembang dengan sangat baik menjelang akhir.\",\n",
    "    \"Konser ini awalnya terasa membosankan, tetapi penampilan penutupnya sangat spektakuler dan membuat semuanya terbayar.\",\n",
    "    \"Saya awalnya kecewa dengan kualitas pakaian ini, tetapi setelah beberapa kali dicuci, kualitas bahannya ternyata sangat tahan lama.\",\n",
    "    \"Saya tidak masalah sama sekali gaji dipotong tiap bulan untuk BPJS Kesehatan. Semisal jarang pakai pun, anggap saja sedekah dan membantu sesama.  Tapi untuk TAPERA ini, jelas saya tidak ikhlas. Subsidi silang buat yang tidak mampu? Ah tidak juga rasanya.  Kebijakan aneh.\",\n",
    "    \"Kebijakan pemerintah tentang kenaikan harga BBM sangat memberatkan masyarakat kecil.\",\n",
    "    \"Reformasi pajak yang diusulkan akan sangat membantu meningkatkan perekonomian negara.\",\n",
    "    \"Keputusan untuk memperpanjang masa jabatan presiden sangat kontroversial dan memicu banyak protes.\",\n",
    "    \"Program bantuan sosial yang baru diluncurkan sangat membantu masyarakat miskin.\",\n",
    "    \"Pemilihan umum kali ini sangat penting untuk masa depan negara kita.\",\n",
    "    \"Banyak yang kecewa dengan hasil debat politik semalam, banyak janji yang tidak realistis.\",\n",
    "    \"Tindakan korupsi yang dilakukan oleh pejabat tinggi harus ditindak tegas.\",\n",
    "    \"Perubahan undang-undang ini sangat penting untuk melindungi hak-hak pekerja.\",\n",
    "    \"Diskusi tentang kebijakan luar negeri semakin memanas, banyak pihak yang berbeda pendapat.\",\n",
    "    \"Partai oposisi mengkritik keras kebijakan ekonomi pemerintah yang dianggap tidak efektif.\",\n",
    "    \"Rencana pembangunan infrastruktur baru di wilayah timur sangat disambut baik oleh masyarakat.\"\n",
    "]\n",
    "   \n",
    "# Memprediksi sentimen untuk setiap kalimat dan menyimpan hasil ke DataFrame\n",
    "results = []\n",
    "\n",
    "for sentence in test_sentences:\n",
    "    predicted_label = predict_sentiment(model, tokenizer, sentence)\n",
    "    results.append({\"Teks\": sentence, \"Label Sentimen\": predicted_label})\n",
    "\n",
    "# Membuat DataFrame\n",
    "df = pd.DataFrame(results)\n",
    "\n",
    "# Menyimpan DataFrame ke file CSV\n",
    "# df.to_csv('prediksi_sentimen-cnn-lstm.csv', index=False)\n",
    "\n",
    "df"
   ]
  },
  {
   "cell_type": "code",
   "execution_count": 34,
   "metadata": {},
   "outputs": [
    {
     "name": "stdout",
     "output_type": "stream",
     "text": [
      "\u001b[1m128/128\u001b[0m \u001b[32m━━━━━━━━━━━━━━━━━━━━\u001b[0m\u001b[37m\u001b[0m \u001b[1m1s\u001b[0m 6ms/step\n",
      "              precision    recall  f1-score   support\n",
      "\n",
      "           0       0.81      0.85      0.83      1926\n",
      "           1       0.86      0.82      0.84      2148\n",
      "\n",
      "    accuracy                           0.83      4074\n",
      "   macro avg       0.83      0.83      0.83      4074\n",
      "weighted avg       0.83      0.83      0.83      4074\n",
      "\n"
     ]
    }
   ],
   "source": [
    "from sklearn.metrics import classification_report\n",
    "\n",
    "# Melakukan prediksi pada data uji\n",
    "y_pred = model.predict(valid_padded)\n",
    "y_pred_classes = (y_pred >= 0.5).astype(int)\n",
    "\n",
    "# Mencetak classification report\n",
    "# print(classification_report(df_valid_filtered[\"label\"], y_pred_classes))\n",
    "print(classification_report(y_valid, y_pred_classes))"
   ]
  },
  {
   "cell_type": "code",
   "execution_count": 30,
   "metadata": {},
   "outputs": [
    {
     "data": {
      "image/png": "[encoded data removed]",
      "text/plain": [
       "<Figure size 640x480 with 1 Axes>"
      ]
     },
     "metadata": {},
     "output_type": "display_data"
    }
   ],
   "source": [
    "# create a confusion matrix\n",
    "from sklearn.metrics import confusion_matrix\n",
    "import seaborn as sns\n",
    "\n",
    "# Membuat confusion matrix\n",
    "# cm = confusion_matrix(df_valid_filtered[\"label\"], y_pred_classes)\n",
    "cm = confusion_matrix(y_valid, y_pred_classes)\n",
    "\n",
    "# Membuat heatmap dari confusion matrix\n",
    "sns.heatmap(cm, annot=True, fmt=\"d\", cmap=\"Blues\", cbar=False, annot_kws={\"size\": 16})\n",
    "plt.xlabel(\"Predicted Label\")\n",
    "plt.ylabel(\"True Label\")\n",
    "plt.title(\"Confusion Matrix\")\n",
    "plt.show()\n"
   ]
  },
  {
   "cell_type": "code",
   "execution_count": 31,
   "metadata": {},
   "outputs": [
    {
     "name": "stdout",
     "output_type": "stream",
     "text": [
      "[[314 146]\n",
      " [ 56 990]]\n"
     ]
    }
   ],
   "source": [
    "print(cm)"
   ]
  },
  {
   "cell_type": "code",
   "execution_count": 1122,
   "metadata": {},
   "outputs": [],
   "source": [
    "# from sklearn.model_selection import KFold\n",
    "# import numpy as np\n",
    "# import tensorflow as tf\n",
    "# from tensorflow.keras.preprocessing.text import Tokenizer\n",
    "# from tensorflow.keras.preprocessing.sequence import pad_sequences\n",
    "\n",
    "# # Hyperparameters\n",
    "# vocab_size = 23000\n",
    "# oov_tok = \"<OOV>\"\n",
    "# max_length = 100\n",
    "# trunc_type = 'post'\n",
    "# embedding_dim = 8\n",
    "# num_folds = 5\n",
    "\n",
    "# # Prepare the tokenizer and word index\n",
    "# all_texts = list(X_train) + list(X_valid)\n",
    "# tokenizer = Tokenizer(num_words=vocab_size, oov_token=oov_tok)\n",
    "# tokenizer.fit_on_texts(all_texts)\n",
    "# word_index = tokenizer.word_index\n",
    "\n",
    "# # Convert the sentences into sequences\n",
    "# train_sequences = tokenizer.texts_to_sequences(X_train)\n",
    "# train_padded = pad_sequences(train_sequences, maxlen=max_length, truncating=trunc_type)\n",
    "\n",
    "# valid_sequences = tokenizer.texts_to_sequences(X_valid)\n",
    "# valid_padded = pad_sequences(valid_sequences, maxlen=max_length, truncating=trunc_type)\n",
    "\n",
    "# # Combine training and validation data for K-Fold\n",
    "# X = np.concatenate((train_padded, valid_padded), axis=0)\n",
    "# y = np.concatenate((y_train, y_valid), axis=0)\n",
    "\n",
    "# # K-Fold Cross Validation\n",
    "# kf = KFold(n_splits=num_folds, shuffle=True, random_state=42)\n",
    "\n",
    "# fold_no = 1\n",
    "# for train_index, valid_index in kf.split(X):\n",
    "#     print(f'Training fold {fold_no} ...')\n",
    "\n",
    "#     # Split data\n",
    "#     X_train_fold, X_valid_fold = X[train_index], X[valid_index]\n",
    "#     y_train_fold, y_valid_fold = y[train_index], y[valid_index]\n",
    "\n",
    "#     # Build the model\n",
    "#     model = tf.keras.Sequential([\n",
    "#         tf.keras.layers.Embedding(vocab_size, embedding_dim, input_shape=(max_length,)),\n",
    "#         tf.keras.layers.Conv1D(128, 5, activation='relu', padding='same'),\n",
    "#         tf.keras.layers.MaxPooling1D(pool_size=2),\n",
    "#         tf.keras.layers.Flatten(),\n",
    "#         tf.keras.layers.Dense(16, activation='relu'),\n",
    "#         tf.keras.layers.Dropout(0.5),\n",
    "#         tf.keras.layers.Dense(1, activation='sigmoid')\n",
    "#     ])\n",
    "\n",
    "#     model.compile(loss='binary_crossentropy', optimizer='adam', metrics=['accuracy'])\n",
    "\n",
    "#     # Train the model\n",
    "#     history = model.fit(X_train_fold, y_train_fold, epochs=4, validation_data=(X_valid_fold, y_valid_fold))\n",
    "\n",
    "#     print(f'Fold {fold_no} completed')\n",
    "\n",
    "#     fold_no += 1\n",
    "\n",
    "# # Evaluate the final model on all data (optional)\n",
    "# final_loss, final_accuracy = model.evaluate(X, y)\n",
    "# print(f'Final loss: {final_loss}, Final accuracy: {final_accuracy}')\n"
   ]
  },
  {
   "cell_type": "code",
   "execution_count": 33,
   "metadata": {},
   "outputs": [
    {
     "name": "stderr",
     "output_type": "stream",
     "text": [
      "WARNING:absl:You are saving your model as an HDF5 file via `model.save()` or `keras.saving.save_model(model)`. This file format is considered legacy. We recommend using instead the native Keras format, e.g. `model.save('my_model.keras')` or `keras.saving.save_model(model, 'my_model.keras')`. \n"
     ]
    }
   ],
   "source": [
    "#save model\n",
    "# model.save('./model/model-cnn-lstm-no-socialab.h5')"
   ]
  },
  {
   "cell_type": "code",
   "execution_count": 1124,
   "metadata": {},
   "outputs": [],
   "source": [
    "# import numpy as np\n",
    "# import tensorflow as tf\n",
    "\n",
    "# # Inisialisasi bobot kernel dengan ukuran 5\n",
    "# kernel_size = 5\n",
    "# num_filters = 1\n",
    "# embedding_dim = 8\n",
    "\n",
    "# # Membuat bobot kernel dengan inisialisasi Glorot uniform\n",
    "# initializer = tf.keras.initializers.GlorotUniform()\n",
    "# kernel_weights = initializer(shape=(kernel_size, embedding_dim, num_filters))\n",
    "\n",
    "# # Dibulatkan ke angka terdekat\n",
    "# kernel_weights_rounded = np.round(kernel_weights, decimals=2)\n",
    "\n",
    "# print(\"Bobot kernel dengan inisialisasi Glorot uniform (dibulatkan):\")\n",
    "# print(kernel_weights_rounded)\n",
    "# print(\"Shape bobot kernel:\", kernel_weights.shape)\n"
   ]
  },
  {
   "cell_type": "code",
   "execution_count": null,
   "metadata": {},
   "outputs": [],
   "source": []
  }
 ],
 "metadata": {
  "kernelspec": {
   "display_name": "Python 3",
   "language": "python",
   "name": "python3"
  },
  "language_info": {
   "codemirror_mode": {
    "name": "ipython",
    "version": 3
   },
   "file_extension": ".py",
   "mimetype": "text/x-python",
   "name": "python",
   "nbconvert_exporter": "python",
   "pygments_lexer": "ipython3",
   "version": "3.9.2"
  }
 },
 "nbformat": 4,
 "nbformat_minor": 2
}
