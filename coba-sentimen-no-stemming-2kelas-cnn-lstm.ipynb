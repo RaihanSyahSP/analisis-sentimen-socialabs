{
 "cells": [
  {
   "cell_type": "code",
   "execution_count": 1,
   "metadata": {},
   "outputs": [],
   "source": [
    "import tensorflow as tf\n",
    "import numpy as np\n",
    "import matplotlib.pyplot as plt\n",
    "import pandas as pd\n",
    "\n",
    "from tensorflow.keras.preprocessing.text import Tokenizer\n",
    "from tensorflow.keras.preprocessing.sequence import pad_sequences"
   ]
  },
  {
   "cell_type": "code",
   "execution_count": 2,
   "metadata": {},
   "outputs": [
    {
     "name": "stdout",
     "output_type": "stream",
     "text": [
      "Tensorflow version: 2.15.0\n"
     ]
    }
   ],
   "source": [
    "print(\"Tensorflow version:\", tf.__version__)"
   ]
  },
  {
   "cell_type": "markdown",
   "metadata": {},
   "source": [
    "## Prepare Dataset"
   ]
  },
  {
   "cell_type": "code",
   "execution_count": 3,
   "metadata": {},
   "outputs": [],
   "source": [
    "# train_dataset_path = './dataset/dataset-raw-asli/train_preprocess.tsv'\n",
    "# valid_dataset_path = './dataset/dataset-raw-asli/valid_preprocess.tsv'\n",
    "\n",
    "train_df_path = './dataset/indo-nlu-socialabs-penelitian-merged-new-clean.csv'\n"
   ]
  },
  {
   "cell_type": "code",
   "execution_count": 4,
   "metadata": {},
   "outputs": [],
   "source": [
    "# train_df = pd.read_csv(train_dataset_path, sep='\\t', header=None)\n",
    "# valid_df = pd.read_csv(valid_dataset_path, sep='\\t', header=None)\n",
    "\n",
    "# train_df.columns = ['text', 'label']\n",
    "# valid_df.columns = ['text', 'label']\n",
    "\n",
    "train_df = pd.read_csv(train_df_path, sep=',', header=None, usecols=[1,2], skiprows=1)\n",
    "\n",
    "# train_df = pd.read_csv(train_dataset_path, sep=',', header=None, usecols=[1,2], skiprows=1)\n",
    "# valid_df = pd.read_csv(valid_dataset_path, sep=',', header=None, usecols=[1,2], skiprows=1)\n",
    "\n",
    "train_df.columns = ['label', 'tweet_tokens_no_stemming']\n",
    "# valid_df.columns = ['label', 'tweet_tokens_no_stemming']"
   ]
  },
  {
   "cell_type": "code",
   "execution_count": 5,
   "metadata": {},
   "outputs": [
    {
     "data": {
      "text/html": [
       "<div>\n",
       "<style scoped>\n",
       "    .dataframe tbody tr th:only-of-type {\n",
       "        vertical-align: middle;\n",
       "    }\n",
       "\n",
       "    .dataframe tbody tr th {\n",
       "        vertical-align: top;\n",
       "    }\n",
       "\n",
       "    .dataframe thead th {\n",
       "        text-align: right;\n",
       "    }\n",
       "</style>\n",
       "<table border=\"1\" class=\"dataframe\">\n",
       "  <thead>\n",
       "    <tr style=\"text-align: right;\">\n",
       "      <th></th>\n",
       "      <th>label</th>\n",
       "      <th>tweet_tokens_no_stemming</th>\n",
       "    </tr>\n",
       "  </thead>\n",
       "  <tbody>\n",
       "    <tr>\n",
       "      <th>0</th>\n",
       "      <td>positive</td>\n",
       "      <td>['warung', 'milik', 'usaha', 'pabrik', 'puluh'...</td>\n",
       "    </tr>\n",
       "    <tr>\n",
       "      <th>1</th>\n",
       "      <td>neutral</td>\n",
       "      <td>['mohon', 'ulama', 'lurus', 'mbri', 'hujah', '...</td>\n",
       "    </tr>\n",
       "    <tr>\n",
       "      <th>2</th>\n",
       "      <td>positive</td>\n",
       "      <td>['lokasi', 'strategis', 'jalan', 'sumatera', '...</td>\n",
       "    </tr>\n",
       "    <tr>\n",
       "      <th>3</th>\n",
       "      <td>positive</td>\n",
       "      <td>['betapa', 'bahagia', 'sat', 'unboxing', 'pake...</td>\n",
       "    </tr>\n",
       "    <tr>\n",
       "      <th>4</th>\n",
       "      <td>negative</td>\n",
       "      <td>['duh', 'mahasiswa', 'jangan_sombong', 'kasih'...</td>\n",
       "    </tr>\n",
       "    <tr>\n",
       "      <th>5</th>\n",
       "      <td>positive</td>\n",
       "      <td>['makan', 'agam', 'harga', 'makan', 'fod', 'st...</td>\n",
       "    </tr>\n",
       "    <tr>\n",
       "      <th>6</th>\n",
       "      <td>negative</td>\n",
       "      <td>['pakai', 'kartu', 'kredit', 'baca', 'tidak_un...</td>\n",
       "    </tr>\n",
       "    <tr>\n",
       "      <th>7</th>\n",
       "      <td>positive</td>\n",
       "      <td>['unik', 'bagus', 'foto-foto', 'makan', 'enak'...</td>\n",
       "    </tr>\n",
       "    <tr>\n",
       "      <th>8</th>\n",
       "      <td>positive</td>\n",
       "      <td>['keluarga', 'nikmat', 'alam', 'kuliner', 'sen...</td>\n",
       "    </tr>\n",
       "    <tr>\n",
       "      <th>9</th>\n",
       "      <td>positive</td>\n",
       "      <td>['syukur']</td>\n",
       "    </tr>\n",
       "  </tbody>\n",
       "</table>\n",
       "</div>"
      ],
      "text/plain": [
       "      label                           tweet_tokens_no_stemming\n",
       "0  positive  ['warung', 'milik', 'usaha', 'pabrik', 'puluh'...\n",
       "1   neutral  ['mohon', 'ulama', 'lurus', 'mbri', 'hujah', '...\n",
       "2  positive  ['lokasi', 'strategis', 'jalan', 'sumatera', '...\n",
       "3  positive  ['betapa', 'bahagia', 'sat', 'unboxing', 'pake...\n",
       "4  negative  ['duh', 'mahasiswa', 'jangan_sombong', 'kasih'...\n",
       "5  positive  ['makan', 'agam', 'harga', 'makan', 'fod', 'st...\n",
       "6  negative  ['pakai', 'kartu', 'kredit', 'baca', 'tidak_un...\n",
       "7  positive  ['unik', 'bagus', 'foto-foto', 'makan', 'enak'...\n",
       "8  positive  ['keluarga', 'nikmat', 'alam', 'kuliner', 'sen...\n",
       "9  positive                                         ['syukur']"
      ]
     },
     "execution_count": 5,
     "metadata": {},
     "output_type": "execute_result"
    }
   ],
   "source": [
    "train_df.head(10)"
   ]
  },
  {
   "cell_type": "code",
   "execution_count": 6,
   "metadata": {},
   "outputs": [
    {
     "data": {
      "text/html": [
       "<div>\n",
       "<style scoped>\n",
       "    .dataframe tbody tr th:only-of-type {\n",
       "        vertical-align: middle;\n",
       "    }\n",
       "\n",
       "    .dataframe tbody tr th {\n",
       "        vertical-align: top;\n",
       "    }\n",
       "\n",
       "    .dataframe thead th {\n",
       "        text-align: right;\n",
       "    }\n",
       "</style>\n",
       "<table border=\"1\" class=\"dataframe\">\n",
       "  <thead>\n",
       "    <tr style=\"text-align: right;\">\n",
       "      <th></th>\n",
       "      <th>label</th>\n",
       "      <th>tweet_tokens_no_stemming</th>\n",
       "    </tr>\n",
       "  </thead>\n",
       "  <tbody>\n",
       "    <tr>\n",
       "      <th>0</th>\n",
       "      <td>positive</td>\n",
       "      <td>['warung', 'milik', 'usaha', 'pabrik', 'puluh'...</td>\n",
       "    </tr>\n",
       "    <tr>\n",
       "      <th>1</th>\n",
       "      <td>neutral</td>\n",
       "      <td>['mohon', 'ulama', 'lurus', 'mbri', 'hujah', '...</td>\n",
       "    </tr>\n",
       "    <tr>\n",
       "      <th>2</th>\n",
       "      <td>positive</td>\n",
       "      <td>['lokasi', 'strategis', 'jalan', 'sumatera', '...</td>\n",
       "    </tr>\n",
       "    <tr>\n",
       "      <th>3</th>\n",
       "      <td>positive</td>\n",
       "      <td>['betapa', 'bahagia', 'sat', 'unboxing', 'pake...</td>\n",
       "    </tr>\n",
       "    <tr>\n",
       "      <th>4</th>\n",
       "      <td>negative</td>\n",
       "      <td>['duh', 'mahasiswa', 'jangan_sombong', 'kasih'...</td>\n",
       "    </tr>\n",
       "    <tr>\n",
       "      <th>5</th>\n",
       "      <td>positive</td>\n",
       "      <td>['makan', 'agam', 'harga', 'makan', 'fod', 'st...</td>\n",
       "    </tr>\n",
       "    <tr>\n",
       "      <th>6</th>\n",
       "      <td>negative</td>\n",
       "      <td>['pakai', 'kartu', 'kredit', 'baca', 'tidak_un...</td>\n",
       "    </tr>\n",
       "    <tr>\n",
       "      <th>7</th>\n",
       "      <td>positive</td>\n",
       "      <td>['unik', 'bagus', 'foto-foto', 'makan', 'enak'...</td>\n",
       "    </tr>\n",
       "    <tr>\n",
       "      <th>8</th>\n",
       "      <td>positive</td>\n",
       "      <td>['keluarga', 'nikmat', 'alam', 'kuliner', 'sen...</td>\n",
       "    </tr>\n",
       "    <tr>\n",
       "      <th>9</th>\n",
       "      <td>positive</td>\n",
       "      <td>['syukur']</td>\n",
       "    </tr>\n",
       "  </tbody>\n",
       "</table>\n",
       "</div>"
      ],
      "text/plain": [
       "      label                           tweet_tokens_no_stemming\n",
       "0  positive  ['warung', 'milik', 'usaha', 'pabrik', 'puluh'...\n",
       "1   neutral  ['mohon', 'ulama', 'lurus', 'mbri', 'hujah', '...\n",
       "2  positive  ['lokasi', 'strategis', 'jalan', 'sumatera', '...\n",
       "3  positive  ['betapa', 'bahagia', 'sat', 'unboxing', 'pake...\n",
       "4  negative  ['duh', 'mahasiswa', 'jangan_sombong', 'kasih'...\n",
       "5  positive  ['makan', 'agam', 'harga', 'makan', 'fod', 'st...\n",
       "6  negative  ['pakai', 'kartu', 'kredit', 'baca', 'tidak_un...\n",
       "7  positive  ['unik', 'bagus', 'foto-foto', 'makan', 'enak'...\n",
       "8  positive  ['keluarga', 'nikmat', 'alam', 'kuliner', 'sen...\n",
       "9  positive                                         ['syukur']"
      ]
     },
     "execution_count": 6,
     "metadata": {},
     "output_type": "execute_result"
    }
   ],
   "source": [
    "train_df.head(10)"
   ]
  },
  {
   "cell_type": "code",
   "execution_count": 7,
   "metadata": {},
   "outputs": [],
   "source": [
    "def get_label_idx(label):\n",
    "    if label == 'positive':\n",
    "        return 2\n",
    "    if label == 'negative':\n",
    "        return 1\n",
    "    if label == 'neutral':\n",
    "        return 0\n",
    "train_df['label'] = train_df['label'].apply(get_label_idx)\n",
    "# valid_df['label'] = valid_df['label'].apply(get_label_idx)\n"
   ]
  },
  {
   "cell_type": "code",
   "execution_count": 8,
   "metadata": {},
   "outputs": [
    {
     "data": {
      "text/html": [
       "<div>\n",
       "<style scoped>\n",
       "    .dataframe tbody tr th:only-of-type {\n",
       "        vertical-align: middle;\n",
       "    }\n",
       "\n",
       "    .dataframe tbody tr th {\n",
       "        vertical-align: top;\n",
       "    }\n",
       "\n",
       "    .dataframe thead th {\n",
       "        text-align: right;\n",
       "    }\n",
       "</style>\n",
       "<table border=\"1\" class=\"dataframe\">\n",
       "  <thead>\n",
       "    <tr style=\"text-align: right;\">\n",
       "      <th></th>\n",
       "      <th>label</th>\n",
       "      <th>tweet_tokens_no_stemming</th>\n",
       "    </tr>\n",
       "  </thead>\n",
       "  <tbody>\n",
       "    <tr>\n",
       "      <th>0</th>\n",
       "      <td>2</td>\n",
       "      <td>['warung', 'milik', 'usaha', 'pabrik', 'puluh'...</td>\n",
       "    </tr>\n",
       "    <tr>\n",
       "      <th>1</th>\n",
       "      <td>0</td>\n",
       "      <td>['mohon', 'ulama', 'lurus', 'mbri', 'hujah', '...</td>\n",
       "    </tr>\n",
       "    <tr>\n",
       "      <th>2</th>\n",
       "      <td>2</td>\n",
       "      <td>['lokasi', 'strategis', 'jalan', 'sumatera', '...</td>\n",
       "    </tr>\n",
       "    <tr>\n",
       "      <th>3</th>\n",
       "      <td>2</td>\n",
       "      <td>['betapa', 'bahagia', 'sat', 'unboxing', 'pake...</td>\n",
       "    </tr>\n",
       "    <tr>\n",
       "      <th>4</th>\n",
       "      <td>1</td>\n",
       "      <td>['duh', 'mahasiswa', 'jangan_sombong', 'kasih'...</td>\n",
       "    </tr>\n",
       "    <tr>\n",
       "      <th>...</th>\n",
       "      <td>...</td>\n",
       "      <td>...</td>\n",
       "    </tr>\n",
       "    <tr>\n",
       "      <th>43451</th>\n",
       "      <td>2</td>\n",
       "      <td>['memoisturizer', 'cosrx', 'oil', 'fre', 'memo...</td>\n",
       "    </tr>\n",
       "    <tr>\n",
       "      <th>43452</th>\n",
       "      <td>2</td>\n",
       "      <td>['suka', 'memoisturizer', 'cosrx', 'harga', 'l...</td>\n",
       "    </tr>\n",
       "    <tr>\n",
       "      <th>43453</th>\n",
       "      <td>2</td>\n",
       "      <td>['lintang', 'kemari', 'pakai', 'hadalabo', 'me...</td>\n",
       "    </tr>\n",
       "    <tr>\n",
       "      <th>43454</th>\n",
       "      <td>2</td>\n",
       "      <td>['memoisturizer', 'baik', 'natrep', 'lacto', '...</td>\n",
       "    </tr>\n",
       "    <tr>\n",
       "      <th>43455</th>\n",
       "      <td>2</td>\n",
       "      <td>['progres', 'kulit', 'sete', 'pakai', 'memoist...</td>\n",
       "    </tr>\n",
       "  </tbody>\n",
       "</table>\n",
       "<p>43456 rows × 2 columns</p>\n",
       "</div>"
      ],
      "text/plain": [
       "       label                           tweet_tokens_no_stemming\n",
       "0          2  ['warung', 'milik', 'usaha', 'pabrik', 'puluh'...\n",
       "1          0  ['mohon', 'ulama', 'lurus', 'mbri', 'hujah', '...\n",
       "2          2  ['lokasi', 'strategis', 'jalan', 'sumatera', '...\n",
       "3          2  ['betapa', 'bahagia', 'sat', 'unboxing', 'pake...\n",
       "4          1  ['duh', 'mahasiswa', 'jangan_sombong', 'kasih'...\n",
       "...      ...                                                ...\n",
       "43451      2  ['memoisturizer', 'cosrx', 'oil', 'fre', 'memo...\n",
       "43452      2  ['suka', 'memoisturizer', 'cosrx', 'harga', 'l...\n",
       "43453      2  ['lintang', 'kemari', 'pakai', 'hadalabo', 'me...\n",
       "43454      2  ['memoisturizer', 'baik', 'natrep', 'lacto', '...\n",
       "43455      2  ['progres', 'kulit', 'sete', 'pakai', 'memoist...\n",
       "\n",
       "[43456 rows x 2 columns]"
      ]
     },
     "execution_count": 8,
     "metadata": {},
     "output_type": "execute_result"
    }
   ],
   "source": [
    "train_df"
   ]
  },
  {
   "cell_type": "code",
   "execution_count": 9,
   "metadata": {},
   "outputs": [
    {
     "name": "stdout",
     "output_type": "stream",
     "text": [
      "Jumlah review positif: 21777\n",
      "Jumlah review negatif: 19416\n"
     ]
    }
   ],
   "source": [
    "jumlah_positives = (train_df['label'] == 2).sum()\n",
    "print(f'Jumlah review positif: {jumlah_positives}')\n",
    "\n",
    "jumlah_negatives = (train_df['label'] == 1).sum()\n",
    "print(f'Jumlah review negatif: {jumlah_negatives}')"
   ]
  },
  {
   "cell_type": "code",
   "execution_count": 10,
   "metadata": {},
   "outputs": [
    {
     "data": {
      "text/plain": [
       "0    warung milik usaha pabrik puluh tahun-tahun ke...\n",
       "1    mohon ulama lurus mbri hujah partai apa-apa di...\n",
       "2    lokasi strategis jalan sumatera bandung nyaman...\n",
       "3    betapa bahagia sat unboxing paket barang bagus...\n",
       "4    duh mahasiswa jangan_sombong kasih kartu kunin...\n",
       "Name: preprocessed, dtype: object"
      ]
     },
     "execution_count": 10,
     "metadata": {},
     "output_type": "execute_result"
    }
   ],
   "source": [
    "# join list of token as single document string\n",
    "import ast\n",
    "\n",
    "def join_text_list(texts):\n",
    "    texts = ast.literal_eval(texts)\n",
    "    return ' '.join([text for text in texts])\n",
    "train_df[\"preprocessed\"] = train_df[\"tweet_tokens_no_stemming\"].apply(join_text_list)\n",
    "# valid_df[\"preprocessed\"] = valid_df[\"tweet_tokens_no_stemming\"].apply(join_text_list)\n",
    "\n",
    "train_df[\"preprocessed\"].head()"
   ]
  },
  {
   "cell_type": "code",
   "execution_count": 11,
   "metadata": {},
   "outputs": [],
   "source": [
    "# Filter DataFrame untuk label 1 dan 2\n",
    "df_train_filtered = train_df[train_df['label'].isin([1, 2])]\n",
    "# df_valid_filtered = valid_df[valid_df['label'].isin([1, 2])]\n",
    "\n",
    "# Perbarui label sehingga label 1 menjadi 0 dan label 2 menjadi 1\n",
    "df_train_filtered.loc[:, 'label'] = df_train_filtered['label'].map({1: 0, 2: 1})\n",
    "# df_valid_filtered.loc[:, 'label'] = df_valid_filtered['label'].map({1: 0, 2: 1})\n",
    "\n",
    "\n",
    "# Split dataset menjadi fitur (X) dan label (y)\n",
    "X_train = df_train_filtered['preprocessed']\n",
    "y_train = df_train_filtered['label']\n",
    "\n",
    "# X_valid = df_valid_filtered['preprocessed']\n",
    "# y_valid = df_valid_filtered['label']"
   ]
  },
  {
   "cell_type": "code",
   "execution_count": 12,
   "metadata": {},
   "outputs": [
    {
     "name": "stdout",
     "output_type": "stream",
     "text": [
      "Jumlah review positif: 21777\n",
      "Jumlah review negatif: 19416\n"
     ]
    }
   ],
   "source": [
    "## hitung jumlah positive dan negative\n",
    "jumlah_positives = (y_train == 1).sum()\n",
    "print(f'Jumlah review positif: {jumlah_positives}')\n",
    "\n",
    "jumlah_negatives = (y_train == 0).sum()\n",
    "print(f'Jumlah review negatif: {jumlah_negatives}')\n",
    "\n",
    "# jumlah_positives = (y_valid == 1).sum()\n",
    "# print(f'Jumlah review positif: {jumlah_positives}')\n",
    "\n",
    "# jumlah_negatives = (y_valid == 0).sum()\n",
    "# print(f'Jumlah review negatif: {jumlah_negatives}')"
   ]
  },
  {
   "cell_type": "code",
   "execution_count": 13,
   "metadata": {},
   "outputs": [],
   "source": [
    "##split dataset\n",
    "from sklearn.model_selection import train_test_split\n",
    "\n",
    "X_train, X_valid, y_train, y_valid = train_test_split(X_train, y_train, test_size=0.1, random_state=42)"
   ]
  },
  {
   "cell_type": "code",
   "execution_count": 14,
   "metadata": {},
   "outputs": [
    {
     "name": "stdout",
     "output_type": "stream",
     "text": [
      "Average length of sentences: 16.17435869770453\n"
     ]
    }
   ],
   "source": [
    "# average length X_valid sentences\n",
    "avg_len = np.mean(X_train.apply(lambda x: len(x.split())))\n",
    "print(f'Average length of sentences: {avg_len}')"
   ]
  },
  {
   "cell_type": "markdown",
   "metadata": {},
   "source": [
    "## Generate Padded Sequence"
   ]
  },
  {
   "cell_type": "code",
   "execution_count": 15,
   "metadata": {},
   "outputs": [],
   "source": [
    "# Parameters\n",
    "\n",
    "vocab_size = 60000 #ukuran kosakata yang akan digunakan\n",
    "max_length = 50 #panjang maksimal dari sebuah kalimat\n",
    "embedding_dim = 8 #dimensi vektor embedding yang akan digunakan\n",
    "trunc_type='post' #jika panjang kalimat melebihi max_length, potong bagian belakang kalimat\n",
    "oov_tok = \"<OOV>\" #OOV (Out Of Vocabulary) token, jika suatu kata tidak ditemukan dalam kosakata"
   ]
  },
  {
   "cell_type": "code",
   "execution_count": 16,
   "metadata": {},
   "outputs": [],
   "source": [
    "from tensorflow.keras.preprocessing.text import Tokenizer\n",
    "from tensorflow.keras.preprocessing.sequence import pad_sequences\n",
    "import pandas as pd\n",
    "import re\n",
    "\n",
    "# Preprocess texts to retain underscore and tokenize specific punctuations\n",
    "def preprocess_text(text):\n",
    "    to_tokenize = '.,:;!?'\n",
    "    return re.sub(r'([' + re.escape(to_tokenize) + '])', r' \\1 ', text)\n",
    "\n",
    "# Apply preprocessing\n",
    "X_train = [preprocess_text(text) for text in X_train]\n",
    "X_valid = [preprocess_text(text) for text in X_valid]\n",
    "\n",
    "# Tokenisasi\n",
    "tokenizer = Tokenizer(num_words=vocab_size, oov_token=oov_tok, filters='!\"#$%&()*+-/:;<=>@[\\\\]^`{|}~\\t\\n')\n",
    "\n",
    "# Gabungkan semua teks untuk membuat kamus indeks kata\n",
    "all_texts = list(X_train) + list(X_valid)\n",
    "\n",
    "# Membuat kamus indeks kata\n",
    "tokenizer.fit_on_texts(all_texts)\n",
    "word_index = tokenizer.word_index\n",
    "word_index\n",
    "\n",
    "\n",
    "# Konversi kalimat menjadi urutan kata\n",
    "train_sequences = tokenizer.texts_to_sequences(X_train)\n",
    "train_padded = pad_sequences(train_sequences, maxlen=max_length, truncating=trunc_type, padding=\"post\")\n",
    "\n",
    "valid_sequences = tokenizer.texts_to_sequences(X_valid)\n",
    "valid_padded = pad_sequences(valid_sequences, maxlen=max_length, truncating=trunc_type, padding=\"post\")\n",
    "\n",
    "\n"
   ]
  },
  {
   "cell_type": "code",
   "execution_count": 17,
   "metadata": {},
   "outputs": [],
   "source": [
    "import pickle\n",
    "\n",
    "# Simpan tokenizer ke dalam file\n",
    "# with open('tokenizer-cnn-lstm.pickle', 'wb') as handle:\n",
    "#     pickle.dump(tokenizer, handle, protocol=pickle.HIGHEST_PROTOCOL)\n"
   ]
  },
  {
   "cell_type": "code",
   "execution_count": 18,
   "metadata": {},
   "outputs": [
    {
     "name": "stdout",
     "output_type": "stream",
     "text": [
      "[  23  137  258   78 1528   20   20  188 1404    0    0    0    0    0\n",
      "    0    0    0    0    0    0    0    0    0    0    0    0    0    0\n",
      "    0    0    0    0    0    0    0    0    0    0    0    0    0    0\n",
      "    0    0    0    0    0    0    0    0]\n"
     ]
    }
   ],
   "source": [
    "print(train_padded[0])"
   ]
  },
  {
   "cell_type": "markdown",
   "metadata": {},
   "source": [
    "## Word Embedding"
   ]
  },
  {
   "cell_type": "code",
   "execution_count": 19,
   "metadata": {},
   "outputs": [],
   "source": [
    "from gensim.models import Word2Vec\n",
    "\n",
    "\n",
    "# Gabungkan data pelatihan dan validasi\n",
    "sentences = [sentence.split() for sentence in X_train] + [sentence.split() for sentence in X_valid]\n",
    "\n",
    "# Latih model Word2Vec\n",
    "w2v_model = Word2Vec(sentences, vector_size=8, window=5, min_count=5, workers=4)"
   ]
  },
  {
   "cell_type": "code",
   "execution_count": 20,
   "metadata": {},
   "outputs": [],
   "source": [
    "# Create a weight matrix for the embedding layer\n",
    "embedding_matrix = np.zeros((vocab_size, 8))\n",
    "for word, i in tokenizer.word_index.items():\n",
    "    if word in w2v_model.wv:\n",
    "        embedding_matrix[i] = w2v_model.wv[word]\n",
    "        "
   ]
  },
  {
   "cell_type": "code",
   "execution_count": 21,
   "metadata": {},
   "outputs": [
    {
     "data": {
      "text/plain": [
       "array([[ 0.        ,  0.        ,  0.        , ...,  0.        ,\n",
       "         0.        ,  0.        ],\n",
       "       [ 0.        ,  0.        ,  0.        , ...,  0.        ,\n",
       "         0.        ,  0.        ],\n",
       "       [-4.47440434, -0.42103228,  4.6466012 , ..., -3.12164092,\n",
       "         2.91070271, -1.9472959 ],\n",
       "       ...,\n",
       "       [ 0.        ,  0.        ,  0.        , ...,  0.        ,\n",
       "         0.        ,  0.        ],\n",
       "       [ 0.        ,  0.        ,  0.        , ...,  0.        ,\n",
       "         0.        ,  0.        ],\n",
       "       [ 0.        ,  0.        ,  0.        , ...,  0.        ,\n",
       "         0.        ,  0.        ]])"
      ]
     },
     "execution_count": 21,
     "metadata": {},
     "output_type": "execute_result"
    }
   ],
   "source": [
    "embedding_matrix"
   ]
  },
  {
   "cell_type": "code",
   "execution_count": 22,
   "metadata": {},
   "outputs": [],
   "source": [
    "# # save embedding matrix to csv\n",
    "# df_embedding_matrix = pd.DataFrame(embedding_matrix)\n",
    "\n",
    "# df_embedding_matrix.to_csv('./embedding_matrix.csv', index=False)"
   ]
  },
  {
   "cell_type": "code",
   "execution_count": 23,
   "metadata": {},
   "outputs": [
    {
     "name": "stdout",
     "output_type": "stream",
     "text": [
      "('hotel', array([-3.20584869,  1.26175165,  1.17411947,  3.02410531, -2.93942451,\n",
      "       -3.23142815,  3.13562751, -1.49842036]))\n"
     ]
    }
   ],
   "source": [
    "# Mencari kata berdasarkan vektor tertentu\n",
    "def find_word_by_vector(embedding_matrix, vector):\n",
    "    for word, index in word_index.items():\n",
    "        if np.array_equal(embedding_matrix[index], vector):\n",
    "            return word, embedding_matrix[index]\n",
    "    return None\n",
    "\n",
    "# Contoh: Mencari kata untuk vektor embedding_matrix[3]\n",
    "word = find_word_by_vector(embedding_matrix, embedding_matrix[345])\n",
    "print(word)"
   ]
  },
  {
   "cell_type": "markdown",
   "metadata": {},
   "source": [
    "## Build and Compile Model"
   ]
  },
  {
   "cell_type": "code",
   "execution_count": 33,
   "metadata": {},
   "outputs": [
    {
     "name": "stderr",
     "output_type": "stream",
     "text": [
      "c:\\Users\\lenovo\\AppData\\Local\\Programs\\Python\\Python39\\lib\\site-packages\\keras\\src\\layers\\core\\embedding.py:81: UserWarning: Do not pass an `input_shape`/`input_dim` argument to a layer. When using Sequential models, prefer using an `Input(shape)` object as the first layer in the model instead.\n",
      "  super().__init__(**kwargs)\n"
     ]
    },
    {
     "data": {
      "text/html": [
       "<pre style=\"white-space:pre;overflow-x:auto;line-height:normal;font-family:Menlo,'DejaVu Sans Mono',consolas,'Courier New',monospace\"><span style=\"font-weight: bold\">Model: \"sequential_5\"</span>\n",
       "</pre>\n"
      ],
      "text/plain": [
       "\u001b[1mModel: \"sequential_5\"\u001b[0m\n"
      ]
     },
     "metadata": {},
     "output_type": "display_data"
    },
    {
     "data": {
      "text/html": [
       "<pre style=\"white-space:pre;overflow-x:auto;line-height:normal;font-family:Menlo,'DejaVu Sans Mono',consolas,'Courier New',monospace\">┏━━━━━━━━━━━━━━━━━━━━━━━━━━━━━━━━━┳━━━━━━━━━━━━━━━━━━━━━━━━━━━┳━━━━━━━━━━━━┓\n",
       "┃<span style=\"font-weight: bold\"> Layer (type)                    </span>┃<span style=\"font-weight: bold\"> Output Shape              </span>┃<span style=\"font-weight: bold\">    Param # </span>┃\n",
       "┡━━━━━━━━━━━━━━━━━━━━━━━━━━━━━━━━━╇━━━━━━━━━━━━━━━━━━━━━━━━━━━╇━━━━━━━━━━━━┩\n",
       "│ embedding_5 (<span style=\"color: #0087ff; text-decoration-color: #0087ff\">Embedding</span>)         │ (<span style=\"color: #00d7ff; text-decoration-color: #00d7ff\">None</span>, <span style=\"color: #00af00; text-decoration-color: #00af00\">50</span>, <span style=\"color: #00af00; text-decoration-color: #00af00\">8</span>)             │    <span style=\"color: #00af00; text-decoration-color: #00af00\">480,000</span> │\n",
       "├─────────────────────────────────┼───────────────────────────┼────────────┤\n",
       "│ conv1d_5 (<span style=\"color: #0087ff; text-decoration-color: #0087ff\">Conv1D</span>)               │ (<span style=\"color: #00d7ff; text-decoration-color: #00d7ff\">None</span>, <span style=\"color: #00af00; text-decoration-color: #00af00\">50</span>, <span style=\"color: #00af00; text-decoration-color: #00af00\">128</span>)           │      <span style=\"color: #00af00; text-decoration-color: #00af00\">5,248</span> │\n",
       "├─────────────────────────────────┼───────────────────────────┼────────────┤\n",
       "│ max_pooling1d_5 (<span style=\"color: #0087ff; text-decoration-color: #0087ff\">MaxPooling1D</span>)  │ (<span style=\"color: #00d7ff; text-decoration-color: #00d7ff\">None</span>, <span style=\"color: #00af00; text-decoration-color: #00af00\">25</span>, <span style=\"color: #00af00; text-decoration-color: #00af00\">128</span>)           │          <span style=\"color: #00af00; text-decoration-color: #00af00\">0</span> │\n",
       "├─────────────────────────────────┼───────────────────────────┼────────────┤\n",
       "│ lstm_5 (<span style=\"color: #0087ff; text-decoration-color: #0087ff\">LSTM</span>)                   │ (<span style=\"color: #00d7ff; text-decoration-color: #00d7ff\">None</span>, <span style=\"color: #00af00; text-decoration-color: #00af00\">25</span>, <span style=\"color: #00af00; text-decoration-color: #00af00\">32</span>)            │     <span style=\"color: #00af00; text-decoration-color: #00af00\">20,608</span> │\n",
       "├─────────────────────────────────┼───────────────────────────┼────────────┤\n",
       "│ flatten_5 (<span style=\"color: #0087ff; text-decoration-color: #0087ff\">Flatten</span>)             │ (<span style=\"color: #00d7ff; text-decoration-color: #00d7ff\">None</span>, <span style=\"color: #00af00; text-decoration-color: #00af00\">800</span>)               │          <span style=\"color: #00af00; text-decoration-color: #00af00\">0</span> │\n",
       "├─────────────────────────────────┼───────────────────────────┼────────────┤\n",
       "│ dense_10 (<span style=\"color: #0087ff; text-decoration-color: #0087ff\">Dense</span>)                │ (<span style=\"color: #00d7ff; text-decoration-color: #00d7ff\">None</span>, <span style=\"color: #00af00; text-decoration-color: #00af00\">16</span>)                │     <span style=\"color: #00af00; text-decoration-color: #00af00\">12,816</span> │\n",
       "├─────────────────────────────────┼───────────────────────────┼────────────┤\n",
       "│ dropout_5 (<span style=\"color: #0087ff; text-decoration-color: #0087ff\">Dropout</span>)             │ (<span style=\"color: #00d7ff; text-decoration-color: #00d7ff\">None</span>, <span style=\"color: #00af00; text-decoration-color: #00af00\">16</span>)                │          <span style=\"color: #00af00; text-decoration-color: #00af00\">0</span> │\n",
       "├─────────────────────────────────┼───────────────────────────┼────────────┤\n",
       "│ dense_11 (<span style=\"color: #0087ff; text-decoration-color: #0087ff\">Dense</span>)                │ (<span style=\"color: #00d7ff; text-decoration-color: #00d7ff\">None</span>, <span style=\"color: #00af00; text-decoration-color: #00af00\">1</span>)                 │         <span style=\"color: #00af00; text-decoration-color: #00af00\">17</span> │\n",
       "└─────────────────────────────────┴───────────────────────────┴────────────┘\n",
       "</pre>\n"
      ],
      "text/plain": [
       "┏━━━━━━━━━━━━━━━━━━━━━━━━━━━━━━━━━┳━━━━━━━━━━━━━━━━━━━━━━━━━━━┳━━━━━━━━━━━━┓\n",
       "┃\u001b[1m \u001b[0m\u001b[1mLayer (type)                   \u001b[0m\u001b[1m \u001b[0m┃\u001b[1m \u001b[0m\u001b[1mOutput Shape             \u001b[0m\u001b[1m \u001b[0m┃\u001b[1m \u001b[0m\u001b[1m   Param #\u001b[0m\u001b[1m \u001b[0m┃\n",
       "┡━━━━━━━━━━━━━━━━━━━━━━━━━━━━━━━━━╇━━━━━━━━━━━━━━━━━━━━━━━━━━━╇━━━━━━━━━━━━┩\n",
       "│ embedding_5 (\u001b[38;5;33mEmbedding\u001b[0m)         │ (\u001b[38;5;45mNone\u001b[0m, \u001b[38;5;34m50\u001b[0m, \u001b[38;5;34m8\u001b[0m)             │    \u001b[38;5;34m480,000\u001b[0m │\n",
       "├─────────────────────────────────┼───────────────────────────┼────────────┤\n",
       "│ conv1d_5 (\u001b[38;5;33mConv1D\u001b[0m)               │ (\u001b[38;5;45mNone\u001b[0m, \u001b[38;5;34m50\u001b[0m, \u001b[38;5;34m128\u001b[0m)           │      \u001b[38;5;34m5,248\u001b[0m │\n",
       "├─────────────────────────────────┼───────────────────────────┼────────────┤\n",
       "│ max_pooling1d_5 (\u001b[38;5;33mMaxPooling1D\u001b[0m)  │ (\u001b[38;5;45mNone\u001b[0m, \u001b[38;5;34m25\u001b[0m, \u001b[38;5;34m128\u001b[0m)           │          \u001b[38;5;34m0\u001b[0m │\n",
       "├─────────────────────────────────┼───────────────────────────┼────────────┤\n",
       "│ lstm_5 (\u001b[38;5;33mLSTM\u001b[0m)                   │ (\u001b[38;5;45mNone\u001b[0m, \u001b[38;5;34m25\u001b[0m, \u001b[38;5;34m32\u001b[0m)            │     \u001b[38;5;34m20,608\u001b[0m │\n",
       "├─────────────────────────────────┼───────────────────────────┼────────────┤\n",
       "│ flatten_5 (\u001b[38;5;33mFlatten\u001b[0m)             │ (\u001b[38;5;45mNone\u001b[0m, \u001b[38;5;34m800\u001b[0m)               │          \u001b[38;5;34m0\u001b[0m │\n",
       "├─────────────────────────────────┼───────────────────────────┼────────────┤\n",
       "│ dense_10 (\u001b[38;5;33mDense\u001b[0m)                │ (\u001b[38;5;45mNone\u001b[0m, \u001b[38;5;34m16\u001b[0m)                │     \u001b[38;5;34m12,816\u001b[0m │\n",
       "├─────────────────────────────────┼───────────────────────────┼────────────┤\n",
       "│ dropout_5 (\u001b[38;5;33mDropout\u001b[0m)             │ (\u001b[38;5;45mNone\u001b[0m, \u001b[38;5;34m16\u001b[0m)                │          \u001b[38;5;34m0\u001b[0m │\n",
       "├─────────────────────────────────┼───────────────────────────┼────────────┤\n",
       "│ dense_11 (\u001b[38;5;33mDense\u001b[0m)                │ (\u001b[38;5;45mNone\u001b[0m, \u001b[38;5;34m1\u001b[0m)                 │         \u001b[38;5;34m17\u001b[0m │\n",
       "└─────────────────────────────────┴───────────────────────────┴────────────┘\n"
      ]
     },
     "metadata": {},
     "output_type": "display_data"
    },
    {
     "data": {
      "text/html": [
       "<pre style=\"white-space:pre;overflow-x:auto;line-height:normal;font-family:Menlo,'DejaVu Sans Mono',consolas,'Courier New',monospace\"><span style=\"font-weight: bold\"> Total params: </span><span style=\"color: #00af00; text-decoration-color: #00af00\">518,689</span> (1.98 MB)\n",
       "</pre>\n"
      ],
      "text/plain": [
       "\u001b[1m Total params: \u001b[0m\u001b[38;5;34m518,689\u001b[0m (1.98 MB)\n"
      ]
     },
     "metadata": {},
     "output_type": "display_data"
    },
    {
     "data": {
      "text/html": [
       "<pre style=\"white-space:pre;overflow-x:auto;line-height:normal;font-family:Menlo,'DejaVu Sans Mono',consolas,'Courier New',monospace\"><span style=\"font-weight: bold\"> Trainable params: </span><span style=\"color: #00af00; text-decoration-color: #00af00\">518,689</span> (1.98 MB)\n",
       "</pre>\n"
      ],
      "text/plain": [
       "\u001b[1m Trainable params: \u001b[0m\u001b[38;5;34m518,689\u001b[0m (1.98 MB)\n"
      ]
     },
     "metadata": {},
     "output_type": "display_data"
    },
    {
     "data": {
      "text/html": [
       "<pre style=\"white-space:pre;overflow-x:auto;line-height:normal;font-family:Menlo,'DejaVu Sans Mono',consolas,'Courier New',monospace\"><span style=\"font-weight: bold\"> Non-trainable params: </span><span style=\"color: #00af00; text-decoration-color: #00af00\">0</span> (0.00 B)\n",
       "</pre>\n"
      ],
      "text/plain": [
       "\u001b[1m Non-trainable params: \u001b[0m\u001b[38;5;34m0\u001b[0m (0.00 B)\n"
      ]
     },
     "metadata": {},
     "output_type": "display_data"
    }
   ],
   "source": [
    "# convert to bi-lstm model\n",
    "model = tf.keras.Sequential([\n",
    "    tf.keras.layers.Embedding(vocab_size, 8, embeddings_initializer=tf.keras.initializers.Constant(embedding_matrix), \n",
    "              input_shape=(max_length,), trainable=False),\n",
    "    tf.keras.layers.Conv1D(128, 5, activation='relu', padding='same'),\n",
    "    tf.keras.layers.MaxPooling1D(pool_size=2),\n",
    "    tf.keras.layers.LSTM(32, return_sequences=True),  # Menambahkan LSTM layer\n",
    "    tf.keras.layers.Flatten(),\n",
    "    tf.keras.layers.Dense(16, activation='relu'),\n",
    "    tf.keras.layers.Dropout(0.5),\n",
    "    tf.keras.layers.Dense(1, activation='sigmoid')\n",
    "])\n",
    "\n",
    "model.compile(loss='binary_crossentropy',optimizer='adam',metrics=['accuracy'])\n",
    "\n",
    "model.summary()"
   ]
  },
  {
   "cell_type": "code",
   "execution_count": 31,
   "metadata": {},
   "outputs": [
    {
     "name": "stdout",
     "output_type": "stream",
     "text": [
      "Layer Name: embedding_3\n",
      "Weights Shape (Tensor 0): (60000, 8)\n",
      "Weights (Tensor 0):\n",
      "[[ 0.          0.          0.         ...  0.          0.\n",
      "   0.        ]\n",
      " [ 0.          0.          0.         ...  0.          0.\n",
      "   0.        ]\n",
      " [-4.4744043  -0.42103228  4.646601   ... -3.121641    2.9107027\n",
      "  -1.9472959 ]\n",
      " ...\n",
      " [ 0.          0.          0.         ...  0.          0.\n",
      "   0.        ]\n",
      " [ 0.          0.          0.         ...  0.          0.\n",
      "   0.        ]\n",
      " [ 0.          0.          0.         ...  0.          0.\n",
      "   0.        ]]\n",
      "Layer Name: conv1d_3\n",
      "Weights Shape (Tensor 0): (5, 8, 128)\n",
      "Weights (Tensor 0):\n",
      "[[[-0.03082108  0.08012599 -0.06797546 ...  0.0715729   0.01571564\n",
      "   -0.06595223]\n",
      "  [-0.02378637  0.07419519 -0.04313168 ...  0.03770284  0.04848985\n",
      "   -0.07016377]\n",
      "  [ 0.05982801 -0.02333717 -0.03958452 ...  0.00876881 -0.06586374\n",
      "   -0.09284282]\n",
      "  ...\n",
      "  [ 0.03319693 -0.00037338  0.04884905 ...  0.05590568 -0.02597812\n",
      "   -0.06397669]\n",
      "  [-0.07219036 -0.08860324  0.08578107 ...  0.07694596  0.0033546\n",
      "    0.08479536]\n",
      "  [-0.03067575 -0.08902018  0.04935679 ...  0.03714605  0.08499669\n",
      "    0.02853434]]\n",
      "\n",
      " [[-0.07930737  0.05143246  0.03761353 ...  0.03191684  0.01279893\n",
      "    0.01982118]\n",
      "  [-0.06042835  0.04420252  0.01116269 ...  0.07059123  0.01972242\n",
      "    0.0188898 ]\n",
      "  [-0.00203156 -0.03680904  0.03076093 ...  0.05918275 -0.06140931\n",
      "    0.04435833]\n",
      "  ...\n",
      "  [ 0.06602135  0.07143463 -0.000173   ... -0.06267892  0.02490268\n",
      "    0.02290171]\n",
      "  [-0.05629024  0.02391309 -0.04796555 ...  0.05848889 -0.0219858\n",
      "    0.08184604]\n",
      "  [ 0.00134452  0.09392799 -0.08547163 ...  0.07669179 -0.07337289\n",
      "   -0.03587774]]\n",
      "\n",
      " [[-0.0740734   0.05715324  0.01171868 ...  0.04065831  0.01284007\n",
      "   -0.06850229]\n",
      "  [ 0.0072244  -0.07339768  0.05707009 ... -0.07364296 -0.08264968\n",
      "   -0.07200547]\n",
      "  [-0.05250129 -0.04466313 -0.09226598 ...  0.04973027 -0.03732581\n",
      "    0.05412459]\n",
      "  ...\n",
      "  [-0.02983698 -0.06206947 -0.01008074 ...  0.05557773 -0.06908612\n",
      "   -0.05241433]\n",
      "  [-0.0054884   0.00035875  0.08161794 ...  0.02332223  0.08033183\n",
      "   -0.07606921]\n",
      "  [-0.05395349 -0.04592861 -0.07276037 ... -0.00355527 -0.04622813\n",
      "   -0.09192671]]\n",
      "\n",
      " [[-0.08511923  0.07485975  0.07754862 ...  0.01807236 -0.05275669\n",
      "    0.07731181]\n",
      "  [-0.01027135  0.03520095 -0.03924514 ...  0.08930477  0.06713122\n",
      "   -0.07726539]\n",
      "  [ 0.07227479  0.03257261  0.02843345 ... -0.01424284 -0.08760637\n",
      "    0.05360344]\n",
      "  ...\n",
      "  [ 0.07958212  0.07495099 -0.02082175 ...  0.01002645 -0.01164214\n",
      "    0.01165376]\n",
      "  [-0.02008259 -0.04035255  0.02887757 ... -0.08456168  0.0234424\n",
      "    0.01971859]\n",
      "  [ 0.02158938 -0.066018    0.0706308  ... -0.07249159  0.00842524\n",
      "   -0.08463202]]\n",
      "\n",
      " [[-0.07011219  0.05563442  0.07292095 ... -0.07915322  0.09252994\n",
      "    0.0561107 ]\n",
      "  [-0.01808017 -0.03898004  0.06183027 ... -0.07804937 -0.0074713\n",
      "   -0.01348529]\n",
      "  [ 0.00259177 -0.05187935 -0.02532956 ...  0.03408176  0.06467451\n",
      "    0.07257499]\n",
      "  ...\n",
      "  [ 0.03054336  0.05702382  0.02864916 ... -0.02860939  0.06080195\n",
      "   -0.07267485]\n",
      "  [ 0.00291932 -0.0534454  -0.02106174 ...  0.08596316  0.01942364\n",
      "    0.08184205]\n",
      "  [-0.06106039 -0.05846059 -0.00353478 ...  0.04822843  0.01456482\n",
      "    0.079842  ]]]\n",
      "Weights Shape (Tensor 1): (128,)\n",
      "Weights (Tensor 1):\n",
      "[0. 0. 0. 0. 0. 0. 0. 0. 0. 0. 0. 0. 0. 0. 0. 0. 0. 0. 0. 0. 0. 0. 0. 0.\n",
      " 0. 0. 0. 0. 0. 0. 0. 0. 0. 0. 0. 0. 0. 0. 0. 0. 0. 0. 0. 0. 0. 0. 0. 0.\n",
      " 0. 0. 0. 0. 0. 0. 0. 0. 0. 0. 0. 0. 0. 0. 0. 0. 0. 0. 0. 0. 0. 0. 0. 0.\n",
      " 0. 0. 0. 0. 0. 0. 0. 0. 0. 0. 0. 0. 0. 0. 0. 0. 0. 0. 0. 0. 0. 0. 0. 0.\n",
      " 0. 0. 0. 0. 0. 0. 0. 0. 0. 0. 0. 0. 0. 0. 0. 0. 0. 0. 0. 0. 0. 0. 0. 0.\n",
      " 0. 0. 0. 0. 0. 0. 0. 0.]\n",
      "Layer Name: lstm_3\n",
      "Weights Shape (Tensor 0): (128, 128)\n",
      "Weights (Tensor 0):\n",
      "[[ 0.14371617 -0.05371755 -0.07664427 ...  0.10890509  0.103999\n",
      "   0.03105423]\n",
      " [ 0.00145902  0.0400131   0.01779883 ... -0.03469399  0.0559579\n",
      "  -0.02865046]\n",
      " [ 0.15042426 -0.10757264  0.04609112 ...  0.0716349  -0.00899836\n",
      "   0.08232833]\n",
      " ...\n",
      " [-0.0199918   0.03856258 -0.12585805 ...  0.13464428 -0.13623913\n",
      "  -0.11394285]\n",
      " [-0.07820947 -0.0647107   0.0170597  ...  0.02750088  0.00119393\n",
      "   0.13187729]\n",
      " [ 0.07595836  0.12006809 -0.08970632 ...  0.14458846  0.12625237\n",
      "   0.06907254]]\n",
      "Weights Shape (Tensor 1): (32, 128)\n",
      "Weights (Tensor 1):\n",
      "[[ 0.03307426 -0.11637732 -0.0969435  ... -0.01045662  0.07692354\n",
      "  -0.11643715]\n",
      " [-0.10207593 -0.14208727 -0.1040661  ... -0.1601802  -0.1409098\n",
      "   0.1320036 ]\n",
      " [-0.03062993 -0.04161973 -0.1026184  ... -0.11876515  0.11947538\n",
      "   0.10036653]\n",
      " ...\n",
      " [-0.04477027  0.11861476 -0.02385588 ...  0.03438313  0.03657242\n",
      "  -0.10076164]\n",
      " [-0.01186189 -0.09584266 -0.11015569 ...  0.03929592 -0.16144866\n",
      "  -0.04492681]\n",
      " [ 0.02775959  0.01150772  0.10912384 ...  0.10179543  0.08786584\n",
      "   0.04063908]]\n",
      "Weights Shape (Tensor 2): (128,)\n",
      "Weights (Tensor 2):\n",
      "[0. 0. 0. 0. 0. 0. 0. 0. 0. 0. 0. 0. 0. 0. 0. 0. 0. 0. 0. 0. 0. 0. 0. 0.\n",
      " 0. 0. 0. 0. 0. 0. 0. 0. 1. 1. 1. 1. 1. 1. 1. 1. 1. 1. 1. 1. 1. 1. 1. 1.\n",
      " 1. 1. 1. 1. 1. 1. 1. 1. 1. 1. 1. 1. 1. 1. 1. 1. 0. 0. 0. 0. 0. 0. 0. 0.\n",
      " 0. 0. 0. 0. 0. 0. 0. 0. 0. 0. 0. 0. 0. 0. 0. 0. 0. 0. 0. 0. 0. 0. 0. 0.\n",
      " 0. 0. 0. 0. 0. 0. 0. 0. 0. 0. 0. 0. 0. 0. 0. 0. 0. 0. 0. 0. 0. 0. 0. 0.\n",
      " 0. 0. 0. 0. 0. 0. 0. 0.]\n",
      "Layer Name: dense_6\n",
      "Weights Shape (Tensor 0): (32, 16)\n",
      "Weights (Tensor 0):\n",
      "[[ 0.29790983 -0.19437131 -0.25321347  0.3231093  -0.2306332   0.2698864\n",
      "   0.23092648  0.07013875 -0.12874109  0.31903514  0.19154671 -0.20745412\n",
      "  -0.03627613  0.0232074   0.19398138  0.26455548]\n",
      " [ 0.2360911  -0.05038285  0.30181566  0.15210143 -0.11165155 -0.02264029\n",
      "   0.34807798  0.06842592 -0.270903    0.29787782  0.17484811 -0.1592409\n",
      "  -0.23049487 -0.26536667 -0.1004613  -0.15626736]\n",
      " [ 0.05250916  0.13424066  0.1421211  -0.09694576  0.2913433   0.2490752\n",
      "  -0.06608635  0.19183746 -0.21374387  0.32027522 -0.13324364 -0.11446916\n",
      "   0.15052149 -0.15651476 -0.00389135  0.09962401]\n",
      " [-0.24059883 -0.25834778  0.0160695   0.17926636 -0.10795274  0.1899974\n",
      "  -0.00564945 -0.17506705 -0.24009088  0.08302644 -0.04296491  0.26899508\n",
      "  -0.1629913   0.28450343  0.16920099 -0.2237175 ]\n",
      " [-0.06158641  0.11036617 -0.25517142  0.1215784   0.20021829  0.24282166\n",
      "   0.21616587 -0.29334643 -0.02522799 -0.12650014 -0.16415253 -0.3438693\n",
      "   0.34828106 -0.22432601 -0.27973655 -0.2793983 ]\n",
      " [-0.18198773  0.20427695  0.23353478 -0.12568502 -0.16638277  0.24773493\n",
      "  -0.06172523 -0.1098824   0.18019387 -0.0397369   0.06928799 -0.17582123\n",
      "   0.05600759 -0.01539987  0.1686019  -0.00641206]\n",
      " [ 0.25131324  0.1013791  -0.10273984 -0.03714401 -0.01331487 -0.07830369\n",
      "  -0.06403792  0.04573631  0.17798874  0.30633953 -0.02207661 -0.13975145\n",
      "   0.09336302  0.33743796  0.15302333 -0.3193406 ]\n",
      " [ 0.20577273 -0.13510121 -0.04507521  0.10177478 -0.0805181  -0.10413365\n",
      "   0.05614009 -0.02277145  0.15605083  0.33300117  0.26778707  0.23966762\n",
      "   0.26802555  0.17233172 -0.06096515 -0.25154948]\n",
      " [ 0.25931576  0.05385035  0.17450735 -0.27894267 -0.32851917 -0.22913244\n",
      "   0.28408524 -0.33497766 -0.02342597  0.12313506  0.25417683  0.22459784\n",
      "   0.03637558 -0.2307089   0.08193743  0.03640947]\n",
      " [-0.10165626 -0.24264994 -0.12812237  0.12287644 -0.2684477  -0.30777323\n",
      "   0.3496478  -0.30141443  0.25180396 -0.03990656 -0.04823202 -0.27155635\n",
      "   0.05027285  0.03470111  0.03391725  0.2648085 ]\n",
      " [-0.18915042  0.25064626  0.18438706 -0.13938425 -0.10006294  0.27383086\n",
      "  -0.31875145 -0.00943416 -0.0075216   0.16858324  0.12386402 -0.24569893\n",
      "  -0.2874803   0.11435056 -0.13012342 -0.3328576 ]\n",
      " [ 0.11243853 -0.00860336 -0.00135452 -0.16409048  0.02072966 -0.15627739\n",
      "  -0.07726488  0.161499   -0.33725655 -0.02059236 -0.21182811 -0.29382986\n",
      "  -0.18912362 -0.07803404 -0.12194963  0.28471646]\n",
      " [ 0.17459771 -0.20419474  0.1874254   0.01171386 -0.16908355 -0.15785688\n",
      "  -0.33628944 -0.18261808 -0.04343477 -0.26950514 -0.05879495 -0.22293238\n",
      "  -0.12397546  0.21069434  0.07176092 -0.05310899]\n",
      " [ 0.12268466  0.22289965  0.13056073 -0.12353073 -0.10785033 -0.03819144\n",
      "   0.2666841  -0.144584   -0.02423739 -0.21913224  0.28427777 -0.33406544\n",
      "   0.24539271  0.02952471  0.21732071  0.09524059]\n",
      " [-0.28155485 -0.30137533 -0.06976399 -0.05217183  0.04823834  0.06942606\n",
      "  -0.18307959 -0.09113178  0.33859167  0.03837579 -0.2678359  -0.2414673\n",
      "  -0.24805105  0.32829526  0.04476407 -0.1400367 ]\n",
      " [-0.28461498 -0.23065445 -0.30684042 -0.20110208  0.10633743 -0.2624383\n",
      "  -0.0612762  -0.22589682  0.04912391  0.1840615  -0.3049808   0.00944865\n",
      "  -0.3109764   0.13393813 -0.16088295 -0.10499859]\n",
      " [ 0.13445216 -0.26534224  0.03101149  0.09033856  0.12738827  0.23763916\n",
      "   0.20940533 -0.31965154 -0.09002718  0.15045801  0.10475859  0.15749153\n",
      "   0.2887877  -0.12158886  0.19572565 -0.10218284]\n",
      " [-0.01960072  0.13944393 -0.32122347 -0.02466744  0.12834272  0.23698053\n",
      "   0.26030764 -0.10115993 -0.33448142  0.2245312  -0.32008338 -0.09564486\n",
      "   0.14436737  0.20825323  0.01005945 -0.08043742]\n",
      " [-0.3116172  -0.19454984 -0.1690655  -0.0731214   0.01048756 -0.32007134\n",
      "  -0.24102989 -0.05668935  0.13861912  0.20732507 -0.07129028  0.02806297\n",
      "   0.16127905  0.21111515  0.1611034   0.01298755]\n",
      " [-0.19921398  0.15829566 -0.13292786 -0.29163855  0.2193965  -0.21362762\n",
      "  -0.276155   -0.05397856  0.25259623 -0.01907912 -0.1823888  -0.19065009\n",
      "  -0.18819672  0.05107078 -0.2755813   0.14663324]\n",
      " [ 0.0311251   0.00878036  0.13377267 -0.1252858   0.05548388  0.34836814\n",
      "  -0.26544708  0.21043828  0.24314854  0.28422526 -0.23152569  0.24951974\n",
      "   0.12071556 -0.0904983   0.23028627  0.14501315]\n",
      " [-0.05287912  0.00658992 -0.18266587  0.17514876  0.20761624 -0.21481675\n",
      "  -0.16509755  0.23266706 -0.04522786  0.12412855  0.34974423  0.29305974\n",
      "  -0.08425012 -0.18451646  0.24979416  0.257641  ]\n",
      " [-0.13974673  0.20215204  0.25890175 -0.23684505  0.2629852  -0.19271974\n",
      "  -0.25566912  0.11089349  0.19656846 -0.2487292   0.28418306  0.15029863\n",
      "   0.3514339   0.11240709 -0.00388089 -0.13095261]\n",
      " [ 0.08184943 -0.20222758 -0.04664332 -0.12145945 -0.18917057  0.03553873\n",
      "   0.07577211  0.31628814 -0.04969174  0.2817597  -0.2192876   0.16917655\n",
      "   0.27118793  0.22261307  0.06746522 -0.31578964]\n",
      " [-0.15497455 -0.2768591   0.25915954 -0.05969739  0.04593879 -0.06663391\n",
      "   0.06173131 -0.12419361  0.22783694  0.34172538 -0.14262004  0.25970003\n",
      "   0.07993656 -0.16444427  0.03590658  0.13130379]\n",
      " [ 0.10254201  0.31325504  0.16343412 -0.1125776  -0.28753424 -0.3497535\n",
      "  -0.23354545  0.27609447 -0.16596383 -0.02201667 -0.24062166  0.20645514\n",
      "  -0.21121109  0.01311702  0.26778886  0.167222  ]\n",
      " [-0.14894225  0.23657498 -0.11616851 -0.01669455  0.34762254  0.13183424\n",
      "   0.07808328  0.31107453  0.12448636  0.14490837  0.16667357 -0.24804473\n",
      "   0.07380822 -0.3502265  -0.34464538  0.30714884]\n",
      " [-0.14146042  0.09113818 -0.17399754  0.12218463  0.03933641 -0.08882365\n",
      "   0.13392061 -0.06504667 -0.27674177  0.16217616  0.20160684  0.21850047\n",
      "   0.07527098  0.01526332  0.00816706 -0.18116756]\n",
      " [-0.30573255 -0.18324108 -0.3122021  -0.27707002 -0.06817245  0.1239742\n",
      "   0.08755687  0.14846179  0.3154941   0.00049269  0.10354722  0.10062888\n",
      "   0.0759621   0.23071131  0.32263353 -0.01459503]\n",
      " [-0.31451336 -0.2148567   0.09938109 -0.09627327 -0.11026795  0.19471183\n",
      "  -0.07543182  0.18044826 -0.34111854 -0.3506787  -0.01747528  0.17946467\n",
      "  -0.08417323  0.08439484  0.042862   -0.27719966]\n",
      " [ 0.0737907   0.22643831  0.18409994  0.13971165  0.19148931  0.35326853\n",
      "  -0.00884217  0.02024263 -0.2649998  -0.17884272  0.13300079 -0.24480744\n",
      "   0.342891   -0.35025707  0.24570224  0.0385153 ]\n",
      " [-0.21941328 -0.07760566 -0.19767891  0.23050353  0.23506024  0.02300671\n",
      "   0.2714527   0.02755576 -0.0663501   0.04037508 -0.1608413  -0.00900888\n",
      "   0.12762994 -0.16142866 -0.03209534  0.02866971]]\n",
      "Weights Shape (Tensor 1): (16,)\n",
      "Weights (Tensor 1):\n",
      "[0. 0. 0. 0. 0. 0. 0. 0. 0. 0. 0. 0. 0. 0. 0. 0.]\n",
      "Layer Name: dense_7\n",
      "Weights Shape (Tensor 0): (16, 1)\n",
      "Weights (Tensor 0):\n",
      "[[-0.11440814]\n",
      " [-0.58215326]\n",
      " [-0.09054577]\n",
      " [ 0.42565262]\n",
      " [ 0.01601672]\n",
      " [ 0.5897362 ]\n",
      " [-0.11104232]\n",
      " [-0.32329318]\n",
      " [ 0.03628224]\n",
      " [-0.09625506]\n",
      " [ 0.24396616]\n",
      " [-0.04675043]\n",
      " [ 0.3912719 ]\n",
      " [-0.11592838]\n",
      " [-0.48687467]\n",
      " [-0.50928634]]\n",
      "Weights Shape (Tensor 1): (1,)\n",
      "Weights (Tensor 1):\n",
      "[0.]\n"
     ]
    }
   ],
   "source": [
    "# Looping untuk mendapatkan bobot dari setiap layer\n",
    "for layer in model.layers:\n",
    "    # Mengecek apakah layer memiliki bobot\n",
    "    if layer.weights:\n",
    "        print(\"Layer Name:\", layer.name)\n",
    "        # Mendapatkan bobot dan bias dari layer\n",
    "        weights = layer.get_weights()\n",
    "        for i, w in enumerate(weights):\n",
    "            print(\"Weights Shape (Tensor {}):\".format(i), w.shape)\n",
    "            print(\"Weights (Tensor {}):\".format(i))\n",
    "            print(w)\n"
   ]
  },
  {
   "cell_type": "markdown",
   "metadata": {},
   "source": [
    "## Train Model"
   ]
  },
  {
   "cell_type": "code",
   "execution_count": 34,
   "metadata": {},
   "outputs": [
    {
     "name": "stdout",
     "output_type": "stream",
     "text": [
      "Epoch 1/20\n",
      "\u001b[1m290/290\u001b[0m \u001b[32m━━━━━━━━━━━━━━━━━━━━\u001b[0m\u001b[37m\u001b[0m \u001b[1m28s\u001b[0m 71ms/step - accuracy: 0.6834 - loss: 0.5917 - val_accuracy: 0.7862 - val_loss: 0.4707 - learning_rate: 1.0000e-04\n",
      "Epoch 2/20\n",
      "\u001b[1m290/290\u001b[0m \u001b[32m━━━━━━━━━━━━━━━━━━━━\u001b[0m\u001b[37m\u001b[0m \u001b[1m10s\u001b[0m 36ms/step - accuracy: 0.7973 - loss: 0.4786 - val_accuracy: 0.7893 - val_loss: 0.4589 - learning_rate: 1.1220e-04\n",
      "Epoch 3/20\n",
      "\u001b[1m290/290\u001b[0m \u001b[32m━━━━━━━━━━━━━━━━━━━━\u001b[0m\u001b[37m\u001b[0m \u001b[1m10s\u001b[0m 36ms/step - accuracy: 0.7999 - loss: 0.4699 - val_accuracy: 0.7910 - val_loss: 0.4557 - learning_rate: 1.2589e-04\n",
      "Epoch 4/20\n",
      "\u001b[1m290/290\u001b[0m \u001b[32m━━━━━━━━━━━━━━━━━━━━\u001b[0m\u001b[37m\u001b[0m \u001b[1m10s\u001b[0m 35ms/step - accuracy: 0.7980 - loss: 0.4651 - val_accuracy: 0.7976 - val_loss: 0.4440 - learning_rate: 1.4125e-04\n",
      "Epoch 5/20\n",
      "\u001b[1m290/290\u001b[0m \u001b[32m━━━━━━━━━━━━━━━━━━━━\u001b[0m\u001b[37m\u001b[0m \u001b[1m13s\u001b[0m 46ms/step - accuracy: 0.8081 - loss: 0.4538 - val_accuracy: 0.7983 - val_loss: 0.4387 - learning_rate: 1.5849e-04\n",
      "Epoch 6/20\n",
      "\u001b[1m290/290\u001b[0m \u001b[32m━━━━━━━━━━━━━━━━━━━━\u001b[0m\u001b[37m\u001b[0m \u001b[1m22s\u001b[0m 76ms/step - accuracy: 0.8077 - loss: 0.4449 - val_accuracy: 0.8083 - val_loss: 0.4255 - learning_rate: 1.7783e-04\n",
      "Epoch 7/20\n",
      "\u001b[1m290/290\u001b[0m \u001b[32m━━━━━━━━━━━━━━━━━━━━\u001b[0m\u001b[37m\u001b[0m \u001b[1m22s\u001b[0m 77ms/step - accuracy: 0.8219 - loss: 0.4213 - val_accuracy: 0.8075 - val_loss: 0.4214 - learning_rate: 1.9953e-04\n",
      "Epoch 8/20\n",
      "\u001b[1m290/290\u001b[0m \u001b[32m━━━━━━━━━━━━━━━━━━━━\u001b[0m\u001b[37m\u001b[0m \u001b[1m22s\u001b[0m 76ms/step - accuracy: 0.8234 - loss: 0.4184 - val_accuracy: 0.8150 - val_loss: 0.4186 - learning_rate: 2.2387e-04\n",
      "Epoch 9/20\n",
      "\u001b[1m290/290\u001b[0m \u001b[32m━━━━━━━━━━━━━━━━━━━━\u001b[0m\u001b[37m\u001b[0m \u001b[1m22s\u001b[0m 77ms/step - accuracy: 0.8312 - loss: 0.4039 - val_accuracy: 0.8160 - val_loss: 0.4018 - learning_rate: 2.5119e-04\n",
      "Epoch 10/20\n",
      "\u001b[1m290/290\u001b[0m \u001b[32m━━━━━━━━━━━━━━━━━━━━\u001b[0m\u001b[37m\u001b[0m \u001b[1m22s\u001b[0m 77ms/step - accuracy: 0.8402 - loss: 0.3921 - val_accuracy: 0.8231 - val_loss: 0.3986 - learning_rate: 2.8184e-04\n",
      "Epoch 11/20\n",
      "\u001b[1m290/290\u001b[0m \u001b[32m━━━━━━━━━━━━━━━━━━━━\u001b[0m\u001b[37m\u001b[0m \u001b[1m23s\u001b[0m 78ms/step - accuracy: 0.8442 - loss: 0.3792 - val_accuracy: 0.8226 - val_loss: 0.4001 - learning_rate: 3.1623e-04\n",
      "Epoch 12/20\n",
      "\u001b[1m290/290\u001b[0m \u001b[32m━━━━━━━━━━━━━━━━━━━━\u001b[0m\u001b[37m\u001b[0m \u001b[1m25s\u001b[0m 85ms/step - accuracy: 0.8521 - loss: 0.3645 - val_accuracy: 0.8313 - val_loss: 0.3915 - learning_rate: 3.5481e-04\n",
      "Epoch 13/20\n",
      "\u001b[1m290/290\u001b[0m \u001b[32m━━━━━━━━━━━━━━━━━━━━\u001b[0m\u001b[37m\u001b[0m \u001b[1m25s\u001b[0m 86ms/step - accuracy: 0.8622 - loss: 0.3477 - val_accuracy: 0.8240 - val_loss: 0.4157 - learning_rate: 3.9811e-04\n",
      "Epoch 14/20\n",
      "\u001b[1m290/290\u001b[0m \u001b[32m━━━━━━━━━━━━━━━━━━━━\u001b[0m\u001b[37m\u001b[0m \u001b[1m25s\u001b[0m 85ms/step - accuracy: 0.8697 - loss: 0.3376 - val_accuracy: 0.8398 - val_loss: 0.3858 - learning_rate: 4.4668e-04\n",
      "Epoch 15/20\n",
      "\u001b[1m290/290\u001b[0m \u001b[32m━━━━━━━━━━━━━━━━━━━━\u001b[0m\u001b[37m\u001b[0m \u001b[1m24s\u001b[0m 84ms/step - accuracy: 0.8802 - loss: 0.3113 - val_accuracy: 0.8350 - val_loss: 0.3849 - learning_rate: 5.0119e-04\n",
      "Epoch 16/20\n",
      "\u001b[1m290/290\u001b[0m \u001b[32m━━━━━━━━━━━━━━━━━━━━\u001b[0m\u001b[37m\u001b[0m \u001b[1m24s\u001b[0m 83ms/step - accuracy: 0.8908 - loss: 0.2906 - val_accuracy: 0.8447 - val_loss: 0.3748 - learning_rate: 5.6234e-04\n",
      "Epoch 17/20\n",
      "\u001b[1m290/290\u001b[0m \u001b[32m━━━━━━━━━━━━━━━━━━━━\u001b[0m\u001b[37m\u001b[0m \u001b[1m23s\u001b[0m 81ms/step - accuracy: 0.9025 - loss: 0.2559 - val_accuracy: 0.8490 - val_loss: 0.3774 - learning_rate: 6.3096e-04\n",
      "Epoch 18/20\n",
      "\u001b[1m290/290\u001b[0m \u001b[32m━━━━━━━━━━━━━━━━━━━━\u001b[0m\u001b[37m\u001b[0m \u001b[1m24s\u001b[0m 81ms/step - accuracy: 0.9061 - loss: 0.2424 - val_accuracy: 0.8522 - val_loss: 0.4153 - learning_rate: 7.0795e-04\n",
      "Epoch 19/20\n",
      "\u001b[1m290/290\u001b[0m \u001b[32m━━━━━━━━━━━━━━━━━━━━\u001b[0m\u001b[37m\u001b[0m \u001b[1m23s\u001b[0m 79ms/step - accuracy: 0.9213 - loss: 0.2070 - val_accuracy: 0.8471 - val_loss: 0.4416 - learning_rate: 7.9433e-04\n"
     ]
    }
   ],
   "source": [
    "num_epochs = 20\n",
    "lr_schedule = tf.keras.callbacks.LearningRateScheduler(lambda epoch: 1e-4 * 10 ** (epoch / 20))\n",
    "early_stopping = tf.keras.callbacks.EarlyStopping(monitor='val_loss', patience=3)\n",
    "\n",
    "history = model.fit(train_padded, y_train, batch_size=128, epochs=num_epochs, validation_data=(valid_padded, y_valid), callbacks=[lr_schedule, early_stopping])\n"
   ]
  },
  {
   "cell_type": "code",
   "execution_count": 35,
   "metadata": {},
   "outputs": [
    {
     "data": {
      "image/png": "[encoded data removed]",
      "text/plain": [
       "<Figure size 640x480 with 1 Axes>"
      ]
     },
     "metadata": {},
     "output_type": "display_data"
    }
   ],
   "source": [
    "# Plot the training history\n",
    "def plot_graphs(history, string):\n",
    "  plt.plot(history.history[string])\n",
    "  plt.plot(history.history['val_'+string])\n",
    "  plt.xlabel(\"Epochs\")\n",
    "  plt.ylabel(string)\n",
    "  plt.legend([string, 'val_'+string])\n",
    "  plt.show()\n",
    "\n",
    "plot_graphs(history, \"accuracy\")"
   ]
  },
  {
   "cell_type": "code",
   "execution_count": 36,
   "metadata": {},
   "outputs": [
    {
     "data": {
      "image/png": "[encoded data removed]",
      "text/plain": [
       "<Figure size 640x480 with 1 Axes>"
      ]
     },
     "metadata": {},
     "output_type": "display_data"
    }
   ],
   "source": [
    "# Plot the training history\n",
    "def plot_graphs(history, string):\n",
    "  plt.plot(history.history[string])\n",
    "  plt.plot(history.history['val_'+string])\n",
    "  plt.xlabel(\"Epochs\")\n",
    "  plt.ylabel(string)\n",
    "  plt.legend([string, 'val_'+string])\n",
    "  plt.show()\n",
    "\n",
    "plot_graphs(history, \"loss\")"
   ]
  },
  {
   "cell_type": "code",
   "execution_count": 37,
   "metadata": {},
   "outputs": [
    {
     "name": "stdout",
     "output_type": "stream",
     "text": [
      "\u001b[1m1/1\u001b[0m \u001b[32m━━━━━━━━━━━━━━━━━━━━\u001b[0m\u001b[37m\u001b[0m \u001b[1m2s\u001b[0m 2s/step\n",
      "[[0.9997153]]\n",
      "\u001b[1m1/1\u001b[0m \u001b[32m━━━━━━━━━━━━━━━━━━━━\u001b[0m\u001b[37m\u001b[0m \u001b[1m0s\u001b[0m 95ms/step\n",
      "[[0.8635809]]\n",
      "\u001b[1m1/1\u001b[0m \u001b[32m━━━━━━━━━━━━━━━━━━━━\u001b[0m\u001b[37m\u001b[0m \u001b[1m0s\u001b[0m 70ms/step\n",
      "[[0.990931]]\n",
      "\u001b[1m1/1\u001b[0m \u001b[32m━━━━━━━━━━━━━━━━━━━━\u001b[0m\u001b[37m\u001b[0m \u001b[1m0s\u001b[0m 74ms/step\n",
      "[[0.96541905]]\n",
      "\u001b[1m1/1\u001b[0m \u001b[32m━━━━━━━━━━━━━━━━━━━━\u001b[0m\u001b[37m\u001b[0m \u001b[1m0s\u001b[0m 35ms/step\n",
      "[[0.97112006]]\n",
      "\u001b[1m1/1\u001b[0m \u001b[32m━━━━━━━━━━━━━━━━━━━━\u001b[0m\u001b[37m\u001b[0m \u001b[1m0s\u001b[0m 38ms/step\n",
      "[[0.99709535]]\n",
      "\u001b[1m1/1\u001b[0m \u001b[32m━━━━━━━━━━━━━━━━━━━━\u001b[0m\u001b[37m\u001b[0m \u001b[1m0s\u001b[0m 64ms/step\n",
      "[[0.99789774]]\n",
      "\u001b[1m1/1\u001b[0m \u001b[32m━━━━━━━━━━━━━━━━━━━━\u001b[0m\u001b[37m\u001b[0m \u001b[1m0s\u001b[0m 29ms/step\n",
      "[[0.9877429]]\n",
      "\u001b[1m1/1\u001b[0m \u001b[32m━━━━━━━━━━━━━━━━━━━━\u001b[0m\u001b[37m\u001b[0m \u001b[1m0s\u001b[0m 30ms/step\n",
      "[[0.9729209]]\n",
      "\u001b[1m1/1\u001b[0m \u001b[32m━━━━━━━━━━━━━━━━━━━━\u001b[0m\u001b[37m\u001b[0m \u001b[1m0s\u001b[0m 32ms/step\n",
      "[[0.9937556]]\n",
      "\u001b[1m1/1\u001b[0m \u001b[32m━━━━━━━━━━━━━━━━━━━━\u001b[0m\u001b[37m\u001b[0m \u001b[1m0s\u001b[0m 30ms/step\n",
      "[[0.9948295]]\n",
      "\u001b[1m1/1\u001b[0m \u001b[32m━━━━━━━━━━━━━━━━━━━━\u001b[0m\u001b[37m\u001b[0m \u001b[1m0s\u001b[0m 55ms/step\n",
      "[[0.8858951]]\n",
      "\u001b[1m1/1\u001b[0m \u001b[32m━━━━━━━━━━━━━━━━━━━━\u001b[0m\u001b[37m\u001b[0m \u001b[1m0s\u001b[0m 28ms/step\n",
      "[[0.28967544]]\n",
      "\u001b[1m1/1\u001b[0m \u001b[32m━━━━━━━━━━━━━━━━━━━━\u001b[0m\u001b[37m\u001b[0m \u001b[1m0s\u001b[0m 30ms/step\n",
      "[[0.68781954]]\n",
      "\u001b[1m1/1\u001b[0m \u001b[32m━━━━━━━━━━━━━━━━━━━━\u001b[0m\u001b[37m\u001b[0m \u001b[1m0s\u001b[0m 57ms/step\n",
      "[[0.8456745]]\n",
      "\u001b[1m1/1\u001b[0m \u001b[32m━━━━━━━━━━━━━━━━━━━━\u001b[0m\u001b[37m\u001b[0m \u001b[1m0s\u001b[0m 29ms/step\n",
      "[[0.9998559]]\n",
      "\u001b[1m1/1\u001b[0m \u001b[32m━━━━━━━━━━━━━━━━━━━━\u001b[0m\u001b[37m\u001b[0m \u001b[1m0s\u001b[0m 32ms/step\n",
      "[[0.0143356]]\n",
      "\u001b[1m1/1\u001b[0m \u001b[32m━━━━━━━━━━━━━━━━━━━━\u001b[0m\u001b[37m\u001b[0m \u001b[1m0s\u001b[0m 32ms/step\n",
      "[[0.14458217]]\n",
      "\u001b[1m1/1\u001b[0m \u001b[32m━━━━━━━━━━━━━━━━━━━━\u001b[0m\u001b[37m\u001b[0m \u001b[1m0s\u001b[0m 27ms/step\n",
      "[[0.59334326]]\n",
      "\u001b[1m1/1\u001b[0m \u001b[32m━━━━━━━━━━━━━━━━━━━━\u001b[0m\u001b[37m\u001b[0m \u001b[1m0s\u001b[0m 30ms/step\n",
      "[[0.9794971]]\n",
      "\u001b[1m1/1\u001b[0m \u001b[32m━━━━━━━━━━━━━━━━━━━━\u001b[0m\u001b[37m\u001b[0m \u001b[1m0s\u001b[0m 28ms/step\n",
      "[[0.02110946]]\n",
      "\u001b[1m1/1\u001b[0m \u001b[32m━━━━━━━━━━━━━━━━━━━━\u001b[0m\u001b[37m\u001b[0m \u001b[1m0s\u001b[0m 29ms/step\n",
      "[[0.99032813]]\n"
     ]
    },
    {
     "data": {
      "text/html": [
       "<div>\n",
       "<style scoped>\n",
       "    .dataframe tbody tr th:only-of-type {\n",
       "        vertical-align: middle;\n",
       "    }\n",
       "\n",
       "    .dataframe tbody tr th {\n",
       "        vertical-align: top;\n",
       "    }\n",
       "\n",
       "    .dataframe thead th {\n",
       "        text-align: right;\n",
       "    }\n",
       "</style>\n",
       "<table border=\"1\" class=\"dataframe\">\n",
       "  <thead>\n",
       "    <tr style=\"text-align: right;\">\n",
       "      <th></th>\n",
       "      <th>Teks</th>\n",
       "      <th>Label Sentimen</th>\n",
       "    </tr>\n",
       "  </thead>\n",
       "  <tbody>\n",
       "    <tr>\n",
       "      <th>0</th>\n",
       "      <td>Pada awalnya saya ragu dengan kemampuan perusa...</td>\n",
       "      <td>Positif</td>\n",
       "    </tr>\n",
       "    <tr>\n",
       "      <th>1</th>\n",
       "      <td>Film ini memulai dengan sangat membosankan dan...</td>\n",
       "      <td>Positif</td>\n",
       "    </tr>\n",
       "    <tr>\n",
       "      <th>2</th>\n",
       "      <td>Meskipun layanan pelanggan mereka sangat lamba...</td>\n",
       "      <td>Positif</td>\n",
       "    </tr>\n",
       "    <tr>\n",
       "      <th>3</th>\n",
       "      <td>Restoran ini memiliki makanan yang lezat, teta...</td>\n",
       "      <td>Positif</td>\n",
       "    </tr>\n",
       "    <tr>\n",
       "      <th>4</th>\n",
       "      <td>Saya mengalami banyak masalah dengan perangkat...</td>\n",
       "      <td>Positif</td>\n",
       "    </tr>\n",
       "    <tr>\n",
       "      <th>5</th>\n",
       "      <td>Aplikasi ini sering mengalami crash pada versi...</td>\n",
       "      <td>Positif</td>\n",
       "    </tr>\n",
       "    <tr>\n",
       "      <th>6</th>\n",
       "      <td>Hotel ini memiliki pemandangan yang luar biasa...</td>\n",
       "      <td>Positif</td>\n",
       "    </tr>\n",
       "    <tr>\n",
       "      <th>7</th>\n",
       "      <td>Buku ini dimulai dengan alur yang sangat lamba...</td>\n",
       "      <td>Positif</td>\n",
       "    </tr>\n",
       "    <tr>\n",
       "      <th>8</th>\n",
       "      <td>Konser ini awalnya terasa membosankan, tetapi ...</td>\n",
       "      <td>Positif</td>\n",
       "    </tr>\n",
       "    <tr>\n",
       "      <th>9</th>\n",
       "      <td>Saya awalnya kecewa dengan kualitas pakaian in...</td>\n",
       "      <td>Positif</td>\n",
       "    </tr>\n",
       "    <tr>\n",
       "      <th>10</th>\n",
       "      <td>Saya tidak masalah sama sekali gaji dipotong t...</td>\n",
       "      <td>Positif</td>\n",
       "    </tr>\n",
       "    <tr>\n",
       "      <th>11</th>\n",
       "      <td>Kebijakan pemerintah tentang kenaikan harga BB...</td>\n",
       "      <td>Positif</td>\n",
       "    </tr>\n",
       "    <tr>\n",
       "      <th>12</th>\n",
       "      <td>Reformasi pajak yang diusulkan akan sangat mem...</td>\n",
       "      <td>Negatif</td>\n",
       "    </tr>\n",
       "    <tr>\n",
       "      <th>13</th>\n",
       "      <td>Keputusan untuk memperpanjang masa jabatan pre...</td>\n",
       "      <td>Positif</td>\n",
       "    </tr>\n",
       "    <tr>\n",
       "      <th>14</th>\n",
       "      <td>Program bantuan sosial yang baru diluncurkan s...</td>\n",
       "      <td>Positif</td>\n",
       "    </tr>\n",
       "    <tr>\n",
       "      <th>15</th>\n",
       "      <td>Pemilihan umum kali ini sangat penting untuk m...</td>\n",
       "      <td>Positif</td>\n",
       "    </tr>\n",
       "    <tr>\n",
       "      <th>16</th>\n",
       "      <td>Banyak yang kecewa dengan hasil debat politik ...</td>\n",
       "      <td>Negatif</td>\n",
       "    </tr>\n",
       "    <tr>\n",
       "      <th>17</th>\n",
       "      <td>Tindakan korupsi yang dilakukan oleh pejabat t...</td>\n",
       "      <td>Negatif</td>\n",
       "    </tr>\n",
       "    <tr>\n",
       "      <th>18</th>\n",
       "      <td>Perubahan undang-undang ini sangat penting unt...</td>\n",
       "      <td>Positif</td>\n",
       "    </tr>\n",
       "    <tr>\n",
       "      <th>19</th>\n",
       "      <td>Diskusi tentang kebijakan luar negeri semakin ...</td>\n",
       "      <td>Positif</td>\n",
       "    </tr>\n",
       "    <tr>\n",
       "      <th>20</th>\n",
       "      <td>Partai oposisi mengkritik keras kebijakan ekon...</td>\n",
       "      <td>Negatif</td>\n",
       "    </tr>\n",
       "    <tr>\n",
       "      <th>21</th>\n",
       "      <td>Rencana pembangunan infrastruktur baru di wila...</td>\n",
       "      <td>Positif</td>\n",
       "    </tr>\n",
       "  </tbody>\n",
       "</table>\n",
       "</div>"
      ],
      "text/plain": [
       "                                                 Teks Label Sentimen\n",
       "0   Pada awalnya saya ragu dengan kemampuan perusa...        Positif\n",
       "1   Film ini memulai dengan sangat membosankan dan...        Positif\n",
       "2   Meskipun layanan pelanggan mereka sangat lamba...        Positif\n",
       "3   Restoran ini memiliki makanan yang lezat, teta...        Positif\n",
       "4   Saya mengalami banyak masalah dengan perangkat...        Positif\n",
       "5   Aplikasi ini sering mengalami crash pada versi...        Positif\n",
       "6   Hotel ini memiliki pemandangan yang luar biasa...        Positif\n",
       "7   Buku ini dimulai dengan alur yang sangat lamba...        Positif\n",
       "8   Konser ini awalnya terasa membosankan, tetapi ...        Positif\n",
       "9   Saya awalnya kecewa dengan kualitas pakaian in...        Positif\n",
       "10  Saya tidak masalah sama sekali gaji dipotong t...        Positif\n",
       "11  Kebijakan pemerintah tentang kenaikan harga BB...        Positif\n",
       "12  Reformasi pajak yang diusulkan akan sangat mem...        Negatif\n",
       "13  Keputusan untuk memperpanjang masa jabatan pre...        Positif\n",
       "14  Program bantuan sosial yang baru diluncurkan s...        Positif\n",
       "15  Pemilihan umum kali ini sangat penting untuk m...        Positif\n",
       "16  Banyak yang kecewa dengan hasil debat politik ...        Negatif\n",
       "17  Tindakan korupsi yang dilakukan oleh pejabat t...        Negatif\n",
       "18  Perubahan undang-undang ini sangat penting unt...        Positif\n",
       "19  Diskusi tentang kebijakan luar negeri semakin ...        Positif\n",
       "20  Partai oposisi mengkritik keras kebijakan ekon...        Negatif\n",
       "21  Rencana pembangunan infrastruktur baru di wila...        Positif"
      ]
     },
     "execution_count": 37,
     "metadata": {},
     "output_type": "execute_result"
    }
   ],
   "source": [
    "# Asumsi model dan tokenizer sudah didefinisikan\n",
    "def predict_sentiment(model, tokenizer, text):\n",
    "    # Tokenisasi teks\n",
    "    sample_seq = tokenizer.texts_to_sequences([text])\n",
    "    sample_padded = pad_sequences(sample_seq, maxlen=max_length, truncating=trunc_type, padding=\"post\")\n",
    "    \n",
    "    # Prediksi sentimen menggunakan model\n",
    "    prediction = model.predict(sample_padded)\n",
    "    print(prediction)\n",
    "    # Mengembalikan label sentimen berdasarkan output model\n",
    "    if prediction >= 0.5:\n",
    "        return \"Positif\"\n",
    "    else:\n",
    "        return \"Negatif\"\n",
    "\n",
    "# Kalimat contoh untuk pengujian\n",
    "test_sentences = [\n",
    "    \"Pada awalnya saya ragu dengan kemampuan perusahaan ini, namun setelah melihat kinerja mereka selama beberapa bulan terakhir, saya sangat puas dengan hasil yang mereka capai.\",\n",
    "    \"Film ini memulai dengan sangat membosankan dan lambat, tetapi akhir ceritanya sangat mengharukan dan membuat saya terkesan.\",\n",
    "    \"Meskipun layanan pelanggan mereka sangat lambat dan kurang responsif, kualitas produk yang mereka tawarkan sangatlah bagus.\",\n",
    "    \"Restoran ini memiliki makanan yang lezat, tetapi pelayanannya sangat buruk dan membuat pengalaman makan saya tidak menyenangkan.\",\n",
    "    \"Saya mengalami banyak masalah dengan perangkat ini di awal, namun setelah pembaruan terbaru, kinerjanya menjadi jauh lebih baik.\",\n",
    "    \"Aplikasi ini sering mengalami crash pada versi awal, tetapi sekarang setelah beberapa pembaruan, aplikasinya sangat stabil dan berguna.\",\n",
    "    \"Hotel ini memiliki pemandangan yang luar biasa dan staf yang ramah, meskipun kamarnya cukup kotor pada saat saya tiba.\",\n",
    "    \"Buku ini dimulai dengan alur yang sangat lambat, namun karakter dan ceritanya berkembang dengan sangat baik menjelang akhir.\",\n",
    "    \"Konser ini awalnya terasa membosankan, tetapi penampilan penutupnya sangat spektakuler dan membuat semuanya terbayar.\",\n",
    "    \"Saya awalnya kecewa dengan kualitas pakaian ini, tetapi setelah beberapa kali dicuci, kualitas bahannya ternyata sangat tahan lama.\",\n",
    "    \"Saya tidak masalah sama sekali gaji dipotong tiap bulan untuk BPJS Kesehatan. Semisal jarang pakai pun, anggap saja sedekah dan membantu sesama.  Tapi untuk TAPERA ini, jelas saya tidak ikhlas. Subsidi silang buat yang tidak mampu? Ah tidak juga rasanya.  Kebijakan aneh.\",\n",
    "    \"Kebijakan pemerintah tentang kenaikan harga BBM sangat memberatkan masyarakat kecil.\",\n",
    "    \"Reformasi pajak yang diusulkan akan sangat membantu meningkatkan perekonomian negara.\",\n",
    "    \"Keputusan untuk memperpanjang masa jabatan presiden sangat kontroversial dan memicu banyak protes.\",\n",
    "    \"Program bantuan sosial yang baru diluncurkan sangat membantu masyarakat miskin.\",\n",
    "    \"Pemilihan umum kali ini sangat penting untuk masa depan negara kita.\",\n",
    "    \"Banyak yang kecewa dengan hasil debat politik semalam, banyak janji yang tidak realistis.\",\n",
    "    \"Tindakan korupsi yang dilakukan oleh pejabat tinggi harus ditindak tegas.\",\n",
    "    \"Perubahan undang-undang ini sangat penting untuk melindungi hak-hak pekerja.\",\n",
    "    \"Diskusi tentang kebijakan luar negeri semakin memanas, banyak pihak yang berbeda pendapat.\",\n",
    "    \"Partai oposisi mengkritik keras kebijakan ekonomi pemerintah yang dianggap tidak efektif.\",\n",
    "    \"Rencana pembangunan infrastruktur baru di wilayah timur sangat disambut baik oleh masyarakat.\"\n",
    "]\n",
    "   \n",
    "# Memprediksi sentimen untuk setiap kalimat dan menyimpan hasil ke DataFrame\n",
    "results = []\n",
    "\n",
    "for sentence in test_sentences:\n",
    "    predicted_label = predict_sentiment(model, tokenizer, sentence)\n",
    "    results.append({\"Teks\": sentence, \"Label Sentimen\": predicted_label})\n",
    "\n",
    "# Membuat DataFrame\n",
    "df = pd.DataFrame(results)\n",
    "\n",
    "# Menyimpan DataFrame ke file CSV\n",
    "# df.to_csv('prediksi_sentimen-cnn-lstm.csv', index=False)\n",
    "\n",
    "df"
   ]
  },
  {
   "cell_type": "code",
   "execution_count": 38,
   "metadata": {},
   "outputs": [
    {
     "name": "stdout",
     "output_type": "stream",
     "text": [
      "\u001b[1m1/1\u001b[0m \u001b[32m━━━━━━━━━━━━━━━━━━━━\u001b[0m\u001b[37m\u001b[0m \u001b[1m0s\u001b[0m 35ms/step\n",
      "[[0.00596122]]\n",
      "Label Sentimen: Negatif\n"
     ]
    }
   ],
   "source": [
    "def predict_sentiment(model, tokenizer, text):\n",
    "    # Tokenisasi teks\n",
    "    sample_seq = tokenizer.texts_to_sequences([text])\n",
    "    sample_padded = pad_sequences(sample_seq, maxlen=max_length, truncating=trunc_type, padding=\"post\")\n",
    "    \n",
    "    # Prediksi sentimen menggunakan model\n",
    "    prediction = model.predict(sample_padded)\n",
    "    print(prediction)\n",
    "    # Mengembalikan label sentimen berdasarkan output model\n",
    "    if prediction >= 0.5:\n",
    "        return \"Positif\"\n",
    "    else:\n",
    "        return \"Negatif\"\n",
    "\n",
    "# Menggunakan fungsi untuk memprediksi sentimen dari contoh kalimat\n",
    "sample_text = \"pakai memoisturizer ini jelek\"\n",
    "predicted_label = predict_sentiment(model, tokenizer, sample_text)\n",
    "print(\"Label Sentimen:\", predicted_label)\n",
    "   \n"
   ]
  },
  {
   "cell_type": "code",
   "execution_count": 39,
   "metadata": {},
   "outputs": [
    {
     "name": "stdout",
     "output_type": "stream",
     "text": [
      "\u001b[1m129/129\u001b[0m \u001b[32m━━━━━━━━━━━━━━━━━━━━\u001b[0m\u001b[37m\u001b[0m \u001b[1m2s\u001b[0m 6ms/step\n",
      "              precision    recall  f1-score   support\n",
      "\n",
      "           0       0.81      0.87      0.84      1914\n",
      "           1       0.88      0.82      0.85      2206\n",
      "\n",
      "    accuracy                           0.85      4120\n",
      "   macro avg       0.85      0.85      0.85      4120\n",
      "weighted avg       0.85      0.85      0.85      4120\n",
      "\n"
     ]
    }
   ],
   "source": [
    "from sklearn.metrics import classification_report\n",
    "\n",
    "# Melakukan prediksi pada data uji\n",
    "y_pred = model.predict(valid_padded)\n",
    "y_pred_classes = (y_pred >= 0.5).astype(int)\n",
    "\n",
    "# Mencetak classification report\n",
    "print(classification_report(y_valid, y_pred_classes))"
   ]
  },
  {
   "cell_type": "code",
   "execution_count": 40,
   "metadata": {},
   "outputs": [
    {
     "data": {
      "image/png": "[encoded data removed]",
      "text/plain": [
       "<Figure size 640x480 with 1 Axes>"
      ]
     },
     "metadata": {},
     "output_type": "display_data"
    }
   ],
   "source": [
    "# create a confusion matrix\n",
    "from sklearn.metrics import confusion_matrix\n",
    "import seaborn as sns\n",
    "\n",
    "# Membuat confusion matrix\n",
    "cm = confusion_matrix(y_valid, y_pred_classes)\n",
    "\n",
    "# Membuat heatmap dari confusion matrix\n",
    "sns.heatmap(cm, annot=True, fmt=\"d\", cmap=\"Blues\", cbar=False, annot_kws={\"size\": 16})\n",
    "plt.xlabel(\"Predicted Label\")\n",
    "plt.ylabel(\"True Label\")\n",
    "plt.title(\"Confusion Matrix\")\n",
    "plt.show()\n"
   ]
  },
  {
   "cell_type": "code",
   "execution_count": 60,
   "metadata": {},
   "outputs": [
    {
     "name": "stdout",
     "output_type": "stream",
     "text": [
      "[[1752  186]\n",
      " [ 462 1674]]\n"
     ]
    }
   ],
   "source": [
    "print(cm)"
   ]
  },
  {
   "cell_type": "code",
   "execution_count": 176,
   "metadata": {},
   "outputs": [],
   "source": [
    "# from sklearn.model_selection import KFold\n",
    "# import numpy as np\n",
    "# import tensorflow as tf\n",
    "# from tensorflow.keras.preprocessing.text import Tokenizer\n",
    "# from tensorflow.keras.preprocessing.sequence import pad_sequences\n",
    "\n",
    "# # Hyperparameters\n",
    "# vocab_size = 23000\n",
    "# oov_tok = \"<OOV>\"\n",
    "# max_length = 100\n",
    "# trunc_type = 'post'\n",
    "# embedding_dim = 8\n",
    "# num_folds = 5\n",
    "\n",
    "# # Prepare the tokenizer and word index\n",
    "# all_texts = list(X_train) + list(X_valid)\n",
    "# tokenizer = Tokenizer(num_words=vocab_size, oov_token=oov_tok)\n",
    "# tokenizer.fit_on_texts(all_texts)\n",
    "# word_index = tokenizer.word_index\n",
    "\n",
    "# # Convert the sentences into sequences\n",
    "# train_sequences = tokenizer.texts_to_sequences(X_train)\n",
    "# train_padded = pad_sequences(train_sequences, maxlen=max_length, truncating=trunc_type)\n",
    "\n",
    "# valid_sequences = tokenizer.texts_to_sequences(X_valid)\n",
    "# valid_padded = pad_sequences(valid_sequences, maxlen=max_length, truncating=trunc_type)\n",
    "\n",
    "# # Combine training and validation data for K-Fold\n",
    "# X = np.concatenate((train_padded, valid_padded), axis=0)\n",
    "# y = np.concatenate((y_train, y_valid), axis=0)\n",
    "\n",
    "# # K-Fold Cross Validation\n",
    "# kf = KFold(n_splits=num_folds, shuffle=True, random_state=42)\n",
    "\n",
    "# fold_no = 1\n",
    "# for train_index, valid_index in kf.split(X):\n",
    "#     print(f'Training fold {fold_no} ...')\n",
    "\n",
    "#     # Split data\n",
    "#     X_train_fold, X_valid_fold = X[train_index], X[valid_index]\n",
    "#     y_train_fold, y_valid_fold = y[train_index], y[valid_index]\n",
    "\n",
    "#     # Build the model\n",
    "#     model = tf.keras.Sequential([\n",
    "#         tf.keras.layers.Embedding(vocab_size, embedding_dim, input_shape=(max_length,)),\n",
    "#         tf.keras.layers.Conv1D(128, 5, activation='relu', padding='same'),\n",
    "#         tf.keras.layers.MaxPooling1D(pool_size=2),\n",
    "#         tf.keras.layers.LSTM(100),\n",
    "#         tf.keras.layers.Dense(16, activation='relu'),\n",
    "#         tf.keras.layers.Dropout(0.5),\n",
    "#         tf.keras.layers.Dense(1, activation='sigmoid')\n",
    "#     ])\n",
    "\n",
    "#     model.compile(loss='binary_crossentropy', optimizer='adam', metrics=['accuracy'])\n",
    "\n",
    "#     # Train the model\n",
    "#     history = model.fit(X_train_fold, y_train_fold, epochs=4, validation_data=(X_valid_fold, y_valid_fold))\n",
    "\n",
    "#     print(f'Fold {fold_no} completed')\n",
    "\n",
    "#     fold_no += 1\n",
    "\n",
    "# # Evaluate the final model on all data (optional)\n",
    "# final_loss, final_accuracy = model.evaluate(X, y)\n",
    "# print(f'Final loss: {final_loss}, Final accuracy: {final_accuracy}')\n"
   ]
  },
  {
   "cell_type": "code",
   "execution_count": 150,
   "metadata": {},
   "outputs": [
    {
     "name": "stderr",
     "output_type": "stream",
     "text": [
      "WARNING:absl:You are saving your model as an HDF5 file via `model.save()` or `keras.saving.save_model(model)`. This file format is considered legacy. We recommend using instead the native Keras format, e.g. `model.save('my_model.keras')` or `keras.saving.save_model(model, 'my_model.keras')`. \n"
     ]
    }
   ],
   "source": [
    "#save model\n",
    "# model.save('./model/model-cnn-lstm.h5')\n",
    "# model.save('./model/model-ls.h5')"
   ]
  }
 ],
 "metadata": {
  "kernelspec": {
   "display_name": "Python 3",
   "language": "python",
   "name": "python3"
  },
  "language_info": {
   "codemirror_mode": {
    "name": "ipython",
    "version": 3
   },
   "file_extension": ".py",
   "mimetype": "text/x-python",
   "name": "python",
   "nbconvert_exporter": "python",
   "pygments_lexer": "ipython3",
   "version": "3.9.2"
  }
 },
 "nbformat": 4,
 "nbformat_minor": 2
}
